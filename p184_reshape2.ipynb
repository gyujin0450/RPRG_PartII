{
  "nbformat": 4,
  "nbformat_minor": 0,
  "metadata": {
    "colab": {
      "name": "p184_reshape2.ipynb",
      "provenance": [],
      "collapsed_sections": [],
      "authorship_tag": "ABX9TyO2QHYV1nyY5m6RpBW00t+Z",
      "include_colab_link": true
    },
    "kernelspec": {
      "name": "ir",
      "display_name": "R"
    }
  },
  "cells": [
    {
      "cell_type": "markdown",
      "metadata": {
        "id": "view-in-github",
        "colab_type": "text"
      },
      "source": [
        "<a href=\"https://colab.research.google.com/github/gyujin0450/RPRG_PartII/blob/master/p184_reshape2.ipynb\" target=\"_parent\"><img src=\"https://colab.research.google.com/assets/colab-badge.svg\" alt=\"Open In Colab\"/></a>"
      ]
    },
    {
      "cell_type": "markdown",
      "metadata": {
        "id": "ZwvXr6DC9zVZ"
      },
      "source": [
        "# ch06.2 reshape2"
      ]
    },
    {
      "cell_type": "code",
      "metadata": {
        "id": "4bTRAPKN-BYR",
        "outputId": "2e0d66be-40c0-466a-e4e2-0288dc894aa5",
        "colab": {
          "base_uri": "https://localhost:8080/",
          "height": 125
        }
      },
      "source": [
        "install.packages(\"reshape2\")\n",
        "library(reshape2)"
      ],
      "execution_count": 2,
      "outputs": [
        {
          "output_type": "stream",
          "text": [
            "Installing package into ‘/usr/local/lib/R/site-library’\n",
            "(as ‘lib’ is unspecified)\n",
            "\n",
            "also installing the dependency ‘plyr’\n",
            "\n",
            "\n"
          ],
          "name": "stderr"
        }
      ]
    },
    {
      "cell_type": "code",
      "metadata": {
        "id": "U5exd-fGAUV9",
        "outputId": "8714359d-fd06-41e7-f4b4-9668e61922f2",
        "colab": {
          "base_uri": "https://localhost:8080/",
          "height": 540
        }
      },
      "source": [
        "data <- read.csv('data.csv')\n",
        "data"
      ],
      "execution_count": 5,
      "outputs": [
        {
          "output_type": "display_data",
          "data": {
            "text/plain": [
              "   Date     Customer_ID Buy\n",
              "1  20150101 1           3  \n",
              "2  20150101 2           4  \n",
              "3  20150102 1           2  \n",
              "4  20150101 2           3  \n",
              "5  20150101 1           2  \n",
              "6  20150103 2           3  \n",
              "7  20150102 4           6  \n",
              "8  20150102 5           1  \n",
              "9  20150103 1           5  \n",
              "10 20150103 2           1  \n",
              "11 20150103 4           8  \n",
              "12 20150107 3           4  \n",
              "13 20150107 5           3  \n",
              "14 20150103 5           5  \n",
              "15 20150104 1           5  \n",
              "16 20150104 2           8  \n",
              "17 20150104 3           5  \n",
              "18 20150105 5           6  \n",
              "19 20150106 2           6  \n",
              "20 20150106 3           6  \n",
              "21 20150107 1           9  \n",
              "22 20150107 5           7  "
            ],
            "text/latex": "A data.frame: 22 × 3\n\\begin{tabular}{lll}\n Date & Customer\\_ID & Buy\\\\\n <int> & <int> & <int>\\\\\n\\hline\n\t 20150101 & 1 & 3\\\\\n\t 20150101 & 2 & 4\\\\\n\t 20150102 & 1 & 2\\\\\n\t 20150101 & 2 & 3\\\\\n\t 20150101 & 1 & 2\\\\\n\t 20150103 & 2 & 3\\\\\n\t 20150102 & 4 & 6\\\\\n\t 20150102 & 5 & 1\\\\\n\t 20150103 & 1 & 5\\\\\n\t 20150103 & 2 & 1\\\\\n\t 20150103 & 4 & 8\\\\\n\t 20150107 & 3 & 4\\\\\n\t 20150107 & 5 & 3\\\\\n\t 20150103 & 5 & 5\\\\\n\t 20150104 & 1 & 5\\\\\n\t 20150104 & 2 & 8\\\\\n\t 20150104 & 3 & 5\\\\\n\t 20150105 & 5 & 6\\\\\n\t 20150106 & 2 & 6\\\\\n\t 20150106 & 3 & 6\\\\\n\t 20150107 & 1 & 9\\\\\n\t 20150107 & 5 & 7\\\\\n\\end{tabular}\n",
            "text/markdown": "\nA data.frame: 22 × 3\n\n| Date &lt;int&gt; | Customer_ID &lt;int&gt; | Buy &lt;int&gt; |\n|---|---|---|\n| 20150101 | 1 | 3 |\n| 20150101 | 2 | 4 |\n| 20150102 | 1 | 2 |\n| 20150101 | 2 | 3 |\n| 20150101 | 1 | 2 |\n| 20150103 | 2 | 3 |\n| 20150102 | 4 | 6 |\n| 20150102 | 5 | 1 |\n| 20150103 | 1 | 5 |\n| 20150103 | 2 | 1 |\n| 20150103 | 4 | 8 |\n| 20150107 | 3 | 4 |\n| 20150107 | 5 | 3 |\n| 20150103 | 5 | 5 |\n| 20150104 | 1 | 5 |\n| 20150104 | 2 | 8 |\n| 20150104 | 3 | 5 |\n| 20150105 | 5 | 6 |\n| 20150106 | 2 | 6 |\n| 20150106 | 3 | 6 |\n| 20150107 | 1 | 9 |\n| 20150107 | 5 | 7 |\n\n",
            "text/html": [
              "<table>\n",
              "<caption>A data.frame: 22 × 3</caption>\n",
              "<thead>\n",
              "\t<tr><th scope=col>Date</th><th scope=col>Customer_ID</th><th scope=col>Buy</th></tr>\n",
              "\t<tr><th scope=col>&lt;int&gt;</th><th scope=col>&lt;int&gt;</th><th scope=col>&lt;int&gt;</th></tr>\n",
              "</thead>\n",
              "<tbody>\n",
              "\t<tr><td>20150101</td><td>1</td><td>3</td></tr>\n",
              "\t<tr><td>20150101</td><td>2</td><td>4</td></tr>\n",
              "\t<tr><td>20150102</td><td>1</td><td>2</td></tr>\n",
              "\t<tr><td>20150101</td><td>2</td><td>3</td></tr>\n",
              "\t<tr><td>20150101</td><td>1</td><td>2</td></tr>\n",
              "\t<tr><td>20150103</td><td>2</td><td>3</td></tr>\n",
              "\t<tr><td>20150102</td><td>4</td><td>6</td></tr>\n",
              "\t<tr><td>20150102</td><td>5</td><td>1</td></tr>\n",
              "\t<tr><td>20150103</td><td>1</td><td>5</td></tr>\n",
              "\t<tr><td>20150103</td><td>2</td><td>1</td></tr>\n",
              "\t<tr><td>20150103</td><td>4</td><td>8</td></tr>\n",
              "\t<tr><td>20150107</td><td>3</td><td>4</td></tr>\n",
              "\t<tr><td>20150107</td><td>5</td><td>3</td></tr>\n",
              "\t<tr><td>20150103</td><td>5</td><td>5</td></tr>\n",
              "\t<tr><td>20150104</td><td>1</td><td>5</td></tr>\n",
              "\t<tr><td>20150104</td><td>2</td><td>8</td></tr>\n",
              "\t<tr><td>20150104</td><td>3</td><td>5</td></tr>\n",
              "\t<tr><td>20150105</td><td>5</td><td>6</td></tr>\n",
              "\t<tr><td>20150106</td><td>2</td><td>6</td></tr>\n",
              "\t<tr><td>20150106</td><td>3</td><td>6</td></tr>\n",
              "\t<tr><td>20150107</td><td>1</td><td>9</td></tr>\n",
              "\t<tr><td>20150107</td><td>5</td><td>7</td></tr>\n",
              "</tbody>\n",
              "</table>\n"
            ]
          },
          "metadata": {
            "tags": []
          }
        }
      ]
    },
    {
      "cell_type": "code",
      "metadata": {
        "id": "kwF0w_c3An_W",
        "outputId": "e54786c6-ac33-4c94-8b05-d29eeed42036",
        "colab": {
          "base_uri": "https://localhost:8080/",
          "height": 219
        }
      },
      "source": [
        "# 넓은 형식(wide format)으로 변경하기 --> 엑셀의 피봇결과와 동일\n",
        "# dcast(데이터셋, 앞변수 ~ 뒷변수, 적용함수)\n",
        "wide <- dcast(data, Customer_ID ~ Date, sum)\n",
        "wide"
      ],
      "execution_count": 6,
      "outputs": [
        {
          "output_type": "stream",
          "text": [
            "Using Buy as value column: use value.var to override.\n",
            "\n"
          ],
          "name": "stderr"
        },
        {
          "output_type": "display_data",
          "data": {
            "text/plain": [
              "  Customer_ID 20150101 20150102 20150103 20150104 20150105 20150106 20150107\n",
              "1 1           5        2        5        5        0        0         9      \n",
              "2 2           7        0        4        8        0        6         0      \n",
              "3 3           0        0        0        5        0        6         4      \n",
              "4 4           0        6        8        0        0        0         0      \n",
              "5 5           0        1        5        0        6        0        10      "
            ],
            "text/latex": "A data.frame: 5 × 8\n\\begin{tabular}{llllllll}\n Customer\\_ID & 20150101 & 20150102 & 20150103 & 20150104 & 20150105 & 20150106 & 20150107\\\\\n <int> & <int> & <int> & <int> & <int> & <int> & <int> & <int>\\\\\n\\hline\n\t 1 & 5 & 2 & 5 & 5 & 0 & 0 &  9\\\\\n\t 2 & 7 & 0 & 4 & 8 & 0 & 6 &  0\\\\\n\t 3 & 0 & 0 & 0 & 5 & 0 & 6 &  4\\\\\n\t 4 & 0 & 6 & 8 & 0 & 0 & 0 &  0\\\\\n\t 5 & 0 & 1 & 5 & 0 & 6 & 0 & 10\\\\\n\\end{tabular}\n",
            "text/markdown": "\nA data.frame: 5 × 8\n\n| Customer_ID &lt;int&gt; | 20150101 &lt;int&gt; | 20150102 &lt;int&gt; | 20150103 &lt;int&gt; | 20150104 &lt;int&gt; | 20150105 &lt;int&gt; | 20150106 &lt;int&gt; | 20150107 &lt;int&gt; |\n|---|---|---|---|---|---|---|---|\n| 1 | 5 | 2 | 5 | 5 | 0 | 0 |  9 |\n| 2 | 7 | 0 | 4 | 8 | 0 | 6 |  0 |\n| 3 | 0 | 0 | 0 | 5 | 0 | 6 |  4 |\n| 4 | 0 | 6 | 8 | 0 | 0 | 0 |  0 |\n| 5 | 0 | 1 | 5 | 0 | 6 | 0 | 10 |\n\n",
            "text/html": [
              "<table>\n",
              "<caption>A data.frame: 5 × 8</caption>\n",
              "<thead>\n",
              "\t<tr><th scope=col>Customer_ID</th><th scope=col>20150101</th><th scope=col>20150102</th><th scope=col>20150103</th><th scope=col>20150104</th><th scope=col>20150105</th><th scope=col>20150106</th><th scope=col>20150107</th></tr>\n",
              "\t<tr><th scope=col>&lt;int&gt;</th><th scope=col>&lt;int&gt;</th><th scope=col>&lt;int&gt;</th><th scope=col>&lt;int&gt;</th><th scope=col>&lt;int&gt;</th><th scope=col>&lt;int&gt;</th><th scope=col>&lt;int&gt;</th><th scope=col>&lt;int&gt;</th></tr>\n",
              "</thead>\n",
              "<tbody>\n",
              "\t<tr><td>1</td><td>5</td><td>2</td><td>5</td><td>5</td><td>0</td><td>0</td><td> 9</td></tr>\n",
              "\t<tr><td>2</td><td>7</td><td>0</td><td>4</td><td>8</td><td>0</td><td>6</td><td> 0</td></tr>\n",
              "\t<tr><td>3</td><td>0</td><td>0</td><td>0</td><td>5</td><td>0</td><td>6</td><td> 4</td></tr>\n",
              "\t<tr><td>4</td><td>0</td><td>6</td><td>8</td><td>0</td><td>0</td><td>0</td><td> 0</td></tr>\n",
              "\t<tr><td>5</td><td>0</td><td>1</td><td>5</td><td>0</td><td>6</td><td>0</td><td>10</td></tr>\n",
              "</tbody>\n",
              "</table>\n"
            ]
          },
          "metadata": {
            "tags": []
          }
        }
      ]
    },
    {
      "cell_type": "code",
      "metadata": {
        "id": "aGzH29V2BwBH",
        "outputId": "5953819c-0ac4-49ab-ddb7-ef280d720bae",
        "colab": {
          "base_uri": "https://localhost:8080/",
          "height": 349
        }
      },
      "source": [
        "write.csv(wide, \"wide.csv\", row.names = FALSE)\n",
        "wide <- read.csv(\"wide.csv\")\n",
        "wide\n",
        "colnames(wide) <- c(\"Customer_ID\",\"day1\",\"day2\",\"day3\",\"day4\",\"day5\",\"day6\",\"day7\")\n",
        "wide"
      ],
      "execution_count": 7,
      "outputs": [
        {
          "output_type": "display_data",
          "data": {
            "text/plain": [
              "  Customer_ID X20150101 X20150102 X20150103 X20150104 X20150105 X20150106\n",
              "1 1           5         2         5         5         0         0        \n",
              "2 2           7         0         4         8         0         6        \n",
              "3 3           0         0         0         5         0         6        \n",
              "4 4           0         6         8         0         0         0        \n",
              "5 5           0         1         5         0         6         0        \n",
              "  X20150107\n",
              "1  9       \n",
              "2  0       \n",
              "3  4       \n",
              "4  0       \n",
              "5 10       "
            ],
            "text/latex": "A data.frame: 5 × 8\n\\begin{tabular}{llllllll}\n Customer\\_ID & X20150101 & X20150102 & X20150103 & X20150104 & X20150105 & X20150106 & X20150107\\\\\n <int> & <int> & <int> & <int> & <int> & <int> & <int> & <int>\\\\\n\\hline\n\t 1 & 5 & 2 & 5 & 5 & 0 & 0 &  9\\\\\n\t 2 & 7 & 0 & 4 & 8 & 0 & 6 &  0\\\\\n\t 3 & 0 & 0 & 0 & 5 & 0 & 6 &  4\\\\\n\t 4 & 0 & 6 & 8 & 0 & 0 & 0 &  0\\\\\n\t 5 & 0 & 1 & 5 & 0 & 6 & 0 & 10\\\\\n\\end{tabular}\n",
            "text/markdown": "\nA data.frame: 5 × 8\n\n| Customer_ID &lt;int&gt; | X20150101 &lt;int&gt; | X20150102 &lt;int&gt; | X20150103 &lt;int&gt; | X20150104 &lt;int&gt; | X20150105 &lt;int&gt; | X20150106 &lt;int&gt; | X20150107 &lt;int&gt; |\n|---|---|---|---|---|---|---|---|\n| 1 | 5 | 2 | 5 | 5 | 0 | 0 |  9 |\n| 2 | 7 | 0 | 4 | 8 | 0 | 6 |  0 |\n| 3 | 0 | 0 | 0 | 5 | 0 | 6 |  4 |\n| 4 | 0 | 6 | 8 | 0 | 0 | 0 |  0 |\n| 5 | 0 | 1 | 5 | 0 | 6 | 0 | 10 |\n\n",
            "text/html": [
              "<table>\n",
              "<caption>A data.frame: 5 × 8</caption>\n",
              "<thead>\n",
              "\t<tr><th scope=col>Customer_ID</th><th scope=col>X20150101</th><th scope=col>X20150102</th><th scope=col>X20150103</th><th scope=col>X20150104</th><th scope=col>X20150105</th><th scope=col>X20150106</th><th scope=col>X20150107</th></tr>\n",
              "\t<tr><th scope=col>&lt;int&gt;</th><th scope=col>&lt;int&gt;</th><th scope=col>&lt;int&gt;</th><th scope=col>&lt;int&gt;</th><th scope=col>&lt;int&gt;</th><th scope=col>&lt;int&gt;</th><th scope=col>&lt;int&gt;</th><th scope=col>&lt;int&gt;</th></tr>\n",
              "</thead>\n",
              "<tbody>\n",
              "\t<tr><td>1</td><td>5</td><td>2</td><td>5</td><td>5</td><td>0</td><td>0</td><td> 9</td></tr>\n",
              "\t<tr><td>2</td><td>7</td><td>0</td><td>4</td><td>8</td><td>0</td><td>6</td><td> 0</td></tr>\n",
              "\t<tr><td>3</td><td>0</td><td>0</td><td>0</td><td>5</td><td>0</td><td>6</td><td> 4</td></tr>\n",
              "\t<tr><td>4</td><td>0</td><td>6</td><td>8</td><td>0</td><td>0</td><td>0</td><td> 0</td></tr>\n",
              "\t<tr><td>5</td><td>0</td><td>1</td><td>5</td><td>0</td><td>6</td><td>0</td><td>10</td></tr>\n",
              "</tbody>\n",
              "</table>\n"
            ]
          },
          "metadata": {
            "tags": []
          }
        },
        {
          "output_type": "display_data",
          "data": {
            "text/plain": [
              "  Customer_ID day1 day2 day3 day4 day5 day6 day7\n",
              "1 1           5    2    5    5    0    0     9  \n",
              "2 2           7    0    4    8    0    6     0  \n",
              "3 3           0    0    0    5    0    6     4  \n",
              "4 4           0    6    8    0    0    0     0  \n",
              "5 5           0    1    5    0    6    0    10  "
            ],
            "text/latex": "A data.frame: 5 × 8\n\\begin{tabular}{llllllll}\n Customer\\_ID & day1 & day2 & day3 & day4 & day5 & day6 & day7\\\\\n <int> & <int> & <int> & <int> & <int> & <int> & <int> & <int>\\\\\n\\hline\n\t 1 & 5 & 2 & 5 & 5 & 0 & 0 &  9\\\\\n\t 2 & 7 & 0 & 4 & 8 & 0 & 6 &  0\\\\\n\t 3 & 0 & 0 & 0 & 5 & 0 & 6 &  4\\\\\n\t 4 & 0 & 6 & 8 & 0 & 0 & 0 &  0\\\\\n\t 5 & 0 & 1 & 5 & 0 & 6 & 0 & 10\\\\\n\\end{tabular}\n",
            "text/markdown": "\nA data.frame: 5 × 8\n\n| Customer_ID &lt;int&gt; | day1 &lt;int&gt; | day2 &lt;int&gt; | day3 &lt;int&gt; | day4 &lt;int&gt; | day5 &lt;int&gt; | day6 &lt;int&gt; | day7 &lt;int&gt; |\n|---|---|---|---|---|---|---|---|\n| 1 | 5 | 2 | 5 | 5 | 0 | 0 |  9 |\n| 2 | 7 | 0 | 4 | 8 | 0 | 6 |  0 |\n| 3 | 0 | 0 | 0 | 5 | 0 | 6 |  4 |\n| 4 | 0 | 6 | 8 | 0 | 0 | 0 |  0 |\n| 5 | 0 | 1 | 5 | 0 | 6 | 0 | 10 |\n\n",
            "text/html": [
              "<table>\n",
              "<caption>A data.frame: 5 × 8</caption>\n",
              "<thead>\n",
              "\t<tr><th scope=col>Customer_ID</th><th scope=col>day1</th><th scope=col>day2</th><th scope=col>day3</th><th scope=col>day4</th><th scope=col>day5</th><th scope=col>day6</th><th scope=col>day7</th></tr>\n",
              "\t<tr><th scope=col>&lt;int&gt;</th><th scope=col>&lt;int&gt;</th><th scope=col>&lt;int&gt;</th><th scope=col>&lt;int&gt;</th><th scope=col>&lt;int&gt;</th><th scope=col>&lt;int&gt;</th><th scope=col>&lt;int&gt;</th><th scope=col>&lt;int&gt;</th></tr>\n",
              "</thead>\n",
              "<tbody>\n",
              "\t<tr><td>1</td><td>5</td><td>2</td><td>5</td><td>5</td><td>0</td><td>0</td><td> 9</td></tr>\n",
              "\t<tr><td>2</td><td>7</td><td>0</td><td>4</td><td>8</td><td>0</td><td>6</td><td> 0</td></tr>\n",
              "\t<tr><td>3</td><td>0</td><td>0</td><td>0</td><td>5</td><td>0</td><td>6</td><td> 4</td></tr>\n",
              "\t<tr><td>4</td><td>0</td><td>6</td><td>8</td><td>0</td><td>0</td><td>0</td><td> 0</td></tr>\n",
              "\t<tr><td>5</td><td>0</td><td>1</td><td>5</td><td>0</td><td>6</td><td>0</td><td>10</td></tr>\n",
              "</tbody>\n",
              "</table>\n"
            ]
          },
          "metadata": {
            "tags": []
          }
        }
      ]
    },
    {
      "cell_type": "code",
      "metadata": {
        "id": "DEQEadGPCvQo",
        "outputId": "70492c68-c79e-4bed-9767-949718b0c21e",
        "colab": {
          "base_uri": "https://localhost:8080/",
          "height": 813
        }
      },
      "source": [
        "# 넓은 형식을 긴 형식으로 변경\n",
        "# melt(데이터셋, id='컬럼명')\n",
        "long <- melt(wide, id='Customer_ID')\n",
        "long"
      ],
      "execution_count": 8,
      "outputs": [
        {
          "output_type": "display_data",
          "data": {
            "text/plain": [
              "   Customer_ID variable value\n",
              "1  1           day1      5   \n",
              "2  2           day1      7   \n",
              "3  3           day1      0   \n",
              "4  4           day1      0   \n",
              "5  5           day1      0   \n",
              "6  1           day2      2   \n",
              "7  2           day2      0   \n",
              "8  3           day2      0   \n",
              "9  4           day2      6   \n",
              "10 5           day2      1   \n",
              "11 1           day3      5   \n",
              "12 2           day3      4   \n",
              "13 3           day3      0   \n",
              "14 4           day3      8   \n",
              "15 5           day3      5   \n",
              "16 1           day4      5   \n",
              "17 2           day4      8   \n",
              "18 3           day4      5   \n",
              "19 4           day4      0   \n",
              "20 5           day4      0   \n",
              "21 1           day5      0   \n",
              "22 2           day5      0   \n",
              "23 3           day5      0   \n",
              "24 4           day5      0   \n",
              "25 5           day5      6   \n",
              "26 1           day6      0   \n",
              "27 2           day6      6   \n",
              "28 3           day6      6   \n",
              "29 4           day6      0   \n",
              "30 5           day6      0   \n",
              "31 1           day7      9   \n",
              "32 2           day7      0   \n",
              "33 3           day7      4   \n",
              "34 4           day7      0   \n",
              "35 5           day7     10   "
            ],
            "text/latex": "A data.frame: 35 × 3\n\\begin{tabular}{lll}\n Customer\\_ID & variable & value\\\\\n <int> & <fct> & <int>\\\\\n\\hline\n\t 1 & day1 &  5\\\\\n\t 2 & day1 &  7\\\\\n\t 3 & day1 &  0\\\\\n\t 4 & day1 &  0\\\\\n\t 5 & day1 &  0\\\\\n\t 1 & day2 &  2\\\\\n\t 2 & day2 &  0\\\\\n\t 3 & day2 &  0\\\\\n\t 4 & day2 &  6\\\\\n\t 5 & day2 &  1\\\\\n\t 1 & day3 &  5\\\\\n\t 2 & day3 &  4\\\\\n\t 3 & day3 &  0\\\\\n\t 4 & day3 &  8\\\\\n\t 5 & day3 &  5\\\\\n\t 1 & day4 &  5\\\\\n\t 2 & day4 &  8\\\\\n\t 3 & day4 &  5\\\\\n\t 4 & day4 &  0\\\\\n\t 5 & day4 &  0\\\\\n\t 1 & day5 &  0\\\\\n\t 2 & day5 &  0\\\\\n\t 3 & day5 &  0\\\\\n\t 4 & day5 &  0\\\\\n\t 5 & day5 &  6\\\\\n\t 1 & day6 &  0\\\\\n\t 2 & day6 &  6\\\\\n\t 3 & day6 &  6\\\\\n\t 4 & day6 &  0\\\\\n\t 5 & day6 &  0\\\\\n\t 1 & day7 &  9\\\\\n\t 2 & day7 &  0\\\\\n\t 3 & day7 &  4\\\\\n\t 4 & day7 &  0\\\\\n\t 5 & day7 & 10\\\\\n\\end{tabular}\n",
            "text/markdown": "\nA data.frame: 35 × 3\n\n| Customer_ID &lt;int&gt; | variable &lt;fct&gt; | value &lt;int&gt; |\n|---|---|---|\n| 1 | day1 |  5 |\n| 2 | day1 |  7 |\n| 3 | day1 |  0 |\n| 4 | day1 |  0 |\n| 5 | day1 |  0 |\n| 1 | day2 |  2 |\n| 2 | day2 |  0 |\n| 3 | day2 |  0 |\n| 4 | day2 |  6 |\n| 5 | day2 |  1 |\n| 1 | day3 |  5 |\n| 2 | day3 |  4 |\n| 3 | day3 |  0 |\n| 4 | day3 |  8 |\n| 5 | day3 |  5 |\n| 1 | day4 |  5 |\n| 2 | day4 |  8 |\n| 3 | day4 |  5 |\n| 4 | day4 |  0 |\n| 5 | day4 |  0 |\n| 1 | day5 |  0 |\n| 2 | day5 |  0 |\n| 3 | day5 |  0 |\n| 4 | day5 |  0 |\n| 5 | day5 |  6 |\n| 1 | day6 |  0 |\n| 2 | day6 |  6 |\n| 3 | day6 |  6 |\n| 4 | day6 |  0 |\n| 5 | day6 |  0 |\n| 1 | day7 |  9 |\n| 2 | day7 |  0 |\n| 3 | day7 |  4 |\n| 4 | day7 |  0 |\n| 5 | day7 | 10 |\n\n",
            "text/html": [
              "<table>\n",
              "<caption>A data.frame: 35 × 3</caption>\n",
              "<thead>\n",
              "\t<tr><th scope=col>Customer_ID</th><th scope=col>variable</th><th scope=col>value</th></tr>\n",
              "\t<tr><th scope=col>&lt;int&gt;</th><th scope=col>&lt;fct&gt;</th><th scope=col>&lt;int&gt;</th></tr>\n",
              "</thead>\n",
              "<tbody>\n",
              "\t<tr><td>1</td><td>day1</td><td> 5</td></tr>\n",
              "\t<tr><td>2</td><td>day1</td><td> 7</td></tr>\n",
              "\t<tr><td>3</td><td>day1</td><td> 0</td></tr>\n",
              "\t<tr><td>4</td><td>day1</td><td> 0</td></tr>\n",
              "\t<tr><td>5</td><td>day1</td><td> 0</td></tr>\n",
              "\t<tr><td>1</td><td>day2</td><td> 2</td></tr>\n",
              "\t<tr><td>2</td><td>day2</td><td> 0</td></tr>\n",
              "\t<tr><td>3</td><td>day2</td><td> 0</td></tr>\n",
              "\t<tr><td>4</td><td>day2</td><td> 6</td></tr>\n",
              "\t<tr><td>5</td><td>day2</td><td> 1</td></tr>\n",
              "\t<tr><td>1</td><td>day3</td><td> 5</td></tr>\n",
              "\t<tr><td>2</td><td>day3</td><td> 4</td></tr>\n",
              "\t<tr><td>3</td><td>day3</td><td> 0</td></tr>\n",
              "\t<tr><td>4</td><td>day3</td><td> 8</td></tr>\n",
              "\t<tr><td>5</td><td>day3</td><td> 5</td></tr>\n",
              "\t<tr><td>1</td><td>day4</td><td> 5</td></tr>\n",
              "\t<tr><td>2</td><td>day4</td><td> 8</td></tr>\n",
              "\t<tr><td>3</td><td>day4</td><td> 5</td></tr>\n",
              "\t<tr><td>4</td><td>day4</td><td> 0</td></tr>\n",
              "\t<tr><td>5</td><td>day4</td><td> 0</td></tr>\n",
              "\t<tr><td>1</td><td>day5</td><td> 0</td></tr>\n",
              "\t<tr><td>2</td><td>day5</td><td> 0</td></tr>\n",
              "\t<tr><td>3</td><td>day5</td><td> 0</td></tr>\n",
              "\t<tr><td>4</td><td>day5</td><td> 0</td></tr>\n",
              "\t<tr><td>5</td><td>day5</td><td> 6</td></tr>\n",
              "\t<tr><td>1</td><td>day6</td><td> 0</td></tr>\n",
              "\t<tr><td>2</td><td>day6</td><td> 6</td></tr>\n",
              "\t<tr><td>3</td><td>day6</td><td> 6</td></tr>\n",
              "\t<tr><td>4</td><td>day6</td><td> 0</td></tr>\n",
              "\t<tr><td>5</td><td>day6</td><td> 0</td></tr>\n",
              "\t<tr><td>1</td><td>day7</td><td> 9</td></tr>\n",
              "\t<tr><td>2</td><td>day7</td><td> 0</td></tr>\n",
              "\t<tr><td>3</td><td>day7</td><td> 4</td></tr>\n",
              "\t<tr><td>4</td><td>day7</td><td> 0</td></tr>\n",
              "\t<tr><td>5</td><td>day7</td><td>10</td></tr>\n",
              "</tbody>\n",
              "</table>\n"
            ]
          },
          "metadata": {
            "tags": []
          }
        }
      ]
    },
    {
      "cell_type": "code",
      "metadata": {
        "id": "8MDOHdjBChMM",
        "outputId": "e60c7a64-1347-4688-d701-2e1ef1ce50f6",
        "colab": {
          "base_uri": "https://localhost:8080/",
          "height": 204
        }
      },
      "source": [
        "name <- c(\"Customer_ID\",\"Date\",\"Buy\")\n",
        "colnames(long) <- name\n",
        "head(long)"
      ],
      "execution_count": 10,
      "outputs": [
        {
          "output_type": "display_data",
          "data": {
            "text/plain": [
              "  Customer_ID Date Buy\n",
              "1 1           day1 5  \n",
              "2 2           day1 7  \n",
              "3 3           day1 0  \n",
              "4 4           day1 0  \n",
              "5 5           day1 0  \n",
              "6 1           day2 2  "
            ],
            "text/latex": "A data.frame: 6 × 3\n\\begin{tabular}{r|lll}\n  & Customer\\_ID & Date & Buy\\\\\n  & <int> & <fct> & <int>\\\\\n\\hline\n\t1 & 1 & day1 & 5\\\\\n\t2 & 2 & day1 & 7\\\\\n\t3 & 3 & day1 & 0\\\\\n\t4 & 4 & day1 & 0\\\\\n\t5 & 5 & day1 & 0\\\\\n\t6 & 1 & day2 & 2\\\\\n\\end{tabular}\n",
            "text/markdown": "\nA data.frame: 6 × 3\n\n| <!--/--> | Customer_ID &lt;int&gt; | Date &lt;fct&gt; | Buy &lt;int&gt; |\n|---|---|---|---|\n| 1 | 1 | day1 | 5 |\n| 2 | 2 | day1 | 7 |\n| 3 | 3 | day1 | 0 |\n| 4 | 4 | day1 | 0 |\n| 5 | 5 | day1 | 0 |\n| 6 | 1 | day2 | 2 |\n\n",
            "text/html": [
              "<table>\n",
              "<caption>A data.frame: 6 × 3</caption>\n",
              "<thead>\n",
              "\t<tr><th></th><th scope=col>Customer_ID</th><th scope=col>Date</th><th scope=col>Buy</th></tr>\n",
              "\t<tr><th></th><th scope=col>&lt;int&gt;</th><th scope=col>&lt;fct&gt;</th><th scope=col>&lt;int&gt;</th></tr>\n",
              "</thead>\n",
              "<tbody>\n",
              "\t<tr><th scope=row>1</th><td>1</td><td>day1</td><td>5</td></tr>\n",
              "\t<tr><th scope=row>2</th><td>2</td><td>day1</td><td>7</td></tr>\n",
              "\t<tr><th scope=row>3</th><td>3</td><td>day1</td><td>0</td></tr>\n",
              "\t<tr><th scope=row>4</th><td>4</td><td>day1</td><td>0</td></tr>\n",
              "\t<tr><th scope=row>5</th><td>5</td><td>day1</td><td>0</td></tr>\n",
              "\t<tr><th scope=row>6</th><td>1</td><td>day2</td><td>2</td></tr>\n",
              "</tbody>\n",
              "</table>\n"
            ]
          },
          "metadata": {
            "tags": []
          }
        }
      ]
    },
    {
      "cell_type": "code",
      "metadata": {
        "id": "X6tkiRvmC6ab",
        "outputId": "9e8e694f-cd98-4ab3-f18b-a07b6b8c7726",
        "colab": {
          "base_uri": "https://localhost:8080/",
          "height": 120
        }
      },
      "source": [
        "data(\"smiths\")\n",
        "smiths"
      ],
      "execution_count": 11,
      "outputs": [
        {
          "output_type": "display_data",
          "data": {
            "text/plain": [
              "  subject    time age weight height\n",
              "1 John Smith 1    33  90     1.87  \n",
              "2 Mary Smith 1    NA  NA     1.54  "
            ],
            "text/latex": "A data.frame: 2 × 5\n\\begin{tabular}{lllll}\n subject & time & age & weight & height\\\\\n <fct> & <int> & <dbl> & <dbl> & <dbl>\\\\\n\\hline\n\t John Smith & 1 & 33 & 90 & 1.87\\\\\n\t Mary Smith & 1 & NA & NA & 1.54\\\\\n\\end{tabular}\n",
            "text/markdown": "\nA data.frame: 2 × 5\n\n| subject &lt;fct&gt; | time &lt;int&gt; | age &lt;dbl&gt; | weight &lt;dbl&gt; | height &lt;dbl&gt; |\n|---|---|---|---|---|\n| John Smith | 1 | 33 | 90 | 1.87 |\n| Mary Smith | 1 | NA | NA | 1.54 |\n\n",
            "text/html": [
              "<table>\n",
              "<caption>A data.frame: 2 × 5</caption>\n",
              "<thead>\n",
              "\t<tr><th scope=col>subject</th><th scope=col>time</th><th scope=col>age</th><th scope=col>weight</th><th scope=col>height</th></tr>\n",
              "\t<tr><th scope=col>&lt;fct&gt;</th><th scope=col>&lt;int&gt;</th><th scope=col>&lt;dbl&gt;</th><th scope=col>&lt;dbl&gt;</th><th scope=col>&lt;dbl&gt;</th></tr>\n",
              "</thead>\n",
              "<tbody>\n",
              "\t<tr><td>John Smith</td><td>1</td><td>33</td><td>90</td><td>1.87</td></tr>\n",
              "\t<tr><td>Mary Smith</td><td>1</td><td>NA</td><td>NA</td><td>1.54</td></tr>\n",
              "</tbody>\n",
              "</table>\n"
            ]
          },
          "metadata": {
            "tags": []
          }
        }
      ]
    },
    {
      "cell_type": "code",
      "metadata": {
        "id": "dQaPhwwXDD5o",
        "outputId": "fefb2698-ff40-40a4-b872-74bcbe83db01",
        "colab": {
          "base_uri": "https://localhost:8080/",
          "height": 204
        }
      },
      "source": [
        "# 파라미터 순서에 관계 없는가?\n",
        "# \n",
        "long <- melt(id =1:2, smiths)\n",
        "long"
      ],
      "execution_count": 14,
      "outputs": [
        {
          "output_type": "display_data",
          "data": {
            "text/plain": [
              "  subject    time variable value\n",
              "1 John Smith 1    age      33.00\n",
              "2 Mary Smith 1    age         NA\n",
              "3 John Smith 1    weight   90.00\n",
              "4 Mary Smith 1    weight      NA\n",
              "5 John Smith 1    height    1.87\n",
              "6 Mary Smith 1    height    1.54"
            ],
            "text/latex": "A data.frame: 6 × 4\n\\begin{tabular}{llll}\n subject & time & variable & value\\\\\n <fct> & <int> & <fct> & <dbl>\\\\\n\\hline\n\t John Smith & 1 & age    & 33.00\\\\\n\t Mary Smith & 1 & age    &    NA\\\\\n\t John Smith & 1 & weight & 90.00\\\\\n\t Mary Smith & 1 & weight &    NA\\\\\n\t John Smith & 1 & height &  1.87\\\\\n\t Mary Smith & 1 & height &  1.54\\\\\n\\end{tabular}\n",
            "text/markdown": "\nA data.frame: 6 × 4\n\n| subject &lt;fct&gt; | time &lt;int&gt; | variable &lt;fct&gt; | value &lt;dbl&gt; |\n|---|---|---|---|\n| John Smith | 1 | age    | 33.00 |\n| Mary Smith | 1 | age    |    NA |\n| John Smith | 1 | weight | 90.00 |\n| Mary Smith | 1 | weight |    NA |\n| John Smith | 1 | height |  1.87 |\n| Mary Smith | 1 | height |  1.54 |\n\n",
            "text/html": [
              "<table>\n",
              "<caption>A data.frame: 6 × 4</caption>\n",
              "<thead>\n",
              "\t<tr><th scope=col>subject</th><th scope=col>time</th><th scope=col>variable</th><th scope=col>value</th></tr>\n",
              "\t<tr><th scope=col>&lt;fct&gt;</th><th scope=col>&lt;int&gt;</th><th scope=col>&lt;fct&gt;</th><th scope=col>&lt;dbl&gt;</th></tr>\n",
              "</thead>\n",
              "<tbody>\n",
              "\t<tr><td>John Smith</td><td>1</td><td>age   </td><td>33.00</td></tr>\n",
              "\t<tr><td>Mary Smith</td><td>1</td><td>age   </td><td>   NA</td></tr>\n",
              "\t<tr><td>John Smith</td><td>1</td><td>weight</td><td>90.00</td></tr>\n",
              "\t<tr><td>Mary Smith</td><td>1</td><td>weight</td><td>   NA</td></tr>\n",
              "\t<tr><td>John Smith</td><td>1</td><td>height</td><td> 1.87</td></tr>\n",
              "\t<tr><td>Mary Smith</td><td>1</td><td>height</td><td> 1.54</td></tr>\n",
              "</tbody>\n",
              "</table>\n"
            ]
          },
          "metadata": {
            "tags": []
          }
        }
      ]
    },
    {
      "cell_type": "code",
      "metadata": {
        "id": "OE8L2mVCEKmN",
        "outputId": "e98993ca-f7d0-4e6b-ead2-ad0ea43d8417",
        "colab": {
          "base_uri": "https://localhost:8080/",
          "height": 120
        }
      },
      "source": [
        "# 긴형식을 넓은 형식으로 변경하기\n",
        "dcast(long, subject + time ~ ...)"
      ],
      "execution_count": 15,
      "outputs": [
        {
          "output_type": "display_data",
          "data": {
            "text/plain": [
              "  subject    time age weight height\n",
              "1 John Smith 1    33  90     1.87  \n",
              "2 Mary Smith 1    NA  NA     1.54  "
            ],
            "text/latex": "A data.frame: 2 × 5\n\\begin{tabular}{lllll}\n subject & time & age & weight & height\\\\\n <fct> & <int> & <dbl> & <dbl> & <dbl>\\\\\n\\hline\n\t John Smith & 1 & 33 & 90 & 1.87\\\\\n\t Mary Smith & 1 & NA & NA & 1.54\\\\\n\\end{tabular}\n",
            "text/markdown": "\nA data.frame: 2 × 5\n\n| subject &lt;fct&gt; | time &lt;int&gt; | age &lt;dbl&gt; | weight &lt;dbl&gt; | height &lt;dbl&gt; |\n|---|---|---|---|---|\n| John Smith | 1 | 33 | 90 | 1.87 |\n| Mary Smith | 1 | NA | NA | 1.54 |\n\n",
            "text/html": [
              "<table>\n",
              "<caption>A data.frame: 2 × 5</caption>\n",
              "<thead>\n",
              "\t<tr><th scope=col>subject</th><th scope=col>time</th><th scope=col>age</th><th scope=col>weight</th><th scope=col>height</th></tr>\n",
              "\t<tr><th scope=col>&lt;fct&gt;</th><th scope=col>&lt;int&gt;</th><th scope=col>&lt;dbl&gt;</th><th scope=col>&lt;dbl&gt;</th><th scope=col>&lt;dbl&gt;</th></tr>\n",
              "</thead>\n",
              "<tbody>\n",
              "\t<tr><td>John Smith</td><td>1</td><td>33</td><td>90</td><td>1.87</td></tr>\n",
              "\t<tr><td>Mary Smith</td><td>1</td><td>NA</td><td>NA</td><td>1.54</td></tr>\n",
              "</tbody>\n",
              "</table>\n"
            ]
          },
          "metadata": {
            "tags": []
          }
        }
      ]
    },
    {
      "cell_type": "code",
      "metadata": {
        "id": "KNRFLbSGEdwp",
        "outputId": "6296abf3-0d31-4e30-d1ee-cea4e02f4410",
        "colab": {
          "base_uri": "https://localhost:8080/",
          "height": 143
        }
      },
      "source": [
        "data('airquality')\n",
        "str(airquality)"
      ],
      "execution_count": 16,
      "outputs": [
        {
          "output_type": "stream",
          "text": [
            "'data.frame':\t153 obs. of  6 variables:\n",
            " $ Ozone  : int  41 36 12 18 NA 28 23 19 8 NA ...\n",
            " $ Solar.R: int  190 118 149 313 NA NA 299 99 19 194 ...\n",
            " $ Wind   : num  7.4 8 12.6 11.5 14.3 14.9 8.6 13.8 20.1 8.6 ...\n",
            " $ Temp   : int  67 72 74 62 56 66 65 59 61 69 ...\n",
            " $ Month  : int  5 5 5 5 5 5 5 5 5 5 ...\n",
            " $ Day    : int  1 2 3 4 5 6 7 8 9 10 ...\n"
          ],
          "name": "stdout"
        }
      ]
    },
    {
      "cell_type": "code",
      "metadata": {
        "id": "aM0zTNABEn1k",
        "outputId": "d4d1c85e-4a1c-4128-b78b-8e0b6985373d",
        "colab": {
          "base_uri": "https://localhost:8080/",
          "height": 204
        }
      },
      "source": [
        "head(airquality)"
      ],
      "execution_count": 18,
      "outputs": [
        {
          "output_type": "display_data",
          "data": {
            "text/plain": [
              "  Ozone Solar.R Wind Temp Month Day\n",
              "1 41    190      7.4 67   5     1  \n",
              "2 36    118      8.0 72   5     2  \n",
              "3 12    149     12.6 74   5     3  \n",
              "4 18    313     11.5 62   5     4  \n",
              "5 NA     NA     14.3 56   5     5  \n",
              "6 28     NA     14.9 66   5     6  "
            ],
            "text/latex": "A data.frame: 6 × 6\n\\begin{tabular}{r|llllll}\n  & Ozone & Solar.R & Wind & Temp & Month & Day\\\\\n  & <int> & <int> & <dbl> & <int> & <int> & <int>\\\\\n\\hline\n\t1 & 41 & 190 &  7.4 & 67 & 5 & 1\\\\\n\t2 & 36 & 118 &  8.0 & 72 & 5 & 2\\\\\n\t3 & 12 & 149 & 12.6 & 74 & 5 & 3\\\\\n\t4 & 18 & 313 & 11.5 & 62 & 5 & 4\\\\\n\t5 & NA &  NA & 14.3 & 56 & 5 & 5\\\\\n\t6 & 28 &  NA & 14.9 & 66 & 5 & 6\\\\\n\\end{tabular}\n",
            "text/markdown": "\nA data.frame: 6 × 6\n\n| <!--/--> | Ozone &lt;int&gt; | Solar.R &lt;int&gt; | Wind &lt;dbl&gt; | Temp &lt;int&gt; | Month &lt;int&gt; | Day &lt;int&gt; |\n|---|---|---|---|---|---|---|\n| 1 | 41 | 190 |  7.4 | 67 | 5 | 1 |\n| 2 | 36 | 118 |  8.0 | 72 | 5 | 2 |\n| 3 | 12 | 149 | 12.6 | 74 | 5 | 3 |\n| 4 | 18 | 313 | 11.5 | 62 | 5 | 4 |\n| 5 | NA |  NA | 14.3 | 56 | 5 | 5 |\n| 6 | 28 |  NA | 14.9 | 66 | 5 | 6 |\n\n",
            "text/html": [
              "<table>\n",
              "<caption>A data.frame: 6 × 6</caption>\n",
              "<thead>\n",
              "\t<tr><th></th><th scope=col>Ozone</th><th scope=col>Solar.R</th><th scope=col>Wind</th><th scope=col>Temp</th><th scope=col>Month</th><th scope=col>Day</th></tr>\n",
              "\t<tr><th></th><th scope=col>&lt;int&gt;</th><th scope=col>&lt;int&gt;</th><th scope=col>&lt;dbl&gt;</th><th scope=col>&lt;int&gt;</th><th scope=col>&lt;int&gt;</th><th scope=col>&lt;int&gt;</th></tr>\n",
              "</thead>\n",
              "<tbody>\n",
              "\t<tr><th scope=row>1</th><td>41</td><td>190</td><td> 7.4</td><td>67</td><td>5</td><td>1</td></tr>\n",
              "\t<tr><th scope=row>2</th><td>36</td><td>118</td><td> 8.0</td><td>72</td><td>5</td><td>2</td></tr>\n",
              "\t<tr><th scope=row>3</th><td>12</td><td>149</td><td>12.6</td><td>74</td><td>5</td><td>3</td></tr>\n",
              "\t<tr><th scope=row>4</th><td>18</td><td>313</td><td>11.5</td><td>62</td><td>5</td><td>4</td></tr>\n",
              "\t<tr><th scope=row>5</th><td>NA</td><td> NA</td><td>14.3</td><td>56</td><td>5</td><td>5</td></tr>\n",
              "\t<tr><th scope=row>6</th><td>28</td><td> NA</td><td>14.9</td><td>66</td><td>5</td><td>6</td></tr>\n",
              "</tbody>\n",
              "</table>\n"
            ]
          },
          "metadata": {
            "tags": []
          }
        }
      ]
    },
    {
      "cell_type": "code",
      "metadata": {
        "id": "ONjJjdv8E5B6",
        "outputId": "b561e7d7-f50d-4e97-cb81-7ec6978ac751",
        "colab": {
          "base_uri": "https://localhost:8080/",
          "height": 204
        }
      },
      "source": [
        "names(airquality) <- toupper(names(airquality))\n",
        "head(airquality)"
      ],
      "execution_count": 19,
      "outputs": [
        {
          "output_type": "display_data",
          "data": {
            "text/plain": [
              "  OZONE SOLAR.R WIND TEMP MONTH DAY\n",
              "1 41    190      7.4 67   5     1  \n",
              "2 36    118      8.0 72   5     2  \n",
              "3 12    149     12.6 74   5     3  \n",
              "4 18    313     11.5 62   5     4  \n",
              "5 NA     NA     14.3 56   5     5  \n",
              "6 28     NA     14.9 66   5     6  "
            ],
            "text/latex": "A data.frame: 6 × 6\n\\begin{tabular}{r|llllll}\n  & OZONE & SOLAR.R & WIND & TEMP & MONTH & DAY\\\\\n  & <int> & <int> & <dbl> & <int> & <int> & <int>\\\\\n\\hline\n\t1 & 41 & 190 &  7.4 & 67 & 5 & 1\\\\\n\t2 & 36 & 118 &  8.0 & 72 & 5 & 2\\\\\n\t3 & 12 & 149 & 12.6 & 74 & 5 & 3\\\\\n\t4 & 18 & 313 & 11.5 & 62 & 5 & 4\\\\\n\t5 & NA &  NA & 14.3 & 56 & 5 & 5\\\\\n\t6 & 28 &  NA & 14.9 & 66 & 5 & 6\\\\\n\\end{tabular}\n",
            "text/markdown": "\nA data.frame: 6 × 6\n\n| <!--/--> | OZONE &lt;int&gt; | SOLAR.R &lt;int&gt; | WIND &lt;dbl&gt; | TEMP &lt;int&gt; | MONTH &lt;int&gt; | DAY &lt;int&gt; |\n|---|---|---|---|---|---|---|\n| 1 | 41 | 190 |  7.4 | 67 | 5 | 1 |\n| 2 | 36 | 118 |  8.0 | 72 | 5 | 2 |\n| 3 | 12 | 149 | 12.6 | 74 | 5 | 3 |\n| 4 | 18 | 313 | 11.5 | 62 | 5 | 4 |\n| 5 | NA |  NA | 14.3 | 56 | 5 | 5 |\n| 6 | 28 |  NA | 14.9 | 66 | 5 | 6 |\n\n",
            "text/html": [
              "<table>\n",
              "<caption>A data.frame: 6 × 6</caption>\n",
              "<thead>\n",
              "\t<tr><th></th><th scope=col>OZONE</th><th scope=col>SOLAR.R</th><th scope=col>WIND</th><th scope=col>TEMP</th><th scope=col>MONTH</th><th scope=col>DAY</th></tr>\n",
              "\t<tr><th></th><th scope=col>&lt;int&gt;</th><th scope=col>&lt;int&gt;</th><th scope=col>&lt;dbl&gt;</th><th scope=col>&lt;int&gt;</th><th scope=col>&lt;int&gt;</th><th scope=col>&lt;int&gt;</th></tr>\n",
              "</thead>\n",
              "<tbody>\n",
              "\t<tr><th scope=row>1</th><td>41</td><td>190</td><td> 7.4</td><td>67</td><td>5</td><td>1</td></tr>\n",
              "\t<tr><th scope=row>2</th><td>36</td><td>118</td><td> 8.0</td><td>72</td><td>5</td><td>2</td></tr>\n",
              "\t<tr><th scope=row>3</th><td>12</td><td>149</td><td>12.6</td><td>74</td><td>5</td><td>3</td></tr>\n",
              "\t<tr><th scope=row>4</th><td>18</td><td>313</td><td>11.5</td><td>62</td><td>5</td><td>4</td></tr>\n",
              "\t<tr><th scope=row>5</th><td>NA</td><td> NA</td><td>14.3</td><td>56</td><td>5</td><td>5</td></tr>\n",
              "\t<tr><th scope=row>6</th><td>28</td><td> NA</td><td>14.9</td><td>66</td><td>5</td><td>6</td></tr>\n",
              "</tbody>\n",
              "</table>\n"
            ]
          },
          "metadata": {
            "tags": []
          }
        }
      ]
    },
    {
      "cell_type": "code",
      "metadata": {
        "id": "lYInnWonFIsw",
        "outputId": "2813c511-4c17-4a7f-a03a-0392a31ab029",
        "colab": {
          "base_uri": "https://localhost:8080/",
          "height": 204
        }
      },
      "source": [
        "air_melt <- melt(airquality, id=c(\"MONTH\",\"DAY\"), na.rm=TRUE)\n",
        "head(air_melt)"
      ],
      "execution_count": 22,
      "outputs": [
        {
          "output_type": "display_data",
          "data": {
            "text/plain": [
              "  MONTH DAY variable value\n",
              "1 5     1   OZONE    41   \n",
              "2 5     2   OZONE    36   \n",
              "3 5     3   OZONE    12   \n",
              "4 5     4   OZONE    18   \n",
              "6 5     6   OZONE    28   \n",
              "7 5     7   OZONE    23   "
            ],
            "text/latex": "A data.frame: 6 × 4\n\\begin{tabular}{r|llll}\n  & MONTH & DAY & variable & value\\\\\n  & <int> & <int> & <fct> & <dbl>\\\\\n\\hline\n\t1 & 5 & 1 & OZONE & 41\\\\\n\t2 & 5 & 2 & OZONE & 36\\\\\n\t3 & 5 & 3 & OZONE & 12\\\\\n\t4 & 5 & 4 & OZONE & 18\\\\\n\t6 & 5 & 6 & OZONE & 28\\\\\n\t7 & 5 & 7 & OZONE & 23\\\\\n\\end{tabular}\n",
            "text/markdown": "\nA data.frame: 6 × 4\n\n| <!--/--> | MONTH &lt;int&gt; | DAY &lt;int&gt; | variable &lt;fct&gt; | value &lt;dbl&gt; |\n|---|---|---|---|---|\n| 1 | 5 | 1 | OZONE | 41 |\n| 2 | 5 | 2 | OZONE | 36 |\n| 3 | 5 | 3 | OZONE | 12 |\n| 4 | 5 | 4 | OZONE | 18 |\n| 6 | 5 | 6 | OZONE | 28 |\n| 7 | 5 | 7 | OZONE | 23 |\n\n",
            "text/html": [
              "<table>\n",
              "<caption>A data.frame: 6 × 4</caption>\n",
              "<thead>\n",
              "\t<tr><th></th><th scope=col>MONTH</th><th scope=col>DAY</th><th scope=col>variable</th><th scope=col>value</th></tr>\n",
              "\t<tr><th></th><th scope=col>&lt;int&gt;</th><th scope=col>&lt;int&gt;</th><th scope=col>&lt;fct&gt;</th><th scope=col>&lt;dbl&gt;</th></tr>\n",
              "</thead>\n",
              "<tbody>\n",
              "\t<tr><th scope=row>1</th><td>5</td><td>1</td><td>OZONE</td><td>41</td></tr>\n",
              "\t<tr><th scope=row>2</th><td>5</td><td>2</td><td>OZONE</td><td>36</td></tr>\n",
              "\t<tr><th scope=row>3</th><td>5</td><td>3</td><td>OZONE</td><td>12</td></tr>\n",
              "\t<tr><th scope=row>4</th><td>5</td><td>4</td><td>OZONE</td><td>18</td></tr>\n",
              "\t<tr><th scope=row>6</th><td>5</td><td>6</td><td>OZONE</td><td>28</td></tr>\n",
              "\t<tr><th scope=row>7</th><td>5</td><td>7</td><td>OZONE</td><td>23</td></tr>\n",
              "</tbody>\n",
              "</table>\n"
            ]
          },
          "metadata": {
            "tags": []
          }
        }
      ]
    },
    {
      "cell_type": "code",
      "metadata": {
        "id": "r8uaRd9YF4Cd",
        "outputId": "fd2ae7e4-1710-46c2-961d-bdc66552bfff",
        "colab": {
          "base_uri": "https://localhost:8080/",
          "height": 100
        }
      },
      "source": [
        "# acast() 함수를 이용하여 3차원 구조로 변경\n",
        "names(air_melt) <- tolower(names(air_melt))\n",
        "acast <- acast(air_melt, day~month~variable) # 3차원 구조로 변경(?)\n",
        "acast[,,OZONE]"
      ],
      "execution_count": 28,
      "outputs": [
        {
          "output_type": "error",
          "ename": "ERROR",
          "evalue": "ignored",
          "traceback": [
            "Error in eval(expr, envir, enclos): object 'OZONE' not found\nTraceback:\n"
          ]
        }
      ]
    },
    {
      "cell_type": "code",
      "metadata": {
        "id": "wu1HGcgSGmDM",
        "outputId": "3b82f6fa-7786-437e-bb84-4a0ece9f69ed",
        "colab": {
          "base_uri": "https://localhost:8080/",
          "height": 34
        }
      },
      "source": [
        "class(acast)"
      ],
      "execution_count": 24,
      "outputs": [
        {
          "output_type": "display_data",
          "data": {
            "text/plain": [
              "[1] \"array\""
            ],
            "text/latex": "'array'",
            "text/markdown": "'array'",
            "text/html": [
              "'array'"
            ]
          },
          "metadata": {
            "tags": []
          }
        }
      ]
    }
  ]
}