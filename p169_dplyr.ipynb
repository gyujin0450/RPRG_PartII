{
  "nbformat": 4,
  "nbformat_minor": 0,
  "metadata": {
    "colab": {
      "name": "p169_dplyr.ipynb",
      "provenance": [],
      "authorship_tag": "ABX9TyPo9Gpr903g/gbyJKeJvVo/",
      "include_colab_link": true
    },
    "kernelspec": {
      "name": "ir",
      "display_name": "R"
    }
  },
  "cells": [
    {
      "cell_type": "markdown",
      "metadata": {
        "id": "view-in-github",
        "colab_type": "text"
      },
      "source": [
        "<a href=\"https://colab.research.google.com/github/gyujin0450/RPRG_PartII/blob/master/p169_dplyr.ipynb\" target=\"_parent\"><img src=\"https://colab.research.google.com/assets/colab-badge.svg\" alt=\"Open In Colab\"/></a>"
      ]
    },
    {
      "cell_type": "markdown",
      "metadata": {
        "id": "iGRUJRLBQWsw"
      },
      "source": [
        "# ch06 데이터 조작"
      ]
    },
    {
      "cell_type": "code",
      "metadata": {
        "id": "Rao_lijCQzkd"
      },
      "source": [
        "## dplyr 패키지 활용\n",
        "# https://wsyang.com/2014/02/introduction-to-dplyr/\n",
        "# https://machine-geon.tistory.com/34"
      ],
      "execution_count": null,
      "outputs": []
    },
    {
      "cell_type": "code",
      "metadata": {
        "id": "wFrnnVPuTV0Z",
        "outputId": "8d237536-cd2d-4900-a04f-2c8f0dbd63fd",
        "colab": {
          "base_uri": "https://localhost:8080/",
          "height": 183
        }
      },
      "source": [
        "# before dplyr\n",
        "head(iris,5)"
      ],
      "execution_count": 6,
      "outputs": [
        {
          "output_type": "display_data",
          "data": {
            "text/plain": [
              "  Sepal.Length Sepal.Width Petal.Length Petal.Width Species\n",
              "1 5.1          3.5         1.4          0.2         setosa \n",
              "2 4.9          3.0         1.4          0.2         setosa \n",
              "3 4.7          3.2         1.3          0.2         setosa \n",
              "4 4.6          3.1         1.5          0.2         setosa \n",
              "5 5.0          3.6         1.4          0.2         setosa "
            ],
            "text/latex": "A data.frame: 5 × 5\n\\begin{tabular}{r|lllll}\n  & Sepal.Length & Sepal.Width & Petal.Length & Petal.Width & Species\\\\\n  & <dbl> & <dbl> & <dbl> & <dbl> & <fct>\\\\\n\\hline\n\t1 & 5.1 & 3.5 & 1.4 & 0.2 & setosa\\\\\n\t2 & 4.9 & 3.0 & 1.4 & 0.2 & setosa\\\\\n\t3 & 4.7 & 3.2 & 1.3 & 0.2 & setosa\\\\\n\t4 & 4.6 & 3.1 & 1.5 & 0.2 & setosa\\\\\n\t5 & 5.0 & 3.6 & 1.4 & 0.2 & setosa\\\\\n\\end{tabular}\n",
            "text/markdown": "\nA data.frame: 5 × 5\n\n| <!--/--> | Sepal.Length &lt;dbl&gt; | Sepal.Width &lt;dbl&gt; | Petal.Length &lt;dbl&gt; | Petal.Width &lt;dbl&gt; | Species &lt;fct&gt; |\n|---|---|---|---|---|---|\n| 1 | 5.1 | 3.5 | 1.4 | 0.2 | setosa |\n| 2 | 4.9 | 3.0 | 1.4 | 0.2 | setosa |\n| 3 | 4.7 | 3.2 | 1.3 | 0.2 | setosa |\n| 4 | 4.6 | 3.1 | 1.5 | 0.2 | setosa |\n| 5 | 5.0 | 3.6 | 1.4 | 0.2 | setosa |\n\n",
            "text/html": [
              "<table>\n",
              "<caption>A data.frame: 5 × 5</caption>\n",
              "<thead>\n",
              "\t<tr><th></th><th scope=col>Sepal.Length</th><th scope=col>Sepal.Width</th><th scope=col>Petal.Length</th><th scope=col>Petal.Width</th><th scope=col>Species</th></tr>\n",
              "\t<tr><th></th><th scope=col>&lt;dbl&gt;</th><th scope=col>&lt;dbl&gt;</th><th scope=col>&lt;dbl&gt;</th><th scope=col>&lt;dbl&gt;</th><th scope=col>&lt;fct&gt;</th></tr>\n",
              "</thead>\n",
              "<tbody>\n",
              "\t<tr><th scope=row>1</th><td>5.1</td><td>3.5</td><td>1.4</td><td>0.2</td><td>setosa</td></tr>\n",
              "\t<tr><th scope=row>2</th><td>4.9</td><td>3.0</td><td>1.4</td><td>0.2</td><td>setosa</td></tr>\n",
              "\t<tr><th scope=row>3</th><td>4.7</td><td>3.2</td><td>1.3</td><td>0.2</td><td>setosa</td></tr>\n",
              "\t<tr><th scope=row>4</th><td>4.6</td><td>3.1</td><td>1.5</td><td>0.2</td><td>setosa</td></tr>\n",
              "\t<tr><th scope=row>5</th><td>5.0</td><td>3.6</td><td>1.4</td><td>0.2</td><td>setosa</td></tr>\n",
              "</tbody>\n",
              "</table>\n"
            ]
          },
          "metadata": {
            "tags": []
          }
        }
      ]
    },
    {
      "cell_type": "code",
      "metadata": {
        "id": "DGFgP5NSSv6W",
        "outputId": "735a8a2c-ae31-42b7-894d-fef2a3b328d1",
        "colab": {
          "base_uri": "https://localhost:8080/",
          "height": 323
        }
      },
      "source": [
        "install.packages(\"dplyr\")\n",
        "library(dplyr)"
      ],
      "execution_count": 2,
      "outputs": [
        {
          "output_type": "stream",
          "text": [
            "Installing package into ‘/usr/local/lib/R/site-library’\n",
            "(as ‘lib’ is unspecified)\n",
            "\n",
            "\n",
            "Attaching package: ‘dplyr’\n",
            "\n",
            "\n",
            "The following objects are masked from ‘package:stats’:\n",
            "\n",
            "    filter, lag\n",
            "\n",
            "\n",
            "The following objects are masked from ‘package:base’:\n",
            "\n",
            "    intersect, setdiff, setequal, union\n",
            "\n",
            "\n"
          ],
          "name": "stderr"
        }
      ]
    },
    {
      "cell_type": "code",
      "metadata": {
        "id": "7qyFkjKtTLq8",
        "outputId": "965c69e0-25f6-4234-9cb6-46dcc724b396",
        "colab": {
          "base_uri": "https://localhost:8080/",
          "height": 183
        }
      },
      "source": [
        "# after dplyr : 파이프(%>%) 연산자를 이용한 함수 적용\n",
        "iris %>% head(5)"
      ],
      "execution_count": 8,
      "outputs": [
        {
          "output_type": "display_data",
          "data": {
            "text/plain": [
              "  Sepal.Length Sepal.Width Petal.Length Petal.Width Species\n",
              "1 5.1          3.5         1.4          0.2         setosa \n",
              "2 4.9          3.0         1.4          0.2         setosa \n",
              "3 4.7          3.2         1.3          0.2         setosa \n",
              "4 4.6          3.1         1.5          0.2         setosa \n",
              "5 5.0          3.6         1.4          0.2         setosa "
            ],
            "text/latex": "A data.frame: 5 × 5\n\\begin{tabular}{r|lllll}\n  & Sepal.Length & Sepal.Width & Petal.Length & Petal.Width & Species\\\\\n  & <dbl> & <dbl> & <dbl> & <dbl> & <fct>\\\\\n\\hline\n\t1 & 5.1 & 3.5 & 1.4 & 0.2 & setosa\\\\\n\t2 & 4.9 & 3.0 & 1.4 & 0.2 & setosa\\\\\n\t3 & 4.7 & 3.2 & 1.3 & 0.2 & setosa\\\\\n\t4 & 4.6 & 3.1 & 1.5 & 0.2 & setosa\\\\\n\t5 & 5.0 & 3.6 & 1.4 & 0.2 & setosa\\\\\n\\end{tabular}\n",
            "text/markdown": "\nA data.frame: 5 × 5\n\n| <!--/--> | Sepal.Length &lt;dbl&gt; | Sepal.Width &lt;dbl&gt; | Petal.Length &lt;dbl&gt; | Petal.Width &lt;dbl&gt; | Species &lt;fct&gt; |\n|---|---|---|---|---|---|\n| 1 | 5.1 | 3.5 | 1.4 | 0.2 | setosa |\n| 2 | 4.9 | 3.0 | 1.4 | 0.2 | setosa |\n| 3 | 4.7 | 3.2 | 1.3 | 0.2 | setosa |\n| 4 | 4.6 | 3.1 | 1.5 | 0.2 | setosa |\n| 5 | 5.0 | 3.6 | 1.4 | 0.2 | setosa |\n\n",
            "text/html": [
              "<table>\n",
              "<caption>A data.frame: 5 × 5</caption>\n",
              "<thead>\n",
              "\t<tr><th></th><th scope=col>Sepal.Length</th><th scope=col>Sepal.Width</th><th scope=col>Petal.Length</th><th scope=col>Petal.Width</th><th scope=col>Species</th></tr>\n",
              "\t<tr><th></th><th scope=col>&lt;dbl&gt;</th><th scope=col>&lt;dbl&gt;</th><th scope=col>&lt;dbl&gt;</th><th scope=col>&lt;dbl&gt;</th><th scope=col>&lt;fct&gt;</th></tr>\n",
              "</thead>\n",
              "<tbody>\n",
              "\t<tr><th scope=row>1</th><td>5.1</td><td>3.5</td><td>1.4</td><td>0.2</td><td>setosa</td></tr>\n",
              "\t<tr><th scope=row>2</th><td>4.9</td><td>3.0</td><td>1.4</td><td>0.2</td><td>setosa</td></tr>\n",
              "\t<tr><th scope=row>3</th><td>4.7</td><td>3.2</td><td>1.3</td><td>0.2</td><td>setosa</td></tr>\n",
              "\t<tr><th scope=row>4</th><td>4.6</td><td>3.1</td><td>1.5</td><td>0.2</td><td>setosa</td></tr>\n",
              "\t<tr><th scope=row>5</th><td>5.0</td><td>3.6</td><td>1.4</td><td>0.2</td><td>setosa</td></tr>\n",
              "</tbody>\n",
              "</table>\n"
            ]
          },
          "metadata": {
            "tags": []
          }
        }
      ]
    },
    {
      "cell_type": "code",
      "metadata": {
        "id": "iKPlUot2Tl8N",
        "outputId": "2efadedb-de28-452a-d54e-147dc35db6ca",
        "colab": {
          "base_uri": "https://localhost:8080/",
          "height": 120
        }
      },
      "source": [
        "iris %>% head() %>% subset(Sepal.Length > 5.0)"
      ],
      "execution_count": 9,
      "outputs": [
        {
          "output_type": "display_data",
          "data": {
            "text/plain": [
              "  Sepal.Length Sepal.Width Petal.Length Petal.Width Species\n",
              "1 5.1          3.5         1.4          0.2         setosa \n",
              "6 5.4          3.9         1.7          0.4         setosa "
            ],
            "text/latex": "A data.frame: 2 × 5\n\\begin{tabular}{r|lllll}\n  & Sepal.Length & Sepal.Width & Petal.Length & Petal.Width & Species\\\\\n  & <dbl> & <dbl> & <dbl> & <dbl> & <fct>\\\\\n\\hline\n\t1 & 5.1 & 3.5 & 1.4 & 0.2 & setosa\\\\\n\t6 & 5.4 & 3.9 & 1.7 & 0.4 & setosa\\\\\n\\end{tabular}\n",
            "text/markdown": "\nA data.frame: 2 × 5\n\n| <!--/--> | Sepal.Length &lt;dbl&gt; | Sepal.Width &lt;dbl&gt; | Petal.Length &lt;dbl&gt; | Petal.Width &lt;dbl&gt; | Species &lt;fct&gt; |\n|---|---|---|---|---|---|\n| 1 | 5.1 | 3.5 | 1.4 | 0.2 | setosa |\n| 6 | 5.4 | 3.9 | 1.7 | 0.4 | setosa |\n\n",
            "text/html": [
              "<table>\n",
              "<caption>A data.frame: 2 × 5</caption>\n",
              "<thead>\n",
              "\t<tr><th></th><th scope=col>Sepal.Length</th><th scope=col>Sepal.Width</th><th scope=col>Petal.Length</th><th scope=col>Petal.Width</th><th scope=col>Species</th></tr>\n",
              "\t<tr><th></th><th scope=col>&lt;dbl&gt;</th><th scope=col>&lt;dbl&gt;</th><th scope=col>&lt;dbl&gt;</th><th scope=col>&lt;dbl&gt;</th><th scope=col>&lt;fct&gt;</th></tr>\n",
              "</thead>\n",
              "<tbody>\n",
              "\t<tr><th scope=row>1</th><td>5.1</td><td>3.5</td><td>1.4</td><td>0.2</td><td>setosa</td></tr>\n",
              "\t<tr><th scope=row>6</th><td>5.4</td><td>3.9</td><td>1.7</td><td>0.4</td><td>setosa</td></tr>\n",
              "</tbody>\n",
              "</table>\n"
            ]
          },
          "metadata": {
            "tags": []
          }
        }
      ]
    },
    {
      "cell_type": "code",
      "metadata": {
        "id": "5L-eamPhVIH3",
        "outputId": "6018672d-0522-42e5-97e7-cecc54664c9f",
        "colab": {
          "base_uri": "https://localhost:8080/",
          "height": 204
        }
      },
      "source": [
        "iris %>% subset(Sepal.Length > 5.0) %>% head()"
      ],
      "execution_count": 10,
      "outputs": [
        {
          "output_type": "display_data",
          "data": {
            "text/plain": [
              "   Sepal.Length Sepal.Width Petal.Length Petal.Width Species\n",
              "1  5.1          3.5         1.4          0.2         setosa \n",
              "6  5.4          3.9         1.7          0.4         setosa \n",
              "11 5.4          3.7         1.5          0.2         setosa \n",
              "15 5.8          4.0         1.2          0.2         setosa \n",
              "16 5.7          4.4         1.5          0.4         setosa \n",
              "17 5.4          3.9         1.3          0.4         setosa "
            ],
            "text/latex": "A data.frame: 6 × 5\n\\begin{tabular}{r|lllll}\n  & Sepal.Length & Sepal.Width & Petal.Length & Petal.Width & Species\\\\\n  & <dbl> & <dbl> & <dbl> & <dbl> & <fct>\\\\\n\\hline\n\t1 & 5.1 & 3.5 & 1.4 & 0.2 & setosa\\\\\n\t6 & 5.4 & 3.9 & 1.7 & 0.4 & setosa\\\\\n\t11 & 5.4 & 3.7 & 1.5 & 0.2 & setosa\\\\\n\t15 & 5.8 & 4.0 & 1.2 & 0.2 & setosa\\\\\n\t16 & 5.7 & 4.4 & 1.5 & 0.4 & setosa\\\\\n\t17 & 5.4 & 3.9 & 1.3 & 0.4 & setosa\\\\\n\\end{tabular}\n",
            "text/markdown": "\nA data.frame: 6 × 5\n\n| <!--/--> | Sepal.Length &lt;dbl&gt; | Sepal.Width &lt;dbl&gt; | Petal.Length &lt;dbl&gt; | Petal.Width &lt;dbl&gt; | Species &lt;fct&gt; |\n|---|---|---|---|---|---|\n| 1 | 5.1 | 3.5 | 1.4 | 0.2 | setosa |\n| 6 | 5.4 | 3.9 | 1.7 | 0.4 | setosa |\n| 11 | 5.4 | 3.7 | 1.5 | 0.2 | setosa |\n| 15 | 5.8 | 4.0 | 1.2 | 0.2 | setosa |\n| 16 | 5.7 | 4.4 | 1.5 | 0.4 | setosa |\n| 17 | 5.4 | 3.9 | 1.3 | 0.4 | setosa |\n\n",
            "text/html": [
              "<table>\n",
              "<caption>A data.frame: 6 × 5</caption>\n",
              "<thead>\n",
              "\t<tr><th></th><th scope=col>Sepal.Length</th><th scope=col>Sepal.Width</th><th scope=col>Petal.Length</th><th scope=col>Petal.Width</th><th scope=col>Species</th></tr>\n",
              "\t<tr><th></th><th scope=col>&lt;dbl&gt;</th><th scope=col>&lt;dbl&gt;</th><th scope=col>&lt;dbl&gt;</th><th scope=col>&lt;dbl&gt;</th><th scope=col>&lt;fct&gt;</th></tr>\n",
              "</thead>\n",
              "<tbody>\n",
              "\t<tr><th scope=row>1</th><td>5.1</td><td>3.5</td><td>1.4</td><td>0.2</td><td>setosa</td></tr>\n",
              "\t<tr><th scope=row>6</th><td>5.4</td><td>3.9</td><td>1.7</td><td>0.4</td><td>setosa</td></tr>\n",
              "\t<tr><th scope=row>11</th><td>5.4</td><td>3.7</td><td>1.5</td><td>0.2</td><td>setosa</td></tr>\n",
              "\t<tr><th scope=row>15</th><td>5.8</td><td>4.0</td><td>1.2</td><td>0.2</td><td>setosa</td></tr>\n",
              "\t<tr><th scope=row>16</th><td>5.7</td><td>4.4</td><td>1.5</td><td>0.4</td><td>setosa</td></tr>\n",
              "\t<tr><th scope=row>17</th><td>5.4</td><td>3.9</td><td>1.3</td><td>0.4</td><td>setosa</td></tr>\n",
              "</tbody>\n",
              "</table>\n"
            ]
          },
          "metadata": {
            "tags": []
          }
        }
      ]
    },
    {
      "cell_type": "code",
      "metadata": {
        "id": "iqIM8GcBVTjN",
        "outputId": "266d3be5-84a1-418a-e7e5-5417d791c4b5",
        "colab": {
          "base_uri": "https://localhost:8080/",
          "height": 107
        }
      },
      "source": [
        "# 콘솔 창의 크그에 맞게 데이터 추출\n",
        "install.packages(c(\"dplyr\",\"fights\"))"
      ],
      "execution_count": 13,
      "outputs": [
        {
          "output_type": "stream",
          "text": [
            "Installing packages into ‘/usr/local/lib/R/site-library’\n",
            "(as ‘lib’ is unspecified)\n",
            "\n",
            "Warning message:\n",
            "“package ‘fights’ is not available (for R version 4.0.2)”\n"
          ],
          "name": "stderr"
        }
      ]
    },
    {
      "cell_type": "code",
      "metadata": {
        "id": "oHhu0w6sY-Je"
      },
      "source": [
        "# hfright 를 대체하는 패키지는 없나?"
      ],
      "execution_count": null,
      "outputs": []
    },
    {
      "cell_type": "code",
      "metadata": {
        "id": "TfitBC0TaSFb",
        "outputId": "c153e703-b641-47fd-dba2-20996db3d4e8",
        "colab": {
          "base_uri": "https://localhost:8080/",
          "height": 307
        }
      },
      "source": [
        "titanic <- read.csv('titanic3.csv')\n",
        "str(titanic)"
      ],
      "execution_count": 22,
      "outputs": [
        {
          "output_type": "stream",
          "text": [
            "'data.frame':\t1309 obs. of  14 variables:\n",
            " $ pclass   : int  1 1 1 1 1 1 1 1 1 1 ...\n",
            " $ survived : int  1 1 0 0 0 1 1 0 1 0 ...\n",
            " $ name     : chr  \"Allen, Miss. Elisabeth Walton\" \"Allison, Master. Hudson Trevor\" \"Allison, Miss. Helen Loraine\" \"Allison, Mr. Hudson Joshua Creighton\" ...\n",
            " $ sex      : chr  \"female\" \"male\" \"female\" \"male\" ...\n",
            " $ age      : num  29 0.92 2 30 25 48 63 39 53 71 ...\n",
            " $ sibsp    : int  0 1 1 1 1 0 1 0 2 0 ...\n",
            " $ parch    : int  0 2 2 2 2 0 0 0 0 0 ...\n",
            " $ ticket   : chr  \"24160\" \"113781\" \"113781\" \"113781\" ...\n",
            " $ fare     : num  211 152 152 152 152 ...\n",
            " $ cabin    : chr  \"B5\" \"C22 C26\" \"C22 C26\" \"C22 C26\" ...\n",
            " $ embarked : chr  \"S\" \"S\" \"S\" \"S\" ...\n",
            " $ boat     : chr  \"2\" \"11\" \"\" \"\" ...\n",
            " $ body     : int  NA NA NA 135 NA NA NA NA NA 22 ...\n",
            " $ home.dest: chr  \"St Louis, MO\" \"Montreal, PQ / Chesterville, ON\" \"Montreal, PQ / Chesterville, ON\" \"Montreal, PQ / Chesterville, ON\" ...\n"
          ],
          "name": "stdout"
        }
      ]
    },
    {
      "cell_type": "code",
      "metadata": {
        "id": "xdCM-Ylso97Y",
        "outputId": "e8b226f2-d33d-4483-ee3e-3073a7784a31",
        "colab": {
          "base_uri": "https://localhost:8080/",
          "height": 319
        }
      },
      "source": [
        "titanic %>% head(5)"
      ],
      "execution_count": 47,
      "outputs": [
        {
          "output_type": "display_data",
          "data": {
            "text/plain": [
              "  pclass survived name                                            sex    age  \n",
              "1 1      1        Allen, Miss. Elisabeth Walton                   female 29.00\n",
              "2 1      1        Allison, Master. Hudson Trevor                  male    0.92\n",
              "3 1      0        Allison, Miss. Helen Loraine                    female  2.00\n",
              "4 1      0        Allison, Mr. Hudson Joshua Creighton            male   30.00\n",
              "5 1      0        Allison, Mrs. Hudson J C (Bessie Waldo Daniels) female 25.00\n",
              "  sibsp parch ticket fare     cabin   embarked boat body\n",
              "1 0     0     24160  211.3375 B5      S        2     NA \n",
              "2 1     2     113781 151.5500 C22 C26 S        11    NA \n",
              "3 1     2     113781 151.5500 C22 C26 S              NA \n",
              "4 1     2     113781 151.5500 C22 C26 S             135 \n",
              "5 1     2     113781 151.5500 C22 C26 S              NA \n",
              "  home.dest                      \n",
              "1 St Louis, MO                   \n",
              "2 Montreal, PQ / Chesterville, ON\n",
              "3 Montreal, PQ / Chesterville, ON\n",
              "4 Montreal, PQ / Chesterville, ON\n",
              "5 Montreal, PQ / Chesterville, ON"
            ],
            "text/latex": "A data.frame: 5 × 14\n\\begin{tabular}{r|llllllllllllll}\n  & pclass & survived & name & sex & age & sibsp & parch & ticket & fare & cabin & embarked & boat & body & home.dest\\\\\n  & <int> & <int> & <chr> & <chr> & <dbl> & <int> & <int> & <chr> & <dbl> & <chr> & <chr> & <chr> & <int> & <chr>\\\\\n\\hline\n\t1 & 1 & 1 & Allen, Miss. Elisabeth Walton                   & female & 29.00 & 0 & 0 & 24160  & 211.3375 & B5      & S & 2  &  NA & St Louis, MO                   \\\\\n\t2 & 1 & 1 & Allison, Master. Hudson Trevor                  & male   &  0.92 & 1 & 2 & 113781 & 151.5500 & C22 C26 & S & 11 &  NA & Montreal, PQ / Chesterville, ON\\\\\n\t3 & 1 & 0 & Allison, Miss. Helen Loraine                    & female &  2.00 & 1 & 2 & 113781 & 151.5500 & C22 C26 & S &    &  NA & Montreal, PQ / Chesterville, ON\\\\\n\t4 & 1 & 0 & Allison, Mr. Hudson Joshua Creighton            & male   & 30.00 & 1 & 2 & 113781 & 151.5500 & C22 C26 & S &    & 135 & Montreal, PQ / Chesterville, ON\\\\\n\t5 & 1 & 0 & Allison, Mrs. Hudson J C (Bessie Waldo Daniels) & female & 25.00 & 1 & 2 & 113781 & 151.5500 & C22 C26 & S &    &  NA & Montreal, PQ / Chesterville, ON\\\\\n\\end{tabular}\n",
            "text/markdown": "\nA data.frame: 5 × 14\n\n| <!--/--> | pclass &lt;int&gt; | survived &lt;int&gt; | name &lt;chr&gt; | sex &lt;chr&gt; | age &lt;dbl&gt; | sibsp &lt;int&gt; | parch &lt;int&gt; | ticket &lt;chr&gt; | fare &lt;dbl&gt; | cabin &lt;chr&gt; | embarked &lt;chr&gt; | boat &lt;chr&gt; | body &lt;int&gt; | home.dest &lt;chr&gt; |\n|---|---|---|---|---|---|---|---|---|---|---|---|---|---|---|\n| 1 | 1 | 1 | Allen, Miss. Elisabeth Walton                   | female | 29.00 | 0 | 0 | 24160  | 211.3375 | B5      | S | 2  |  NA | St Louis, MO                    |\n| 2 | 1 | 1 | Allison, Master. Hudson Trevor                  | male   |  0.92 | 1 | 2 | 113781 | 151.5500 | C22 C26 | S | 11 |  NA | Montreal, PQ / Chesterville, ON |\n| 3 | 1 | 0 | Allison, Miss. Helen Loraine                    | female |  2.00 | 1 | 2 | 113781 | 151.5500 | C22 C26 | S | <!----> |  NA | Montreal, PQ / Chesterville, ON |\n| 4 | 1 | 0 | Allison, Mr. Hudson Joshua Creighton            | male   | 30.00 | 1 | 2 | 113781 | 151.5500 | C22 C26 | S | <!----> | 135 | Montreal, PQ / Chesterville, ON |\n| 5 | 1 | 0 | Allison, Mrs. Hudson J C (Bessie Waldo Daniels) | female | 25.00 | 1 | 2 | 113781 | 151.5500 | C22 C26 | S | <!----> |  NA | Montreal, PQ / Chesterville, ON |\n\n",
            "text/html": [
              "<table>\n",
              "<caption>A data.frame: 5 × 14</caption>\n",
              "<thead>\n",
              "\t<tr><th></th><th scope=col>pclass</th><th scope=col>survived</th><th scope=col>name</th><th scope=col>sex</th><th scope=col>age</th><th scope=col>sibsp</th><th scope=col>parch</th><th scope=col>ticket</th><th scope=col>fare</th><th scope=col>cabin</th><th scope=col>embarked</th><th scope=col>boat</th><th scope=col>body</th><th scope=col>home.dest</th></tr>\n",
              "\t<tr><th></th><th scope=col>&lt;int&gt;</th><th scope=col>&lt;int&gt;</th><th scope=col>&lt;chr&gt;</th><th scope=col>&lt;chr&gt;</th><th scope=col>&lt;dbl&gt;</th><th scope=col>&lt;int&gt;</th><th scope=col>&lt;int&gt;</th><th scope=col>&lt;chr&gt;</th><th scope=col>&lt;dbl&gt;</th><th scope=col>&lt;chr&gt;</th><th scope=col>&lt;chr&gt;</th><th scope=col>&lt;chr&gt;</th><th scope=col>&lt;int&gt;</th><th scope=col>&lt;chr&gt;</th></tr>\n",
              "</thead>\n",
              "<tbody>\n",
              "\t<tr><th scope=row>1</th><td>1</td><td>1</td><td>Allen, Miss. Elisabeth Walton                  </td><td>female</td><td>29.00</td><td>0</td><td>0</td><td>24160 </td><td>211.3375</td><td>B5     </td><td>S</td><td>2 </td><td> NA</td><td>St Louis, MO                   </td></tr>\n",
              "\t<tr><th scope=row>2</th><td>1</td><td>1</td><td>Allison, Master. Hudson Trevor                 </td><td>male  </td><td> 0.92</td><td>1</td><td>2</td><td>113781</td><td>151.5500</td><td>C22 C26</td><td>S</td><td>11</td><td> NA</td><td>Montreal, PQ / Chesterville, ON</td></tr>\n",
              "\t<tr><th scope=row>3</th><td>1</td><td>0</td><td>Allison, Miss. Helen Loraine                   </td><td>female</td><td> 2.00</td><td>1</td><td>2</td><td>113781</td><td>151.5500</td><td>C22 C26</td><td>S</td><td>  </td><td> NA</td><td>Montreal, PQ / Chesterville, ON</td></tr>\n",
              "\t<tr><th scope=row>4</th><td>1</td><td>0</td><td>Allison, Mr. Hudson Joshua Creighton           </td><td>male  </td><td>30.00</td><td>1</td><td>2</td><td>113781</td><td>151.5500</td><td>C22 C26</td><td>S</td><td>  </td><td>135</td><td>Montreal, PQ / Chesterville, ON</td></tr>\n",
              "\t<tr><th scope=row>5</th><td>1</td><td>0</td><td>Allison, Mrs. Hudson J C (Bessie Waldo Daniels)</td><td>female</td><td>25.00</td><td>1</td><td>2</td><td>113781</td><td>151.5500</td><td>C22 C26</td><td>S</td><td>  </td><td> NA</td><td>Montreal, PQ / Chesterville, ON</td></tr>\n",
              "</tbody>\n",
              "</table>\n"
            ]
          },
          "metadata": {
            "tags": []
          }
        }
      ]
    },
    {
      "cell_type": "code",
      "metadata": {
        "id": "p1AG1UVSIecc",
        "outputId": "4d0e7fb9-be68-40f8-99dc-f3cf79a72317",
        "colab": {
          "base_uri": "https://localhost:8080/",
          "height": 319
        }
      },
      "source": [
        "titanic_df <- tbl_df(titanic)\n",
        "titanic_df %>% head(5)\n",
        "# tbl_df() : RStudio 에서는 R 콘솔 창 크기에서 볼 수 있는 만큼 보여줌!!\n",
        "# Error in as_tibble(data, .name_repair = \"check_unique\") : \n",
        "#  객체 'titanic_df'를 찾을 수 없습니다\n",
        "# 추가정보: 경고메시지(들): \n",
        "# `tbl_df()` is deprecated as of dplyr 1.0.0.\n",
        "# Please use `tibble::as_tibble()` instead."
      ],
      "execution_count": 66,
      "outputs": [
        {
          "output_type": "display_data",
          "data": {
            "text/plain": [
              "  pclass survived name                                            sex    age  \n",
              "1 1      1        Allen, Miss. Elisabeth Walton                   female 29.00\n",
              "2 1      1        Allison, Master. Hudson Trevor                  male    0.92\n",
              "3 1      0        Allison, Miss. Helen Loraine                    female  2.00\n",
              "4 1      0        Allison, Mr. Hudson Joshua Creighton            male   30.00\n",
              "5 1      0        Allison, Mrs. Hudson J C (Bessie Waldo Daniels) female 25.00\n",
              "  sibsp parch ticket fare     cabin   embarked boat body\n",
              "1 0     0     24160  211.3375 B5      S        2     NA \n",
              "2 1     2     113781 151.5500 C22 C26 S        11    NA \n",
              "3 1     2     113781 151.5500 C22 C26 S              NA \n",
              "4 1     2     113781 151.5500 C22 C26 S             135 \n",
              "5 1     2     113781 151.5500 C22 C26 S              NA \n",
              "  home.dest                      \n",
              "1 St Louis, MO                   \n",
              "2 Montreal, PQ / Chesterville, ON\n",
              "3 Montreal, PQ / Chesterville, ON\n",
              "4 Montreal, PQ / Chesterville, ON\n",
              "5 Montreal, PQ / Chesterville, ON"
            ],
            "text/latex": "A tibble: 5 × 14\n\\begin{tabular}{llllllllllllll}\n pclass & survived & name & sex & age & sibsp & parch & ticket & fare & cabin & embarked & boat & body & home.dest\\\\\n <int> & <int> & <chr> & <chr> & <dbl> & <int> & <int> & <chr> & <dbl> & <chr> & <chr> & <chr> & <int> & <chr>\\\\\n\\hline\n\t 1 & 1 & Allen, Miss. Elisabeth Walton                   & female & 29.00 & 0 & 0 & 24160  & 211.3375 & B5      & S & 2  &  NA & St Louis, MO                   \\\\\n\t 1 & 1 & Allison, Master. Hudson Trevor                  & male   &  0.92 & 1 & 2 & 113781 & 151.5500 & C22 C26 & S & 11 &  NA & Montreal, PQ / Chesterville, ON\\\\\n\t 1 & 0 & Allison, Miss. Helen Loraine                    & female &  2.00 & 1 & 2 & 113781 & 151.5500 & C22 C26 & S &    &  NA & Montreal, PQ / Chesterville, ON\\\\\n\t 1 & 0 & Allison, Mr. Hudson Joshua Creighton            & male   & 30.00 & 1 & 2 & 113781 & 151.5500 & C22 C26 & S &    & 135 & Montreal, PQ / Chesterville, ON\\\\\n\t 1 & 0 & Allison, Mrs. Hudson J C (Bessie Waldo Daniels) & female & 25.00 & 1 & 2 & 113781 & 151.5500 & C22 C26 & S &    &  NA & Montreal, PQ / Chesterville, ON\\\\\n\\end{tabular}\n",
            "text/markdown": "\nA tibble: 5 × 14\n\n| pclass &lt;int&gt; | survived &lt;int&gt; | name &lt;chr&gt; | sex &lt;chr&gt; | age &lt;dbl&gt; | sibsp &lt;int&gt; | parch &lt;int&gt; | ticket &lt;chr&gt; | fare &lt;dbl&gt; | cabin &lt;chr&gt; | embarked &lt;chr&gt; | boat &lt;chr&gt; | body &lt;int&gt; | home.dest &lt;chr&gt; |\n|---|---|---|---|---|---|---|---|---|---|---|---|---|---|\n| 1 | 1 | Allen, Miss. Elisabeth Walton                   | female | 29.00 | 0 | 0 | 24160  | 211.3375 | B5      | S | 2  |  NA | St Louis, MO                    |\n| 1 | 1 | Allison, Master. Hudson Trevor                  | male   |  0.92 | 1 | 2 | 113781 | 151.5500 | C22 C26 | S | 11 |  NA | Montreal, PQ / Chesterville, ON |\n| 1 | 0 | Allison, Miss. Helen Loraine                    | female |  2.00 | 1 | 2 | 113781 | 151.5500 | C22 C26 | S | <!----> |  NA | Montreal, PQ / Chesterville, ON |\n| 1 | 0 | Allison, Mr. Hudson Joshua Creighton            | male   | 30.00 | 1 | 2 | 113781 | 151.5500 | C22 C26 | S | <!----> | 135 | Montreal, PQ / Chesterville, ON |\n| 1 | 0 | Allison, Mrs. Hudson J C (Bessie Waldo Daniels) | female | 25.00 | 1 | 2 | 113781 | 151.5500 | C22 C26 | S | <!----> |  NA | Montreal, PQ / Chesterville, ON |\n\n",
            "text/html": [
              "<table>\n",
              "<caption>A tibble: 5 × 14</caption>\n",
              "<thead>\n",
              "\t<tr><th scope=col>pclass</th><th scope=col>survived</th><th scope=col>name</th><th scope=col>sex</th><th scope=col>age</th><th scope=col>sibsp</th><th scope=col>parch</th><th scope=col>ticket</th><th scope=col>fare</th><th scope=col>cabin</th><th scope=col>embarked</th><th scope=col>boat</th><th scope=col>body</th><th scope=col>home.dest</th></tr>\n",
              "\t<tr><th scope=col>&lt;int&gt;</th><th scope=col>&lt;int&gt;</th><th scope=col>&lt;chr&gt;</th><th scope=col>&lt;chr&gt;</th><th scope=col>&lt;dbl&gt;</th><th scope=col>&lt;int&gt;</th><th scope=col>&lt;int&gt;</th><th scope=col>&lt;chr&gt;</th><th scope=col>&lt;dbl&gt;</th><th scope=col>&lt;chr&gt;</th><th scope=col>&lt;chr&gt;</th><th scope=col>&lt;chr&gt;</th><th scope=col>&lt;int&gt;</th><th scope=col>&lt;chr&gt;</th></tr>\n",
              "</thead>\n",
              "<tbody>\n",
              "\t<tr><td>1</td><td>1</td><td>Allen, Miss. Elisabeth Walton                  </td><td>female</td><td>29.00</td><td>0</td><td>0</td><td>24160 </td><td>211.3375</td><td>B5     </td><td>S</td><td>2 </td><td> NA</td><td>St Louis, MO                   </td></tr>\n",
              "\t<tr><td>1</td><td>1</td><td>Allison, Master. Hudson Trevor                 </td><td>male  </td><td> 0.92</td><td>1</td><td>2</td><td>113781</td><td>151.5500</td><td>C22 C26</td><td>S</td><td>11</td><td> NA</td><td>Montreal, PQ / Chesterville, ON</td></tr>\n",
              "\t<tr><td>1</td><td>0</td><td>Allison, Miss. Helen Loraine                   </td><td>female</td><td> 2.00</td><td>1</td><td>2</td><td>113781</td><td>151.5500</td><td>C22 C26</td><td>S</td><td>  </td><td> NA</td><td>Montreal, PQ / Chesterville, ON</td></tr>\n",
              "\t<tr><td>1</td><td>0</td><td>Allison, Mr. Hudson Joshua Creighton           </td><td>male  </td><td>30.00</td><td>1</td><td>2</td><td>113781</td><td>151.5500</td><td>C22 C26</td><td>S</td><td>  </td><td>135</td><td>Montreal, PQ / Chesterville, ON</td></tr>\n",
              "\t<tr><td>1</td><td>0</td><td>Allison, Mrs. Hudson J C (Bessie Waldo Daniels)</td><td>female</td><td>25.00</td><td>1</td><td>2</td><td>113781</td><td>151.5500</td><td>C22 C26</td><td>S</td><td>  </td><td> NA</td><td>Montreal, PQ / Chesterville, ON</td></tr>\n",
              "</tbody>\n",
              "</table>\n"
            ]
          },
          "metadata": {
            "tags": []
          }
        }
      ]
    },
    {
      "cell_type": "code",
      "metadata": {
        "id": "_o52rTAkpHh6",
        "outputId": "74706b78-eaf3-4296-a707-6afee47d16d2",
        "colab": {
          "base_uri": "https://localhost:8080/",
          "height": 251
        }
      },
      "source": [
        "filter(titanic_df, pclass == 1 & survived == 0 ) %>% head(5)"
      ],
      "execution_count": 67,
      "outputs": [
        {
          "output_type": "display_data",
          "data": {
            "text/plain": [
              "  pclass survived name                                            sex    age\n",
              "1 1      0        Allison, Miss. Helen Loraine                    female  2 \n",
              "2 1      0        Allison, Mr. Hudson Joshua Creighton            male   30 \n",
              "3 1      0        Allison, Mrs. Hudson J C (Bessie Waldo Daniels) female 25 \n",
              "4 1      0        Andrews, Mr. Thomas Jr                          male   39 \n",
              "5 1      0        Artagaveytia, Mr. Ramon                         male   71 \n",
              "  sibsp parch ticket   fare     cabin   embarked boat body\n",
              "1 1     2     113781   151.5500 C22 C26 S              NA \n",
              "2 1     2     113781   151.5500 C22 C26 S             135 \n",
              "3 1     2     113781   151.5500 C22 C26 S              NA \n",
              "4 0     0     112050     0.0000 A36     S              NA \n",
              "5 0     0     PC 17609  49.5042         C              22 \n",
              "  home.dest                      \n",
              "1 Montreal, PQ / Chesterville, ON\n",
              "2 Montreal, PQ / Chesterville, ON\n",
              "3 Montreal, PQ / Chesterville, ON\n",
              "4 Belfast, NI                    \n",
              "5 Montevideo, Uruguay            "
            ],
            "text/latex": "A tibble: 5 × 14\n\\begin{tabular}{llllllllllllll}\n pclass & survived & name & sex & age & sibsp & parch & ticket & fare & cabin & embarked & boat & body & home.dest\\\\\n <int> & <int> & <chr> & <chr> & <dbl> & <int> & <int> & <chr> & <dbl> & <chr> & <chr> & <chr> & <int> & <chr>\\\\\n\\hline\n\t 1 & 0 & Allison, Miss. Helen Loraine                    & female &  2 & 1 & 2 & 113781   & 151.5500 & C22 C26 & S &  &  NA & Montreal, PQ / Chesterville, ON\\\\\n\t 1 & 0 & Allison, Mr. Hudson Joshua Creighton            & male   & 30 & 1 & 2 & 113781   & 151.5500 & C22 C26 & S &  & 135 & Montreal, PQ / Chesterville, ON\\\\\n\t 1 & 0 & Allison, Mrs. Hudson J C (Bessie Waldo Daniels) & female & 25 & 1 & 2 & 113781   & 151.5500 & C22 C26 & S &  &  NA & Montreal, PQ / Chesterville, ON\\\\\n\t 1 & 0 & Andrews, Mr. Thomas Jr                          & male   & 39 & 0 & 0 & 112050   &   0.0000 & A36     & S &  &  NA & Belfast, NI                    \\\\\n\t 1 & 0 & Artagaveytia, Mr. Ramon                         & male   & 71 & 0 & 0 & PC 17609 &  49.5042 &         & C &  &  22 & Montevideo, Uruguay            \\\\\n\\end{tabular}\n",
            "text/markdown": "\nA tibble: 5 × 14\n\n| pclass &lt;int&gt; | survived &lt;int&gt; | name &lt;chr&gt; | sex &lt;chr&gt; | age &lt;dbl&gt; | sibsp &lt;int&gt; | parch &lt;int&gt; | ticket &lt;chr&gt; | fare &lt;dbl&gt; | cabin &lt;chr&gt; | embarked &lt;chr&gt; | boat &lt;chr&gt; | body &lt;int&gt; | home.dest &lt;chr&gt; |\n|---|---|---|---|---|---|---|---|---|---|---|---|---|---|\n| 1 | 0 | Allison, Miss. Helen Loraine                    | female |  2 | 1 | 2 | 113781   | 151.5500 | C22 C26 | S | <!----> |  NA | Montreal, PQ / Chesterville, ON |\n| 1 | 0 | Allison, Mr. Hudson Joshua Creighton            | male   | 30 | 1 | 2 | 113781   | 151.5500 | C22 C26 | S | <!----> | 135 | Montreal, PQ / Chesterville, ON |\n| 1 | 0 | Allison, Mrs. Hudson J C (Bessie Waldo Daniels) | female | 25 | 1 | 2 | 113781   | 151.5500 | C22 C26 | S | <!----> |  NA | Montreal, PQ / Chesterville, ON |\n| 1 | 0 | Andrews, Mr. Thomas Jr                          | male   | 39 | 0 | 0 | 112050   |   0.0000 | A36     | S | <!----> |  NA | Belfast, NI                     |\n| 1 | 0 | Artagaveytia, Mr. Ramon                         | male   | 71 | 0 | 0 | PC 17609 |  49.5042 | <!----> | C | <!----> |  22 | Montevideo, Uruguay             |\n\n",
            "text/html": [
              "<table>\n",
              "<caption>A tibble: 5 × 14</caption>\n",
              "<thead>\n",
              "\t<tr><th scope=col>pclass</th><th scope=col>survived</th><th scope=col>name</th><th scope=col>sex</th><th scope=col>age</th><th scope=col>sibsp</th><th scope=col>parch</th><th scope=col>ticket</th><th scope=col>fare</th><th scope=col>cabin</th><th scope=col>embarked</th><th scope=col>boat</th><th scope=col>body</th><th scope=col>home.dest</th></tr>\n",
              "\t<tr><th scope=col>&lt;int&gt;</th><th scope=col>&lt;int&gt;</th><th scope=col>&lt;chr&gt;</th><th scope=col>&lt;chr&gt;</th><th scope=col>&lt;dbl&gt;</th><th scope=col>&lt;int&gt;</th><th scope=col>&lt;int&gt;</th><th scope=col>&lt;chr&gt;</th><th scope=col>&lt;dbl&gt;</th><th scope=col>&lt;chr&gt;</th><th scope=col>&lt;chr&gt;</th><th scope=col>&lt;chr&gt;</th><th scope=col>&lt;int&gt;</th><th scope=col>&lt;chr&gt;</th></tr>\n",
              "</thead>\n",
              "<tbody>\n",
              "\t<tr><td>1</td><td>0</td><td>Allison, Miss. Helen Loraine                   </td><td>female</td><td> 2</td><td>1</td><td>2</td><td>113781  </td><td>151.5500</td><td>C22 C26</td><td>S</td><td></td><td> NA</td><td>Montreal, PQ / Chesterville, ON</td></tr>\n",
              "\t<tr><td>1</td><td>0</td><td>Allison, Mr. Hudson Joshua Creighton           </td><td>male  </td><td>30</td><td>1</td><td>2</td><td>113781  </td><td>151.5500</td><td>C22 C26</td><td>S</td><td></td><td>135</td><td>Montreal, PQ / Chesterville, ON</td></tr>\n",
              "\t<tr><td>1</td><td>0</td><td>Allison, Mrs. Hudson J C (Bessie Waldo Daniels)</td><td>female</td><td>25</td><td>1</td><td>2</td><td>113781  </td><td>151.5500</td><td>C22 C26</td><td>S</td><td></td><td> NA</td><td>Montreal, PQ / Chesterville, ON</td></tr>\n",
              "\t<tr><td>1</td><td>0</td><td>Andrews, Mr. Thomas Jr                         </td><td>male  </td><td>39</td><td>0</td><td>0</td><td>112050  </td><td>  0.0000</td><td>A36    </td><td>S</td><td></td><td> NA</td><td>Belfast, NI                    </td></tr>\n",
              "\t<tr><td>1</td><td>0</td><td>Artagaveytia, Mr. Ramon                        </td><td>male  </td><td>71</td><td>0</td><td>0</td><td>PC 17609</td><td> 49.5042</td><td>       </td><td>C</td><td></td><td> 22</td><td>Montevideo, Uruguay            </td></tr>\n",
              "</tbody>\n",
              "</table>\n"
            ]
          },
          "metadata": {
            "tags": []
          }
        }
      ]
    },
    {
      "cell_type": "code",
      "metadata": {
        "id": "mNnIIT7npQvG",
        "outputId": "f9d9cb1d-e546-4abe-b1b1-4465df4d41e6",
        "colab": {
          "base_uri": "https://localhost:8080/",
          "height": 268
        }
      },
      "source": [
        "arrange(titanic_df,desc(pclass),survived, age) %>% head(5)"
      ],
      "execution_count": 68,
      "outputs": [
        {
          "output_type": "display_data",
          "data": {
            "text/plain": [
              "  pclass survived name                                    sex    age  sibsp\n",
              "1 3      0        Danbom, Master. Gilbert Sigvard Emanuel male   0.33 0    \n",
              "2 3      0        Peacock, Master. Alfred Edward          male   0.75 1    \n",
              "3 3      0        Goodwin, Master. Sidney Leonard         male   1.00 5    \n",
              "4 3      0        Klasen, Miss. Gertrud Emilia            female 1.00 1    \n",
              "5 3      0        Panula, Master. Eino Viljami            male   1.00 4    \n",
              "  parch ticket             fare    cabin embarked boat body\n",
              "1 2     347080             14.4000       S             NA  \n",
              "2 1     SOTON/O.Q. 3101315 13.7750       S             NA  \n",
              "3 2     CA 2144            46.9000       S             NA  \n",
              "4 1     350405             12.1833       S             NA  \n",
              "5 1     3101295            39.6875       S             NA  \n",
              "  home.dest                           \n",
              "1 Stanton, IA                         \n",
              "2                                     \n",
              "3 Wiltshire, England Niagara Falls, NY\n",
              "4                                     \n",
              "5                                     "
            ],
            "text/latex": "A tibble: 5 × 14\n\\begin{tabular}{llllllllllllll}\n pclass & survived & name & sex & age & sibsp & parch & ticket & fare & cabin & embarked & boat & body & home.dest\\\\\n <int> & <int> & <chr> & <chr> & <dbl> & <int> & <int> & <chr> & <dbl> & <chr> & <chr> & <chr> & <int> & <chr>\\\\\n\\hline\n\t 3 & 0 & Danbom, Master. Gilbert Sigvard Emanuel & male   & 0.33 & 0 & 2 & 347080             & 14.4000 &  & S &  & NA & Stanton, IA                         \\\\\n\t 3 & 0 & Peacock, Master. Alfred Edward          & male   & 0.75 & 1 & 1 & SOTON/O.Q. 3101315 & 13.7750 &  & S &  & NA &                                     \\\\\n\t 3 & 0 & Goodwin, Master. Sidney Leonard         & male   & 1.00 & 5 & 2 & CA 2144            & 46.9000 &  & S &  & NA & Wiltshire, England Niagara Falls, NY\\\\\n\t 3 & 0 & Klasen, Miss. Gertrud Emilia            & female & 1.00 & 1 & 1 & 350405             & 12.1833 &  & S &  & NA &                                     \\\\\n\t 3 & 0 & Panula, Master. Eino Viljami            & male   & 1.00 & 4 & 1 & 3101295            & 39.6875 &  & S &  & NA &                                     \\\\\n\\end{tabular}\n",
            "text/markdown": "\nA tibble: 5 × 14\n\n| pclass &lt;int&gt; | survived &lt;int&gt; | name &lt;chr&gt; | sex &lt;chr&gt; | age &lt;dbl&gt; | sibsp &lt;int&gt; | parch &lt;int&gt; | ticket &lt;chr&gt; | fare &lt;dbl&gt; | cabin &lt;chr&gt; | embarked &lt;chr&gt; | boat &lt;chr&gt; | body &lt;int&gt; | home.dest &lt;chr&gt; |\n|---|---|---|---|---|---|---|---|---|---|---|---|---|---|\n| 3 | 0 | Danbom, Master. Gilbert Sigvard Emanuel | male   | 0.33 | 0 | 2 | 347080             | 14.4000 | <!----> | S | <!----> | NA | Stanton, IA                          |\n| 3 | 0 | Peacock, Master. Alfred Edward          | male   | 0.75 | 1 | 1 | SOTON/O.Q. 3101315 | 13.7750 | <!----> | S | <!----> | NA | <!----> |\n| 3 | 0 | Goodwin, Master. Sidney Leonard         | male   | 1.00 | 5 | 2 | CA 2144            | 46.9000 | <!----> | S | <!----> | NA | Wiltshire, England Niagara Falls, NY |\n| 3 | 0 | Klasen, Miss. Gertrud Emilia            | female | 1.00 | 1 | 1 | 350405             | 12.1833 | <!----> | S | <!----> | NA | <!----> |\n| 3 | 0 | Panula, Master. Eino Viljami            | male   | 1.00 | 4 | 1 | 3101295            | 39.6875 | <!----> | S | <!----> | NA | <!----> |\n\n",
            "text/html": [
              "<table>\n",
              "<caption>A tibble: 5 × 14</caption>\n",
              "<thead>\n",
              "\t<tr><th scope=col>pclass</th><th scope=col>survived</th><th scope=col>name</th><th scope=col>sex</th><th scope=col>age</th><th scope=col>sibsp</th><th scope=col>parch</th><th scope=col>ticket</th><th scope=col>fare</th><th scope=col>cabin</th><th scope=col>embarked</th><th scope=col>boat</th><th scope=col>body</th><th scope=col>home.dest</th></tr>\n",
              "\t<tr><th scope=col>&lt;int&gt;</th><th scope=col>&lt;int&gt;</th><th scope=col>&lt;chr&gt;</th><th scope=col>&lt;chr&gt;</th><th scope=col>&lt;dbl&gt;</th><th scope=col>&lt;int&gt;</th><th scope=col>&lt;int&gt;</th><th scope=col>&lt;chr&gt;</th><th scope=col>&lt;dbl&gt;</th><th scope=col>&lt;chr&gt;</th><th scope=col>&lt;chr&gt;</th><th scope=col>&lt;chr&gt;</th><th scope=col>&lt;int&gt;</th><th scope=col>&lt;chr&gt;</th></tr>\n",
              "</thead>\n",
              "<tbody>\n",
              "\t<tr><td>3</td><td>0</td><td>Danbom, Master. Gilbert Sigvard Emanuel</td><td>male  </td><td>0.33</td><td>0</td><td>2</td><td>347080            </td><td>14.4000</td><td></td><td>S</td><td></td><td>NA</td><td>Stanton, IA                         </td></tr>\n",
              "\t<tr><td>3</td><td>0</td><td>Peacock, Master. Alfred Edward         </td><td>male  </td><td>0.75</td><td>1</td><td>1</td><td>SOTON/O.Q. 3101315</td><td>13.7750</td><td></td><td>S</td><td></td><td>NA</td><td>                                    </td></tr>\n",
              "\t<tr><td>3</td><td>0</td><td>Goodwin, Master. Sidney Leonard        </td><td>male  </td><td>1.00</td><td>5</td><td>2</td><td>CA 2144           </td><td>46.9000</td><td></td><td>S</td><td></td><td>NA</td><td>Wiltshire, England Niagara Falls, NY</td></tr>\n",
              "\t<tr><td>3</td><td>0</td><td>Klasen, Miss. Gertrud Emilia           </td><td>female</td><td>1.00</td><td>1</td><td>1</td><td>350405            </td><td>12.1833</td><td></td><td>S</td><td></td><td>NA</td><td>                                    </td></tr>\n",
              "\t<tr><td>3</td><td>0</td><td>Panula, Master. Eino Viljami           </td><td>male  </td><td>1.00</td><td>4</td><td>1</td><td>3101295           </td><td>39.6875</td><td></td><td>S</td><td></td><td>NA</td><td>                                    </td></tr>\n",
              "</tbody>\n",
              "</table>\n"
            ]
          },
          "metadata": {
            "tags": []
          }
        }
      ]
    },
    {
      "cell_type": "code",
      "metadata": {
        "id": "Ab2kHCJWpZMg",
        "outputId": "92b9f626-7fc2-482a-cca7-287a35c95ddd",
        "colab": {
          "base_uri": "https://localhost:8080/",
          "height": 183
        }
      },
      "source": [
        "select(titanic_df, pclass, survived, age) %>% head(5)"
      ],
      "execution_count": 69,
      "outputs": [
        {
          "output_type": "display_data",
          "data": {
            "text/plain": [
              "  pclass survived age  \n",
              "1 1      1        29.00\n",
              "2 1      1         0.92\n",
              "3 1      0         2.00\n",
              "4 1      0        30.00\n",
              "5 1      0        25.00"
            ],
            "text/latex": "A tibble: 5 × 3\n\\begin{tabular}{lll}\n pclass & survived & age\\\\\n <int> & <int> & <dbl>\\\\\n\\hline\n\t 1 & 1 & 29.00\\\\\n\t 1 & 1 &  0.92\\\\\n\t 1 & 0 &  2.00\\\\\n\t 1 & 0 & 30.00\\\\\n\t 1 & 0 & 25.00\\\\\n\\end{tabular}\n",
            "text/markdown": "\nA tibble: 5 × 3\n\n| pclass &lt;int&gt; | survived &lt;int&gt; | age &lt;dbl&gt; |\n|---|---|---|\n| 1 | 1 | 29.00 |\n| 1 | 1 |  0.92 |\n| 1 | 0 |  2.00 |\n| 1 | 0 | 30.00 |\n| 1 | 0 | 25.00 |\n\n",
            "text/html": [
              "<table>\n",
              "<caption>A tibble: 5 × 3</caption>\n",
              "<thead>\n",
              "\t<tr><th scope=col>pclass</th><th scope=col>survived</th><th scope=col>age</th></tr>\n",
              "\t<tr><th scope=col>&lt;int&gt;</th><th scope=col>&lt;int&gt;</th><th scope=col>&lt;dbl&gt;</th></tr>\n",
              "</thead>\n",
              "<tbody>\n",
              "\t<tr><td>1</td><td>1</td><td>29.00</td></tr>\n",
              "\t<tr><td>1</td><td>1</td><td> 0.92</td></tr>\n",
              "\t<tr><td>1</td><td>0</td><td> 2.00</td></tr>\n",
              "\t<tr><td>1</td><td>0</td><td>30.00</td></tr>\n",
              "\t<tr><td>1</td><td>0</td><td>25.00</td></tr>\n",
              "</tbody>\n",
              "</table>\n"
            ]
          },
          "metadata": {
            "tags": []
          }
        }
      ]
    },
    {
      "cell_type": "code",
      "metadata": {
        "id": "C5x0QqJfpk_R",
        "outputId": "86b11a43-cfcc-4128-abc7-dd1ec97bb968",
        "colab": {
          "base_uri": "https://localhost:8080/",
          "height": 404
        }
      },
      "source": [
        "mutate(titanic_df, pclass_survived = pclass + survived) %>% head(5)"
      ],
      "execution_count": 71,
      "outputs": [
        {
          "output_type": "display_data",
          "data": {
            "text/plain": [
              "  pclass survived name                                            sex    age  \n",
              "1 1      1        Allen, Miss. Elisabeth Walton                   female 29.00\n",
              "2 1      1        Allison, Master. Hudson Trevor                  male    0.92\n",
              "3 1      0        Allison, Miss. Helen Loraine                    female  2.00\n",
              "4 1      0        Allison, Mr. Hudson Joshua Creighton            male   30.00\n",
              "5 1      0        Allison, Mrs. Hudson J C (Bessie Waldo Daniels) female 25.00\n",
              "  sibsp parch ticket fare     cabin   embarked boat body\n",
              "1 0     0     24160  211.3375 B5      S        2     NA \n",
              "2 1     2     113781 151.5500 C22 C26 S        11    NA \n",
              "3 1     2     113781 151.5500 C22 C26 S              NA \n",
              "4 1     2     113781 151.5500 C22 C26 S             135 \n",
              "5 1     2     113781 151.5500 C22 C26 S              NA \n",
              "  home.dest                       pclass_survived\n",
              "1 St Louis, MO                    2              \n",
              "2 Montreal, PQ / Chesterville, ON 2              \n",
              "3 Montreal, PQ / Chesterville, ON 1              \n",
              "4 Montreal, PQ / Chesterville, ON 1              \n",
              "5 Montreal, PQ / Chesterville, ON 1              "
            ],
            "text/latex": "A tibble: 5 × 15\n\\begin{tabular}{lllllllllllllll}\n pclass & survived & name & sex & age & sibsp & parch & ticket & fare & cabin & embarked & boat & body & home.dest & pclass\\_survived\\\\\n <int> & <int> & <chr> & <chr> & <dbl> & <int> & <int> & <chr> & <dbl> & <chr> & <chr> & <chr> & <int> & <chr> & <int>\\\\\n\\hline\n\t 1 & 1 & Allen, Miss. Elisabeth Walton                   & female & 29.00 & 0 & 0 & 24160  & 211.3375 & B5      & S & 2  &  NA & St Louis, MO                    & 2\\\\\n\t 1 & 1 & Allison, Master. Hudson Trevor                  & male   &  0.92 & 1 & 2 & 113781 & 151.5500 & C22 C26 & S & 11 &  NA & Montreal, PQ / Chesterville, ON & 2\\\\\n\t 1 & 0 & Allison, Miss. Helen Loraine                    & female &  2.00 & 1 & 2 & 113781 & 151.5500 & C22 C26 & S &    &  NA & Montreal, PQ / Chesterville, ON & 1\\\\\n\t 1 & 0 & Allison, Mr. Hudson Joshua Creighton            & male   & 30.00 & 1 & 2 & 113781 & 151.5500 & C22 C26 & S &    & 135 & Montreal, PQ / Chesterville, ON & 1\\\\\n\t 1 & 0 & Allison, Mrs. Hudson J C (Bessie Waldo Daniels) & female & 25.00 & 1 & 2 & 113781 & 151.5500 & C22 C26 & S &    &  NA & Montreal, PQ / Chesterville, ON & 1\\\\\n\\end{tabular}\n",
            "text/markdown": "\nA tibble: 5 × 15\n\n| pclass &lt;int&gt; | survived &lt;int&gt; | name &lt;chr&gt; | sex &lt;chr&gt; | age &lt;dbl&gt; | sibsp &lt;int&gt; | parch &lt;int&gt; | ticket &lt;chr&gt; | fare &lt;dbl&gt; | cabin &lt;chr&gt; | embarked &lt;chr&gt; | boat &lt;chr&gt; | body &lt;int&gt; | home.dest &lt;chr&gt; | pclass_survived &lt;int&gt; |\n|---|---|---|---|---|---|---|---|---|---|---|---|---|---|---|\n| 1 | 1 | Allen, Miss. Elisabeth Walton                   | female | 29.00 | 0 | 0 | 24160  | 211.3375 | B5      | S | 2  |  NA | St Louis, MO                    | 2 |\n| 1 | 1 | Allison, Master. Hudson Trevor                  | male   |  0.92 | 1 | 2 | 113781 | 151.5500 | C22 C26 | S | 11 |  NA | Montreal, PQ / Chesterville, ON | 2 |\n| 1 | 0 | Allison, Miss. Helen Loraine                    | female |  2.00 | 1 | 2 | 113781 | 151.5500 | C22 C26 | S | <!----> |  NA | Montreal, PQ / Chesterville, ON | 1 |\n| 1 | 0 | Allison, Mr. Hudson Joshua Creighton            | male   | 30.00 | 1 | 2 | 113781 | 151.5500 | C22 C26 | S | <!----> | 135 | Montreal, PQ / Chesterville, ON | 1 |\n| 1 | 0 | Allison, Mrs. Hudson J C (Bessie Waldo Daniels) | female | 25.00 | 1 | 2 | 113781 | 151.5500 | C22 C26 | S | <!----> |  NA | Montreal, PQ / Chesterville, ON | 1 |\n\n",
            "text/html": [
              "<table>\n",
              "<caption>A tibble: 5 × 15</caption>\n",
              "<thead>\n",
              "\t<tr><th scope=col>pclass</th><th scope=col>survived</th><th scope=col>name</th><th scope=col>sex</th><th scope=col>age</th><th scope=col>sibsp</th><th scope=col>parch</th><th scope=col>ticket</th><th scope=col>fare</th><th scope=col>cabin</th><th scope=col>embarked</th><th scope=col>boat</th><th scope=col>body</th><th scope=col>home.dest</th><th scope=col>pclass_survived</th></tr>\n",
              "\t<tr><th scope=col>&lt;int&gt;</th><th scope=col>&lt;int&gt;</th><th scope=col>&lt;chr&gt;</th><th scope=col>&lt;chr&gt;</th><th scope=col>&lt;dbl&gt;</th><th scope=col>&lt;int&gt;</th><th scope=col>&lt;int&gt;</th><th scope=col>&lt;chr&gt;</th><th scope=col>&lt;dbl&gt;</th><th scope=col>&lt;chr&gt;</th><th scope=col>&lt;chr&gt;</th><th scope=col>&lt;chr&gt;</th><th scope=col>&lt;int&gt;</th><th scope=col>&lt;chr&gt;</th><th scope=col>&lt;int&gt;</th></tr>\n",
              "</thead>\n",
              "<tbody>\n",
              "\t<tr><td>1</td><td>1</td><td>Allen, Miss. Elisabeth Walton                  </td><td>female</td><td>29.00</td><td>0</td><td>0</td><td>24160 </td><td>211.3375</td><td>B5     </td><td>S</td><td>2 </td><td> NA</td><td>St Louis, MO                   </td><td>2</td></tr>\n",
              "\t<tr><td>1</td><td>1</td><td>Allison, Master. Hudson Trevor                 </td><td>male  </td><td> 0.92</td><td>1</td><td>2</td><td>113781</td><td>151.5500</td><td>C22 C26</td><td>S</td><td>11</td><td> NA</td><td>Montreal, PQ / Chesterville, ON</td><td>2</td></tr>\n",
              "\t<tr><td>1</td><td>0</td><td>Allison, Miss. Helen Loraine                   </td><td>female</td><td> 2.00</td><td>1</td><td>2</td><td>113781</td><td>151.5500</td><td>C22 C26</td><td>S</td><td>  </td><td> NA</td><td>Montreal, PQ / Chesterville, ON</td><td>1</td></tr>\n",
              "\t<tr><td>1</td><td>0</td><td>Allison, Mr. Hudson Joshua Creighton           </td><td>male  </td><td>30.00</td><td>1</td><td>2</td><td>113781</td><td>151.5500</td><td>C22 C26</td><td>S</td><td>  </td><td>135</td><td>Montreal, PQ / Chesterville, ON</td><td>1</td></tr>\n",
              "\t<tr><td>1</td><td>0</td><td>Allison, Mrs. Hudson J C (Bessie Waldo Daniels)</td><td>female</td><td>25.00</td><td>1</td><td>2</td><td>113781</td><td>151.5500</td><td>C22 C26</td><td>S</td><td>  </td><td> NA</td><td>Montreal, PQ / Chesterville, ON</td><td>1</td></tr>\n",
              "</tbody>\n",
              "</table>\n"
            ]
          },
          "metadata": {
            "tags": []
          }
        }
      ]
    },
    {
      "cell_type": "code",
      "metadata": {
        "id": "GPQy8npTqf2x",
        "outputId": "f37a8e1b-6120-4567-ab64-45ed46a557b5",
        "colab": {
          "base_uri": "https://localhost:8080/",
          "height": 116
        }
      },
      "source": [
        "summarise(titanic_df, avgAge = mean(age, na.rm = TRUE))"
      ],
      "execution_count": 72,
      "outputs": [
        {
          "output_type": "display_data",
          "data": {
            "text/plain": [
              "  avgAge  \n",
              "1 29.88114"
            ],
            "text/latex": "A tibble: 1 × 1\n\\begin{tabular}{l}\n avgAge\\\\\n <dbl>\\\\\n\\hline\n\t 29.88114\\\\\n\\end{tabular}\n",
            "text/markdown": "\nA tibble: 1 × 1\n\n| avgAge &lt;dbl&gt; |\n|---|\n| 29.88114 |\n\n",
            "text/html": [
              "<table>\n",
              "<caption>A tibble: 1 × 1</caption>\n",
              "<thead>\n",
              "\t<tr><th scope=col>avgAge</th></tr>\n",
              "\t<tr><th scope=col>&lt;dbl&gt;</th></tr>\n",
              "</thead>\n",
              "<tbody>\n",
              "\t<tr><td>29.88114</td></tr>\n",
              "</tbody>\n",
              "</table>\n"
            ]
          },
          "metadata": {
            "tags": []
          }
        }
      ]
    },
    {
      "cell_type": "code",
      "metadata": {
        "id": "SDSZ4jY1IvRa",
        "outputId": "daeea858-362d-469a-bf93-9c46e339a1e6",
        "colab": {
          "base_uri": "https://localhost:8080/",
          "height": 269
        }
      },
      "source": [
        "## 집단변수 대상 그룹화\n",
        "# group_by(dataframe, 집단변수)\n",
        "species <- group_by(iris, Species)\n",
        "str(species)\n",
        "# tibble : http://blog.naver.com/PostView.nhn?blogId=2000051148&logNo=221188223533&parentCategoryNo=&categoryNo=52&viewDate=&isShowPopularPosts=true&from=search"
      ],
      "execution_count": 3,
      "outputs": [
        {
          "output_type": "stream",
          "text": [
            "tibble [150 × 5] (S3: grouped_df/tbl_df/tbl/data.frame)\n",
            " $ Sepal.Length: num [1:150] 5.1 4.9 4.7 4.6 5 5.4 4.6 5 4.4 4.9 ...\n",
            " $ Sepal.Width : num [1:150] 3.5 3 3.2 3.1 3.6 3.9 3.4 3.4 2.9 3.1 ...\n",
            " $ Petal.Length: num [1:150] 1.4 1.4 1.3 1.5 1.4 1.7 1.4 1.5 1.4 1.5 ...\n",
            " $ Petal.Width : num [1:150] 0.2 0.2 0.2 0.2 0.2 0.4 0.3 0.2 0.2 0.1 ...\n",
            " $ Species     : Factor w/ 3 levels \"setosa\",\"versicolor\",..: 1 1 1 1 1 1 1 1 1 1 ...\n",
            " - attr(*, \"groups\")= tibble [3 × 2] (S3: tbl_df/tbl/data.frame)\n",
            "  ..$ Species: Factor w/ 3 levels \"setosa\",\"versicolor\",..: 1 2 3\n",
            "  ..$ .rows  : list<int> [1:3] \n",
            "  .. ..$ : int [1:50] 1 2 3 4 5 6 7 8 9 10 ...\n",
            "  .. ..$ : int [1:50] 51 52 53 54 55 56 57 58 59 60 ...\n",
            "  .. ..$ : int [1:50] 101 102 103 104 105 106 107 108 109 110 ...\n",
            "  .. ..@ ptype: int(0) \n",
            "  ..- attr(*, \".drop\")= logi TRUE\n"
          ],
          "name": "stdout"
        }
      ]
    },
    {
      "cell_type": "code",
      "metadata": {
        "id": "PH-jXleiJelG"
      },
      "source": [
        "# species"
      ],
      "execution_count": 6,
      "outputs": []
    },
    {
      "cell_type": "code",
      "metadata": {
        "id": "caHP2zv2JPZv",
        "outputId": "0341d87a-77c2-4df1-9392-3a4a5339e0b4",
        "colab": {
          "base_uri": "https://localhost:8080/",
          "height": 125
        }
      },
      "source": [
        "# 비교 : ???\n",
        "str(iris)"
      ],
      "execution_count": 75,
      "outputs": [
        {
          "output_type": "stream",
          "text": [
            "'data.frame':\t150 obs. of  5 variables:\n",
            " $ Sepal.Length: num  5.1 4.9 4.7 4.6 5 5.4 4.6 5 4.4 4.9 ...\n",
            " $ Sepal.Width : num  3.5 3 3.2 3.1 3.6 3.9 3.4 3.4 2.9 3.1 ...\n",
            " $ Petal.Length: num  1.4 1.4 1.3 1.5 1.4 1.7 1.4 1.5 1.4 1.5 ...\n",
            " $ Petal.Width : num  0.2 0.2 0.2 0.2 0.2 0.4 0.3 0.2 0.2 0.1 ...\n",
            " $ Species     : Factor w/ 3 levels \"setosa\",\"versicolor\",..: 1 1 1 1 1 1 1 1 1 1 ...\n"
          ],
          "name": "stdout"
        }
      ]
    },
    {
      "cell_type": "code",
      "metadata": {
        "id": "G8_gNnqqJlmq"
      },
      "source": [
        "# iris "
      ],
      "execution_count": 7,
      "outputs": []
    },
    {
      "cell_type": "code",
      "metadata": {
        "id": "vpRx5dW2wO79"
      },
      "source": [
        "## 데이터프레임 병합\n",
        "# inner_join(dataframe1, dataframe2, 공통변수 )\n"
      ],
      "execution_count": null,
      "outputs": []
    }
  ]
}