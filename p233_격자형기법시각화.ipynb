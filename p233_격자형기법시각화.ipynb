{
  "nbformat": 4,
  "nbformat_minor": 0,
  "metadata": {
    "colab": {
      "name": "p233_격자형기법시각화.ipynb",
      "provenance": [],
      "authorship_tag": "ABX9TyMOykrG6yXY0/I1H+5TUdU2",
      "include_colab_link": true
    },
    "kernelspec": {
      "name": "ir",
      "display_name": "R"
    }
  },
  "cells": [
    {
      "cell_type": "markdown",
      "metadata": {
        "id": "view-in-github",
        "colab_type": "text"
      },
      "source": [
        "<a href=\"https://colab.research.google.com/github/gyujin0450/RPRG_PartII/blob/master/p233_%EA%B2%A9%EC%9E%90%ED%98%95%EA%B8%B0%EB%B2%95%EC%8B%9C%EA%B0%81%ED%99%94.ipynb\" target=\"_parent\"><img src=\"https://colab.research.google.com/assets/colab-badge.svg\" alt=\"Open In Colab\"/></a>"
      ]
    },
    {
      "cell_type": "markdown",
      "metadata": {
        "id": "8h5uo1yaondh"
      },
      "source": [
        "# ch08.2 격자형 기법 시각화"
      ]
    },
    {
      "cell_type": "code",
      "metadata": {
        "id": "7ONW0yH4o4Ze",
        "outputId": "d07a0f08-f8f6-49f6-b3ab-3da886868279",
        "colab": {
          "base_uri": "https://localhost:8080/",
          "height": 71
        }
      },
      "source": [
        "# 1) lattice 패키지 설치\n",
        "install.packages(\"lattice\")\n",
        "library(lattice)"
      ],
      "execution_count": 1,
      "outputs": [
        {
          "output_type": "stream",
          "text": [
            "Installing package into ‘/usr/local/lib/R/site-library’\n",
            "(as ‘lib’ is unspecified)\n",
            "\n"
          ],
          "name": "stderr"
        }
      ]
    },
    {
      "cell_type": "code",
      "metadata": {
        "id": "79Gmf2nnxuM3",
        "outputId": "51ce0e53-1c15-4d8e-d4a7-3aab805ed289",
        "colab": {
          "base_uri": "https://localhost:8080/",
          "height": 125
        }
      },
      "source": [
        "# 2) 실습용 데이터 가저오기\n",
        "install.packages(\"mlmRev\")\n",
        "library(mlmRev)"
      ],
      "execution_count": null,
      "outputs": [
        {
          "output_type": "stream",
          "text": [
            "Installing package into ‘/usr/local/lib/R/site-library’\n",
            "(as ‘lib’ is unspecified)\n",
            "\n",
            "also installing the dependencies ‘minqa’, ‘nloptr’, ‘statmod’, ‘RcppEigen’, ‘lme4’\n",
            "\n",
            "\n"
          ],
          "name": "stderr"
        }
      ]
    },
    {
      "cell_type": "code",
      "metadata": {
        "id": "39XfsKCTyf2o"
      },
      "source": [
        "data(Chem97) \n",
        "str(Chem97)"
      ],
      "execution_count": null,
      "outputs": []
    }
  ]
}