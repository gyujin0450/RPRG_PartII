{
  "nbformat": 4,
  "nbformat_minor": 0,
  "metadata": {
    "colab": {
      "name": "p207_코딩변경.ipynb",
      "provenance": [],
      "authorship_tag": "ABX9TyMVxzyeIorfAAPEXLrZgWYQ",
      "include_colab_link": true
    },
    "kernelspec": {
      "name": "ir",
      "display_name": "R"
    }
  },
  "cells": [
    {
      "cell_type": "markdown",
      "metadata": {
        "id": "view-in-github",
        "colab_type": "text"
      },
      "source": [
        "<a href=\"https://colab.research.google.com/github/gyujin0450/RPRG_PartII/blob/master/p207_%EC%BD%94%EB%94%A9%EB%B3%80%EA%B2%BD.ipynb\" target=\"_parent\"><img src=\"https://colab.research.google.com/assets/colab-badge.svg\" alt=\"Open In Colab\"/></a>"
      ]
    },
    {
      "cell_type": "markdown",
      "metadata": {
        "id": "43gwvJM_xaZj"
      },
      "source": [
        "ch07.5 코딩변경"
      ]
    },
    {
      "cell_type": "code",
      "metadata": {
        "id": "lszl73-bx3aK"
      },
      "source": [
        "# 코딩변경이란 최초 코딩 내용을 용도에 맞게 변경하는 작업\n",
        "# 데이터의 가독성과 척도 변경 그리고 역코딩 등의 목적을 수행"
      ],
      "execution_count": null,
      "outputs": []
    },
    {
      "cell_type": "code",
      "metadata": {
        "id": "_AkgkzKc33pN",
        "outputId": "275c123f-86d6-4d71-f5d1-8881663ec702",
        "colab": {
          "base_uri": "https://localhost:8080/",
          "height": 204
        }
      },
      "source": [
        "dataset <- read.csv(\"dataset.csv\", header = T) # header가 있는 csv 파일 읽기\n",
        "head(dataset)"
      ],
      "execution_count": 1,
      "outputs": [
        {
          "output_type": "display_data",
          "data": {
            "text/plain": [
              "  resident gender job age position price survey\n",
              "1  1       1       1  26   2       5.1   1     \n",
              "2  2       1       2  54   5       4.2   2     \n",
              "3 NA       1       2  41   4       4.7   4     \n",
              "4  4       2      NA  45   4       3.5   2     \n",
              "5  5       1       3  62   5       5.0   1     \n",
              "6  3       1       2  57  NA       5.4   2     "
            ],
            "text/latex": "A data.frame: 6 × 7\n\\begin{tabular}{r|lllllll}\n  & resident & gender & job & age & position & price & survey\\\\\n  & <int> & <int> & <int> & <int> & <int> & <dbl> & <int>\\\\\n\\hline\n\t1 &  1 & 1 &  1 & 26 &  2 & 5.1 & 1\\\\\n\t2 &  2 & 1 &  2 & 54 &  5 & 4.2 & 2\\\\\n\t3 & NA & 1 &  2 & 41 &  4 & 4.7 & 4\\\\\n\t4 &  4 & 2 & NA & 45 &  4 & 3.5 & 2\\\\\n\t5 &  5 & 1 &  3 & 62 &  5 & 5.0 & 1\\\\\n\t6 &  3 & 1 &  2 & 57 & NA & 5.4 & 2\\\\\n\\end{tabular}\n",
            "text/markdown": "\nA data.frame: 6 × 7\n\n| <!--/--> | resident &lt;int&gt; | gender &lt;int&gt; | job &lt;int&gt; | age &lt;int&gt; | position &lt;int&gt; | price &lt;dbl&gt; | survey &lt;int&gt; |\n|---|---|---|---|---|---|---|---|\n| 1 |  1 | 1 |  1 | 26 |  2 | 5.1 | 1 |\n| 2 |  2 | 1 |  2 | 54 |  5 | 4.2 | 2 |\n| 3 | NA | 1 |  2 | 41 |  4 | 4.7 | 4 |\n| 4 |  4 | 2 | NA | 45 |  4 | 3.5 | 2 |\n| 5 |  5 | 1 |  3 | 62 |  5 | 5.0 | 1 |\n| 6 |  3 | 1 |  2 | 57 | NA | 5.4 | 2 |\n\n",
            "text/html": [
              "<table>\n",
              "<caption>A data.frame: 6 × 7</caption>\n",
              "<thead>\n",
              "\t<tr><th></th><th scope=col>resident</th><th scope=col>gender</th><th scope=col>job</th><th scope=col>age</th><th scope=col>position</th><th scope=col>price</th><th scope=col>survey</th></tr>\n",
              "\t<tr><th></th><th scope=col>&lt;int&gt;</th><th scope=col>&lt;int&gt;</th><th scope=col>&lt;int&gt;</th><th scope=col>&lt;int&gt;</th><th scope=col>&lt;int&gt;</th><th scope=col>&lt;dbl&gt;</th><th scope=col>&lt;int&gt;</th></tr>\n",
              "</thead>\n",
              "<tbody>\n",
              "\t<tr><th scope=row>1</th><td> 1</td><td>1</td><td> 1</td><td>26</td><td> 2</td><td>5.1</td><td>1</td></tr>\n",
              "\t<tr><th scope=row>2</th><td> 2</td><td>1</td><td> 2</td><td>54</td><td> 5</td><td>4.2</td><td>2</td></tr>\n",
              "\t<tr><th scope=row>3</th><td>NA</td><td>1</td><td> 2</td><td>41</td><td> 4</td><td>4.7</td><td>4</td></tr>\n",
              "\t<tr><th scope=row>4</th><td> 4</td><td>2</td><td>NA</td><td>45</td><td> 4</td><td>3.5</td><td>2</td></tr>\n",
              "\t<tr><th scope=row>5</th><td> 5</td><td>1</td><td> 3</td><td>62</td><td> 5</td><td>5.0</td><td>1</td></tr>\n",
              "\t<tr><th scope=row>6</th><td> 3</td><td>1</td><td> 2</td><td>57</td><td>NA</td><td>5.4</td><td>2</td></tr>\n",
              "</tbody>\n",
              "</table>\n"
            ]
          },
          "metadata": {
            "tags": []
          }
        }
      ]
    },
    {
      "cell_type": "code",
      "metadata": {
        "id": "R7dh-KXsyK9j",
        "outputId": "e78bd85e-2bf5-4a5c-b8c5-2de9802c93d8",
        "colab": {
          "base_uri": "https://localhost:8080/",
          "height": 53
        }
      },
      "source": [
        "summary(dataset$resident)"
      ],
      "execution_count": 3,
      "outputs": [
        {
          "output_type": "display_data",
          "data": {
            "text/plain": [
              "   Min. 1st Qu.  Median    Mean 3rd Qu.    Max.    NA's \n",
              "  1.000   1.000   2.000   2.233   3.000   5.000      21 "
            ]
          },
          "metadata": {
            "tags": []
          }
        }
      ]
    },
    {
      "cell_type": "code",
      "metadata": {
        "id": "OasynDGk4OSJ",
        "outputId": "a8ab6762-4b28-40bb-a6bf-28a0e5f980e7",
        "colab": {
          "base_uri": "https://localhost:8080/",
          "height": 305
        }
      },
      "source": [
        "dataset2 <- subset(dataset, resident != \"NA\")\n",
        "summary(dataset2)"
      ],
      "execution_count": 13,
      "outputs": [
        {
          "output_type": "display_data",
          "data": {
            "text/plain": [
              "    resident         gender          job             age           position    \n",
              " Min.   :1.000   Min.   :0.00   Min.   :1.000   Min.   :20.00   Min.   :1.000  \n",
              " 1st Qu.:1.000   1st Qu.:1.00   1st Qu.:1.000   1st Qu.:28.75   1st Qu.:2.000  \n",
              " Median :2.000   Median :1.00   Median :2.000   Median :43.00   Median :4.000  \n",
              " Mean   :2.233   Mean   :1.43   Mean   :2.128   Mean   :42.97   Mean   :3.399  \n",
              " 3rd Qu.:3.000   3rd Qu.:2.00   3rd Qu.:3.000   3rd Qu.:56.00   3rd Qu.:5.000  \n",
              " Max.   :5.000   Max.   :5.00   Max.   :3.000   Max.   :69.00   Max.   :5.000  \n",
              "                                NA's   :13      NA's   :27      NA's   :21     \n",
              "     price              survey     \n",
              " Min.   :-457.200   Min.   :1.000  \n",
              " 1st Qu.:   4.400   1st Qu.:2.000  \n",
              " Median :   5.400   Median :3.000  \n",
              " Mean   :   7.213   Mean   :2.649  \n",
              " 3rd Qu.:   6.300   3rd Qu.:3.000  \n",
              " Max.   : 675.000   Max.   :5.000  \n",
              " NA's   :30                        "
            ]
          },
          "metadata": {
            "tags": []
          }
        }
      ]
    },
    {
      "cell_type": "code",
      "metadata": {
        "id": "iFBE_lnE5XAN"
      },
      "source": [
        "# 가독성을 위한 코딩 변경\n",
        "dataset2$resident2[dataset2$resident == 1] <- \"1.서울\"\n",
        "dataset2$resident2[dataset2$resident == 2] <- \"2.인천\"\n",
        "dataset2$resident2[dataset2$resident == 3] <- \"3.대전\"\n",
        "dataset2$resident2[dataset2$resident == 4] <- \"4.대구\"\n",
        "dataset2$resident2[dataset2$resident == 5] <- \"5.제주\""
      ],
      "execution_count": 14,
      "outputs": []
    },
    {
      "cell_type": "code",
      "metadata": {
        "id": "kpUCrgkJ55CZ",
        "outputId": "289b9725-faef-4340-9ecc-476b0974e134",
        "colab": {
          "base_uri": "https://localhost:8080/",
          "height": 179
        }
      },
      "source": [
        "str(dataset2)"
      ],
      "execution_count": 15,
      "outputs": [
        {
          "output_type": "stream",
          "text": [
            "'data.frame':\t279 obs. of  8 variables:\n",
            " $ resident : int  1 2 4 5 3 2 5 2 5 3 ...\n",
            " $ gender   : int  1 1 2 1 1 2 1 1 2 1 ...\n",
            " $ job      : int  1 2 NA 3 2 1 2 2 NA 3 ...\n",
            " $ age      : int  26 54 45 62 57 36 NA 37 29 35 ...\n",
            " $ position : int  2 5 4 5 NA 3 3 3 2 2 ...\n",
            " $ price    : num  5.1 4.2 3.5 5 5.4 4.1 675 4.9 2.3 4.2 ...\n",
            " $ survey   : int  1 2 2 1 2 4 4 3 5 3 ...\n",
            " $ resident2: chr  \"1.서울\" \"2.인천\" \"4.대구\" \"5.제주\" ...\n"
          ],
          "name": "stdout"
        }
      ]
    },
    {
      "cell_type": "code",
      "metadata": {
        "id": "53EGHGEa5_C-",
        "outputId": "9d46b05e-5c63-47df-aa20-7cfda4974415",
        "colab": {
          "base_uri": "https://localhost:8080/",
          "height": 204
        }
      },
      "source": [
        "head(dataset2[c(\"resident\",\"resident2\")])"
      ],
      "execution_count": 16,
      "outputs": [
        {
          "output_type": "display_data",
          "data": {
            "text/plain": [
              "  resident resident2\n",
              "1 1        1.서울   \n",
              "2 2        2.인천   \n",
              "4 4        4.대구   \n",
              "5 5        5.제주   \n",
              "6 3        3.대전   \n",
              "7 2        2.인천   "
            ],
            "text/latex": "A data.frame: 6 × 2\n\\begin{tabular}{r|ll}\n  & resident & resident2\\\\\n  & <int> & <chr>\\\\\n\\hline\n\t1 & 1 & 1.서울\\\\\n\t2 & 2 & 2.인천\\\\\n\t4 & 4 & 4.대구\\\\\n\t5 & 5 & 5.제주\\\\\n\t6 & 3 & 3.대전\\\\\n\t7 & 2 & 2.인천\\\\\n\\end{tabular}\n",
            "text/markdown": "\nA data.frame: 6 × 2\n\n| <!--/--> | resident &lt;int&gt; | resident2 &lt;chr&gt; |\n|---|---|---|\n| 1 | 1 | 1.서울 |\n| 2 | 2 | 2.인천 |\n| 4 | 4 | 4.대구 |\n| 5 | 5 | 5.제주 |\n| 6 | 3 | 3.대전 |\n| 7 | 2 | 2.인천 |\n\n",
            "text/html": [
              "<table>\n",
              "<caption>A data.frame: 6 × 2</caption>\n",
              "<thead>\n",
              "\t<tr><th></th><th scope=col>resident</th><th scope=col>resident2</th></tr>\n",
              "\t<tr><th></th><th scope=col>&lt;int&gt;</th><th scope=col>&lt;chr&gt;</th></tr>\n",
              "</thead>\n",
              "<tbody>\n",
              "\t<tr><th scope=row>1</th><td>1</td><td>1.서울</td></tr>\n",
              "\t<tr><th scope=row>2</th><td>2</td><td>2.인천</td></tr>\n",
              "\t<tr><th scope=row>4</th><td>4</td><td>4.대구</td></tr>\n",
              "\t<tr><th scope=row>5</th><td>5</td><td>5.제주</td></tr>\n",
              "\t<tr><th scope=row>6</th><td>3</td><td>3.대전</td></tr>\n",
              "\t<tr><th scope=row>7</th><td>2</td><td>2.인천</td></tr>\n",
              "</tbody>\n",
              "</table>\n"
            ]
          },
          "metadata": {
            "tags": []
          }
        }
      ]
    },
    {
      "cell_type": "code",
      "metadata": {
        "id": "ix7aTqLl6NL-"
      },
      "source": [
        "# 척도 변경을 위한 코딩 변경\n",
        "# 나이 변수는 21세 ~ 69세 분포를 갖는다. 이러한 분포를 대상으로 30세 이하는 \"청년층\"\n",
        "# 31세~55세는 \"중년층\", 56세 이상은 \"장년층\" 으로 범주를 설정하는 방법\n",
        "# 추론통계학에서는 범주형 변수를 대상으로만 추론과 검증이 가능한 분석 방법이 있는데\n",
        "# 이를 위해 불가피하게 연속형 변수를 범주형 변수로 코딩을 변경해야 하는 경우"
      ],
      "execution_count": null,
      "outputs": []
    },
    {
      "cell_type": "code",
      "metadata": {
        "id": "byfDyl9u7Pn_",
        "outputId": "06c7f415-56ed-4401-d66a-2700a3bd6ce5",
        "colab": {
          "base_uri": "https://localhost:8080/",
          "height": 204
        }
      },
      "source": [
        "dataset2$age2[dataset2$age <= 30] <- \"Young\"\n",
        "dataset2$age2[dataset2$age > 30 & dataset2$age <= 55] <- \"Middle\"\n",
        "dataset2$age2[dataset2$age > 55] <- \"Older\"\n",
        "head(dataset2)"
      ],
      "execution_count": 20,
      "outputs": [
        {
          "output_type": "display_data",
          "data": {
            "text/plain": [
              "  resident gender job age position price survey resident2 age2  \n",
              "1 1        1       1  26   2       5.1   1      1.서울    Young \n",
              "2 2        1       2  54   5       4.2   2      2.인천    Middle\n",
              "4 4        2      NA  45   4       3.5   2      4.대구    Middle\n",
              "5 5        1       3  62   5       5.0   1      5.제주    Older \n",
              "6 3        1       2  57  NA       5.4   2      3.대전    Older \n",
              "7 2        2       1  36   3       4.1   4      2.인천    Middle"
            ],
            "text/latex": "A data.frame: 6 × 9\n\\begin{tabular}{r|lllllllll}\n  & resident & gender & job & age & position & price & survey & resident2 & age2\\\\\n  & <int> & <int> & <int> & <int> & <int> & <dbl> & <int> & <chr> & <chr>\\\\\n\\hline\n\t1 & 1 & 1 &  1 & 26 &  2 & 5.1 & 1 & 1.서울 & Young \\\\\n\t2 & 2 & 1 &  2 & 54 &  5 & 4.2 & 2 & 2.인천 & Middle\\\\\n\t4 & 4 & 2 & NA & 45 &  4 & 3.5 & 2 & 4.대구 & Middle\\\\\n\t5 & 5 & 1 &  3 & 62 &  5 & 5.0 & 1 & 5.제주 & Older \\\\\n\t6 & 3 & 1 &  2 & 57 & NA & 5.4 & 2 & 3.대전 & Older \\\\\n\t7 & 2 & 2 &  1 & 36 &  3 & 4.1 & 4 & 2.인천 & Middle\\\\\n\\end{tabular}\n",
            "text/markdown": "\nA data.frame: 6 × 9\n\n| <!--/--> | resident &lt;int&gt; | gender &lt;int&gt; | job &lt;int&gt; | age &lt;int&gt; | position &lt;int&gt; | price &lt;dbl&gt; | survey &lt;int&gt; | resident2 &lt;chr&gt; | age2 &lt;chr&gt; |\n|---|---|---|---|---|---|---|---|---|---|\n| 1 | 1 | 1 |  1 | 26 |  2 | 5.1 | 1 | 1.서울 | Young  |\n| 2 | 2 | 1 |  2 | 54 |  5 | 4.2 | 2 | 2.인천 | Middle |\n| 4 | 4 | 2 | NA | 45 |  4 | 3.5 | 2 | 4.대구 | Middle |\n| 5 | 5 | 1 |  3 | 62 |  5 | 5.0 | 1 | 5.제주 | Older  |\n| 6 | 3 | 1 |  2 | 57 | NA | 5.4 | 2 | 3.대전 | Older  |\n| 7 | 2 | 2 |  1 | 36 |  3 | 4.1 | 4 | 2.인천 | Middle |\n\n",
            "text/html": [
              "<table>\n",
              "<caption>A data.frame: 6 × 9</caption>\n",
              "<thead>\n",
              "\t<tr><th></th><th scope=col>resident</th><th scope=col>gender</th><th scope=col>job</th><th scope=col>age</th><th scope=col>position</th><th scope=col>price</th><th scope=col>survey</th><th scope=col>resident2</th><th scope=col>age2</th></tr>\n",
              "\t<tr><th></th><th scope=col>&lt;int&gt;</th><th scope=col>&lt;int&gt;</th><th scope=col>&lt;int&gt;</th><th scope=col>&lt;int&gt;</th><th scope=col>&lt;int&gt;</th><th scope=col>&lt;dbl&gt;</th><th scope=col>&lt;int&gt;</th><th scope=col>&lt;chr&gt;</th><th scope=col>&lt;chr&gt;</th></tr>\n",
              "</thead>\n",
              "<tbody>\n",
              "\t<tr><th scope=row>1</th><td>1</td><td>1</td><td> 1</td><td>26</td><td> 2</td><td>5.1</td><td>1</td><td>1.서울</td><td>Young </td></tr>\n",
              "\t<tr><th scope=row>2</th><td>2</td><td>1</td><td> 2</td><td>54</td><td> 5</td><td>4.2</td><td>2</td><td>2.인천</td><td>Middle</td></tr>\n",
              "\t<tr><th scope=row>4</th><td>4</td><td>2</td><td>NA</td><td>45</td><td> 4</td><td>3.5</td><td>2</td><td>4.대구</td><td>Middle</td></tr>\n",
              "\t<tr><th scope=row>5</th><td>5</td><td>1</td><td> 3</td><td>62</td><td> 5</td><td>5.0</td><td>1</td><td>5.제주</td><td>Older </td></tr>\n",
              "\t<tr><th scope=row>6</th><td>3</td><td>1</td><td> 2</td><td>57</td><td>NA</td><td>5.4</td><td>2</td><td>3.대전</td><td>Older </td></tr>\n",
              "\t<tr><th scope=row>7</th><td>2</td><td>2</td><td> 1</td><td>36</td><td> 3</td><td>4.1</td><td>4</td><td>2.인천</td><td>Middle</td></tr>\n",
              "</tbody>\n",
              "</table>\n"
            ]
          },
          "metadata": {
            "tags": []
          }
        }
      ]
    },
    {
      "cell_type": "code",
      "metadata": {
        "id": "LJ42qGwr8Egz",
        "outputId": "d84089a9-8a6a-43eb-adec-0672641e7977",
        "colab": {
          "base_uri": "https://localhost:8080/",
          "height": 437
        }
      },
      "source": [
        "barplot(table(dataset2$age2))"
      ],
      "execution_count": 21,
      "outputs": [
        {
          "output_type": "display_data",
          "data": {
            "image/png": "[encoded data removed]",
            "text/plain": [
              "plot without title"
            ]
          },
          "metadata": {
            "tags": [],
            "image/png": {
              "width": 420,
              "height": 420
            }
          }
        }
      ]
    },
    {
      "cell_type": "code",
      "metadata": {
        "id": "inWO-4Kq9xlh",
        "outputId": "91d9f1e6-6d2c-473c-c473-b93e1d55e546",
        "colab": {
          "base_uri": "https://localhost:8080/",
          "height": 125
        }
      },
      "source": [
        "## 역코딩을 위한 코딩 변경\n",
        "# 만족도 평가를 위해서 설문지 문항은 (1)매우만족 ~ (5) 매우불만족 으로 작성됨\n",
        "# 이러한 만족도 평가를 점수화하기 위해서는 매우만족(5점) ~ 매무불만족(1점) 으로 역순으로 변경함 \n",
        "survay <- dataset2$survey\n",
        "table(survay)\n",
        "csurvay <-  6 - survay\n",
        "table(csurvay)"
      ],
      "execution_count": 29,
      "outputs": [
        {
          "output_type": "display_data",
          "data": {
            "text/plain": [
              "survay\n",
              "  1   2   3   4   5 \n",
              " 16 111 113  33   6 "
            ]
          },
          "metadata": {
            "tags": []
          }
        },
        {
          "output_type": "display_data",
          "data": {
            "text/plain": [
              "csurvay\n",
              "  1   2   3   4   5 \n",
              "  6  33 113 111  16 "
            ]
          },
          "metadata": {
            "tags": []
          }
        }
      ]
    },
    {
      "cell_type": "code",
      "metadata": {
        "id": "4Pwq27IG_bay"
      },
      "source": [
        ""
      ],
      "execution_count": null,
      "outputs": []
    },
    {
      "cell_type": "code",
      "metadata": {
        "id": "TY0Ha1CA-z6s"
      },
      "source": [
        ""
      ],
      "execution_count": null,
      "outputs": []
    }
  ]
}