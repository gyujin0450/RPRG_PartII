{
  "nbformat": 4,
  "nbformat_minor": 0,
  "metadata": {
    "colab": {
      "name": "p215_파생변수.ipynb",
      "provenance": [],
      "authorship_tag": "ABX9TyOSqx4/D+LkZdXpf7FNajlB",
      "include_colab_link": true
    },
    "kernelspec": {
      "name": "ir",
      "display_name": "R"
    }
  },
  "cells": [
    {
      "cell_type": "markdown",
      "metadata": {
        "id": "view-in-github",
        "colab_type": "text"
      },
      "source": [
        "<a href=\"https://colab.research.google.com/github/gyujin0450/RPRG_PartII/blob/master/p215_%ED%8C%8C%EC%83%9D%EB%B3%80%EC%88%98.ipynb\" target=\"_parent\"><img src=\"https://colab.research.google.com/assets/colab-badge.svg\" alt=\"Open In Colab\"/></a>"
      ]
    },
    {
      "cell_type": "markdown",
      "metadata": {
        "id": "mTl4aLyBYrnM"
      },
      "source": [
        "#ch07.7 파생변수"
      ]
    },
    {
      "cell_type": "code",
      "metadata": {
        "id": "ETo4B_GvY40m"
      },
      "source": [
        "# 파생변수를 생성하는 방법\n",
        "# 1) 사칙연산 -> 예) 성적 분포를 나타내는 데이터에서 과목별 점수에 대한 총점, 평균 등 연산\n",
        "# 2) 1:1 관계로 나열 -> 예) 한 컬럼의 속성값을 컬럼명으로 변환하여 \"추론통계분석이나 에측분석에서 독립변수로 활용\""
      ],
      "execution_count": null,
      "outputs": []
    },
    {
      "cell_type": "code",
      "metadata": {
        "id": "55uvGunTNiw8",
        "outputId": "7dc32385-17a1-4da9-c60e-dfb1f88ff76b",
        "colab": {
          "base_uri": "https://localhost:8080/",
          "height": 204
        }
      },
      "source": [
        "user_data <- read.csv(\"user_data.csv\", header = TRUE, fileEncoding = \"CP949\", encoding = \"UTF-8\" ) \n",
        "head(user_data)"
      ],
      "execution_count": 6,
      "outputs": [
        {
          "output_type": "display_data",
          "data": {
            "text/plain": [
              "  user_id age house_type resident job\n",
              "1 1001    35  4          전북     6  \n",
              "2 1002    45  4          경남     2  \n",
              "3 1003    55  4          경기     6  \n",
              "4 1004    43  3          대전     1  \n",
              "5 1005    55  4          경기     2  \n",
              "6 1006    45  1          대구     1  "
            ],
            "text/latex": "A data.frame: 6 × 5\n\\begin{tabular}{r|lllll}\n  & user\\_id & age & house\\_type & resident & job\\\\\n  & <int> & <int> & <int> & <chr> & <int>\\\\\n\\hline\n\t1 & 1001 & 35 & 4 & 전북 & 6\\\\\n\t2 & 1002 & 45 & 4 & 경남 & 2\\\\\n\t3 & 1003 & 55 & 4 & 경기 & 6\\\\\n\t4 & 1004 & 43 & 3 & 대전 & 1\\\\\n\t5 & 1005 & 55 & 4 & 경기 & 2\\\\\n\t6 & 1006 & 45 & 1 & 대구 & 1\\\\\n\\end{tabular}\n",
            "text/markdown": "\nA data.frame: 6 × 5\n\n| <!--/--> | user_id &lt;int&gt; | age &lt;int&gt; | house_type &lt;int&gt; | resident &lt;chr&gt; | job &lt;int&gt; |\n|---|---|---|---|---|---|\n| 1 | 1001 | 35 | 4 | 전북 | 6 |\n| 2 | 1002 | 45 | 4 | 경남 | 2 |\n| 3 | 1003 | 55 | 4 | 경기 | 6 |\n| 4 | 1004 | 43 | 3 | 대전 | 1 |\n| 5 | 1005 | 55 | 4 | 경기 | 2 |\n| 6 | 1006 | 45 | 1 | 대구 | 1 |\n\n",
            "text/html": [
              "<table>\n",
              "<caption>A data.frame: 6 × 5</caption>\n",
              "<thead>\n",
              "\t<tr><th></th><th scope=col>user_id</th><th scope=col>age</th><th scope=col>house_type</th><th scope=col>resident</th><th scope=col>job</th></tr>\n",
              "\t<tr><th></th><th scope=col>&lt;int&gt;</th><th scope=col>&lt;int&gt;</th><th scope=col>&lt;int&gt;</th><th scope=col>&lt;chr&gt;</th><th scope=col>&lt;int&gt;</th></tr>\n",
              "</thead>\n",
              "<tbody>\n",
              "\t<tr><th scope=row>1</th><td>1001</td><td>35</td><td>4</td><td>전북</td><td>6</td></tr>\n",
              "\t<tr><th scope=row>2</th><td>1002</td><td>45</td><td>4</td><td>경남</td><td>2</td></tr>\n",
              "\t<tr><th scope=row>3</th><td>1003</td><td>55</td><td>4</td><td>경기</td><td>6</td></tr>\n",
              "\t<tr><th scope=row>4</th><td>1004</td><td>43</td><td>3</td><td>대전</td><td>1</td></tr>\n",
              "\t<tr><th scope=row>5</th><td>1005</td><td>55</td><td>4</td><td>경기</td><td>2</td></tr>\n",
              "\t<tr><th scope=row>6</th><td>1006</td><td>45</td><td>1</td><td>대구</td><td>1</td></tr>\n",
              "</tbody>\n",
              "</table>\n"
            ]
          },
          "metadata": {
            "tags": []
          }
        }
      ]
    },
    {
      "cell_type": "code",
      "metadata": {
        "id": "TOEgbbCsOo0L",
        "outputId": "f4af225b-0cf8-4d9e-aa44-b732e918326f",
        "colab": {
          "base_uri": "https://localhost:8080/",
          "height": 125
        }
      },
      "source": [
        "str(user_data)"
      ],
      "execution_count": 7,
      "outputs": [
        {
          "output_type": "stream",
          "text": [
            "'data.frame':\t400 obs. of  5 variables:\n",
            " $ user_id   : int  1001 1002 1003 1004 1005 1006 1007 1008 1009 1010 ...\n",
            " $ age       : int  35 45 55 43 55 45 39 55 33 55 ...\n",
            " $ house_type: int  4 4 4 3 4 1 4 2 4 3 ...\n",
            " $ resident  : chr  \"전북\" \"경남\" \"경기\" \"대전\" ...\n",
            " $ job       : int  6 2 6 1 2 1 1 6 3 6 ...\n"
          ],
          "name": "stdout"
        }
      ]
    },
    {
      "cell_type": "code",
      "metadata": {
        "id": "u0517_SPO3s6",
        "outputId": "edf2952a-feb5-4525-cff9-c3880215e5a9",
        "colab": {
          "base_uri": "https://localhost:8080/",
          "height": 269
        }
      },
      "source": [
        "summary(user_data)"
      ],
      "execution_count": 9,
      "outputs": [
        {
          "output_type": "display_data",
          "data": {
            "text/plain": [
              "    user_id          age          house_type      resident        \n",
              " Min.   :1001   Min.   : 6.00   Min.   :1.000   Length:400        \n",
              " 1st Qu.:1101   1st Qu.:48.00   1st Qu.:3.750   Class :character  \n",
              " Median :1200   Median :52.00   Median :4.000   Mode  :character  \n",
              " Mean   :1200   Mean   :49.37   Mean   :3.473                     \n",
              " 3rd Qu.:1300   3rd Qu.:56.00   3rd Qu.:4.000                     \n",
              " Max.   :1400   Max.   :66.00   Max.   :4.000                     \n",
              "      job       \n",
              " Min.   :1.000  \n",
              " 1st Qu.:2.000  \n",
              " Median :3.000  \n",
              " Mean   :3.422  \n",
              " 3rd Qu.:5.000  \n",
              " Max.   :8.000  "
            ]
          },
          "metadata": {
            "tags": []
          }
        }
      ]
    },
    {
      "cell_type": "code",
      "metadata": {
        "id": "zbj6xtTGOxLs",
        "outputId": "ef6de9e5-4d2b-4b06-9e9a-63310876fc58",
        "colab": {
          "base_uri": "https://localhost:8080/",
          "height": 71
        }
      },
      "source": [
        "table(user_data$house_type)"
      ],
      "execution_count": 8,
      "outputs": [
        {
          "output_type": "display_data",
          "data": {
            "text/plain": [
              "\n",
              "  1   2   3   4 \n",
              " 32  47  21 300 "
            ]
          },
          "metadata": {
            "tags": []
          }
        }
      ]
    },
    {
      "cell_type": "code",
      "metadata": {
        "id": "Rd5bugmwO8z1"
      },
      "source": [
        "# 더미변수 생성 및 파생변수 추가\n",
        "user_data$house_type2 <- ifelse(user_data$house_type == 1 | user_data$house_type == 2, 0, 1)\n",
        "# house_type2[1:10]"
      ],
      "execution_count": 15,
      "outputs": []
    },
    {
      "cell_type": "code",
      "metadata": {
        "id": "y_0a_GGePuPp",
        "outputId": "8de52c58-62d5-44d0-e7e8-0cb0728114c7",
        "colab": {
          "base_uri": "https://localhost:8080/",
          "height": 204
        }
      },
      "source": [
        "# user_data$house_type2 <- house_type2\n",
        "head(user_data)"
      ],
      "execution_count": 16,
      "outputs": [
        {
          "output_type": "display_data",
          "data": {
            "text/plain": [
              "  user_id age house_type resident job house_type2\n",
              "1 1001    35  4          전북     6   1          \n",
              "2 1002    45  4          경남     2   1          \n",
              "3 1003    55  4          경기     6   1          \n",
              "4 1004    43  3          대전     1   1          \n",
              "5 1005    55  4          경기     2   1          \n",
              "6 1006    45  1          대구     1   0          "
            ],
            "text/latex": "A data.frame: 6 × 6\n\\begin{tabular}{r|llllll}\n  & user\\_id & age & house\\_type & resident & job & house\\_type2\\\\\n  & <int> & <int> & <int> & <chr> & <int> & <dbl>\\\\\n\\hline\n\t1 & 1001 & 35 & 4 & 전북 & 6 & 1\\\\\n\t2 & 1002 & 45 & 4 & 경남 & 2 & 1\\\\\n\t3 & 1003 & 55 & 4 & 경기 & 6 & 1\\\\\n\t4 & 1004 & 43 & 3 & 대전 & 1 & 1\\\\\n\t5 & 1005 & 55 & 4 & 경기 & 2 & 1\\\\\n\t6 & 1006 & 45 & 1 & 대구 & 1 & 0\\\\\n\\end{tabular}\n",
            "text/markdown": "\nA data.frame: 6 × 6\n\n| <!--/--> | user_id &lt;int&gt; | age &lt;int&gt; | house_type &lt;int&gt; | resident &lt;chr&gt; | job &lt;int&gt; | house_type2 &lt;dbl&gt; |\n|---|---|---|---|---|---|---|\n| 1 | 1001 | 35 | 4 | 전북 | 6 | 1 |\n| 2 | 1002 | 45 | 4 | 경남 | 2 | 1 |\n| 3 | 1003 | 55 | 4 | 경기 | 6 | 1 |\n| 4 | 1004 | 43 | 3 | 대전 | 1 | 1 |\n| 5 | 1005 | 55 | 4 | 경기 | 2 | 1 |\n| 6 | 1006 | 45 | 1 | 대구 | 1 | 0 |\n\n",
            "text/html": [
              "<table>\n",
              "<caption>A data.frame: 6 × 6</caption>\n",
              "<thead>\n",
              "\t<tr><th></th><th scope=col>user_id</th><th scope=col>age</th><th scope=col>house_type</th><th scope=col>resident</th><th scope=col>job</th><th scope=col>house_type2</th></tr>\n",
              "\t<tr><th></th><th scope=col>&lt;int&gt;</th><th scope=col>&lt;int&gt;</th><th scope=col>&lt;int&gt;</th><th scope=col>&lt;chr&gt;</th><th scope=col>&lt;int&gt;</th><th scope=col>&lt;dbl&gt;</th></tr>\n",
              "</thead>\n",
              "<tbody>\n",
              "\t<tr><th scope=row>1</th><td>1001</td><td>35</td><td>4</td><td>전북</td><td>6</td><td>1</td></tr>\n",
              "\t<tr><th scope=row>2</th><td>1002</td><td>45</td><td>4</td><td>경남</td><td>2</td><td>1</td></tr>\n",
              "\t<tr><th scope=row>3</th><td>1003</td><td>55</td><td>4</td><td>경기</td><td>6</td><td>1</td></tr>\n",
              "\t<tr><th scope=row>4</th><td>1004</td><td>43</td><td>3</td><td>대전</td><td>1</td><td>1</td></tr>\n",
              "\t<tr><th scope=row>5</th><td>1005</td><td>55</td><td>4</td><td>경기</td><td>2</td><td>1</td></tr>\n",
              "\t<tr><th scope=row>6</th><td>1006</td><td>45</td><td>1</td><td>대구</td><td>1</td><td>0</td></tr>\n",
              "</tbody>\n",
              "</table>\n"
            ]
          },
          "metadata": {
            "tags": []
          }
        }
      ]
    },
    {
      "cell_type": "code",
      "metadata": {
        "id": "YnXWz-qGQXPJ",
        "outputId": "b84d7f12-c0c0-4164-86c0-82657e55456b",
        "colab": {
          "base_uri": "https://localhost:8080/",
          "height": 204
        }
      },
      "source": [
        "# 1:1 관계로 파생변수 생성\n",
        "pay_data <- read.csv(\"pay_data.csv\", header = T, fileEncoding = \"CP949\", encoding = \"UTF-8\")\n",
        "head(pay_data)"
      ],
      "execution_count": 18,
      "outputs": [
        {
          "output_type": "display_data",
          "data": {
            "text/plain": [
              "  user_id product_type pay_method price \n",
              "1 1001    1            1.현금     153000\n",
              "2 1002    2            2.직불카드 120000\n",
              "3 1003    3            3.신용카드 780000\n",
              "4 1003    4            3.신용카드 123000\n",
              "5 1003    5            3.신용카드  79000\n",
              "6 1003    1            3.신용카드 125000"
            ],
            "text/latex": "A data.frame: 6 × 4\n\\begin{tabular}{r|llll}\n  & user\\_id & product\\_type & pay\\_method & price\\\\\n  & <int> & <int> & <chr> & <dbl>\\\\\n\\hline\n\t1 & 1001 & 1 & 1.현금     & 153000\\\\\n\t2 & 1002 & 2 & 2.직불카드 & 120000\\\\\n\t3 & 1003 & 3 & 3.신용카드 & 780000\\\\\n\t4 & 1003 & 4 & 3.신용카드 & 123000\\\\\n\t5 & 1003 & 5 & 3.신용카드 &  79000\\\\\n\t6 & 1003 & 1 & 3.신용카드 & 125000\\\\\n\\end{tabular}\n",
            "text/markdown": "\nA data.frame: 6 × 4\n\n| <!--/--> | user_id &lt;int&gt; | product_type &lt;int&gt; | pay_method &lt;chr&gt; | price &lt;dbl&gt; |\n|---|---|---|---|---|\n| 1 | 1001 | 1 | 1.현금     | 153000 |\n| 2 | 1002 | 2 | 2.직불카드 | 120000 |\n| 3 | 1003 | 3 | 3.신용카드 | 780000 |\n| 4 | 1003 | 4 | 3.신용카드 | 123000 |\n| 5 | 1003 | 5 | 3.신용카드 |  79000 |\n| 6 | 1003 | 1 | 3.신용카드 | 125000 |\n\n",
            "text/html": [
              "<table>\n",
              "<caption>A data.frame: 6 × 4</caption>\n",
              "<thead>\n",
              "\t<tr><th></th><th scope=col>user_id</th><th scope=col>product_type</th><th scope=col>pay_method</th><th scope=col>price</th></tr>\n",
              "\t<tr><th></th><th scope=col>&lt;int&gt;</th><th scope=col>&lt;int&gt;</th><th scope=col>&lt;chr&gt;</th><th scope=col>&lt;dbl&gt;</th></tr>\n",
              "</thead>\n",
              "<tbody>\n",
              "\t<tr><th scope=row>1</th><td>1001</td><td>1</td><td>1.현금    </td><td>153000</td></tr>\n",
              "\t<tr><th scope=row>2</th><td>1002</td><td>2</td><td>2.직불카드</td><td>120000</td></tr>\n",
              "\t<tr><th scope=row>3</th><td>1003</td><td>3</td><td>3.신용카드</td><td>780000</td></tr>\n",
              "\t<tr><th scope=row>4</th><td>1003</td><td>4</td><td>3.신용카드</td><td>123000</td></tr>\n",
              "\t<tr><th scope=row>5</th><td>1003</td><td>5</td><td>3.신용카드</td><td> 79000</td></tr>\n",
              "\t<tr><th scope=row>6</th><td>1003</td><td>1</td><td>3.신용카드</td><td>125000</td></tr>\n",
              "</tbody>\n",
              "</table>\n"
            ]
          },
          "metadata": {
            "tags": []
          }
        }
      ]
    },
    {
      "cell_type": "code",
      "metadata": {
        "id": "FmBZ28uwRqLj",
        "outputId": "8acda804-443d-4e65-9ee5-b5e0e882f610",
        "colab": {
          "base_uri": "https://localhost:8080/",
          "height": 107
        }
      },
      "source": [
        "str(pay_data)"
      ],
      "execution_count": 19,
      "outputs": [
        {
          "output_type": "stream",
          "text": [
            "'data.frame':\t400 obs. of  4 variables:\n",
            " $ user_id     : int  1001 1002 1003 1003 1003 1003 1007 1007 1007 1007 ...\n",
            " $ product_type: int  1 2 3 4 5 1 2 3 4 5 ...\n",
            " $ pay_method  : chr  \"1.현금\" \"2.직불카드\" \"3.신용카드\" \"3.신용카드\" ...\n",
            " $ price       : num  153000 120000 780000 123000 79000 ...\n"
          ],
          "name": "stdout"
        }
      ]
    },
    {
      "cell_type": "code",
      "metadata": {
        "id": "MkbjD99xRv5e",
        "outputId": "6076f62d-6c47-42a8-9da6-11b99f47a5e9",
        "colab": {
          "base_uri": "https://localhost:8080/",
          "height": 143
        }
      },
      "source": [
        "summary(pay_data)"
      ],
      "execution_count": 20,
      "outputs": [
        {
          "output_type": "display_data",
          "data": {
            "text/plain": [
              "    user_id      product_type   pay_method            price       \n",
              " Min.   :1001   Min.   :1.00   Length:400         Min.   :   172  \n",
              " 1st Qu.:1101   1st Qu.:2.00   Class :character   1st Qu.: 11654  \n",
              " Median :1200   Median :3.00   Mode  :character   Median : 73518  \n",
              " Mean   :1200   Mean   :3.13                      Mean   : 55993  \n",
              " 3rd Qu.:1300   3rd Qu.:4.00                      3rd Qu.: 86814  \n",
              " Max.   :1398   Max.   :5.00                      Max.   :780000  "
            ]
          },
          "metadata": {
            "tags": []
          }
        }
      ]
    },
    {
      "cell_type": "code",
      "metadata": {
        "id": "iCJ7HlqDRzdU",
        "outputId": "a7a726a8-bcf6-4e05-a6ef-67b9230d108e",
        "colab": {
          "base_uri": "https://localhost:8080/",
          "height": 71
        }
      },
      "source": [
        "table(pay_data$product_type)"
      ],
      "execution_count": 21,
      "outputs": [
        {
          "output_type": "display_data",
          "data": {
            "text/plain": [
              "\n",
              "  1   2   3   4   5 \n",
              " 55  82  89 104  70 "
            ]
          },
          "metadata": {
            "tags": []
          }
        }
      ]
    },
    {
      "cell_type": "code",
      "metadata": {
        "id": "PosHgzE-R71_"
      },
      "source": [
        "# 고객별 상품 유형에 따른 구매 금액과 합계를 나타내는 파생 변수"
      ],
      "execution_count": null,
      "outputs": []
    }
  ]
}