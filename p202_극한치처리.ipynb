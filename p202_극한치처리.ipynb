{
  "nbformat": 4,
  "nbformat_minor": 0,
  "metadata": {
    "colab": {
      "name": "p202.극한치처리.ipynb",
      "provenance": [],
      "authorship_tag": "ABX9TyOcUQdrSWImqnYVEKwdy/a6",
      "include_colab_link": true
    },
    "kernelspec": {
      "name": "ir",
      "display_name": "R"
    }
  },
  "cells": [
    {
      "cell_type": "markdown",
      "metadata": {
        "id": "view-in-github",
        "colab_type": "text"
      },
      "source": [
        "<a href=\"https://colab.research.google.com/github/gyujin0450/RPRG_PartII/blob/master/p202_%EA%B7%B9%ED%95%9C%EC%B9%98%EC%B2%98%EB%A6%AC.ipynb\" target=\"_parent\"><img src=\"https://colab.research.google.com/assets/colab-badge.svg\" alt=\"Open In Colab\"/></a>"
      ]
    },
    {
      "cell_type": "markdown",
      "metadata": {
        "id": "COIpxroBB8rC"
      },
      "source": [
        "#ch7.4 극한치 처리"
      ]
    },
    {
      "cell_type": "code",
      "metadata": {
        "id": "NExDWdEWCR4e"
      },
      "source": [
        ""
      ],
      "execution_count": null,
      "outputs": []
    }
  ]
}