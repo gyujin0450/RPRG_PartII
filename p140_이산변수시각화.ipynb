{
  "nbformat": 4,
  "nbformat_minor": 0,
  "metadata": {
    "colab": {
      "name": "p140_이산변수시각화.ipynb",
      "provenance": [],
      "authorship_tag": "ABX9TyM9IXERa8m4zAaVkdj8ew7c",
      "include_colab_link": true
    },
    "kernelspec": {
      "name": "ir",
      "display_name": "R"
    }
  },
  "cells": [
    {
      "cell_type": "markdown",
      "metadata": {
        "id": "view-in-github",
        "colab_type": "text"
      },
      "source": [
        "<a href=\"https://colab.research.google.com/github/gyujin0450/RPRG_PartII/blob/master/p140_%EC%9D%B4%EC%82%B0%EB%B3%80%EC%88%98%EC%8B%9C%EA%B0%81%ED%99%94.ipynb\" target=\"_parent\"><img src=\"https://colab.research.google.com/assets/colab-badge.svg\" alt=\"Open In Colab\"/></a>"
      ]
    },
    {
      "cell_type": "code",
      "metadata": {
        "id": "KTKHFYdZsnPd"
      },
      "source": [
        "## 이산변수 시각화\n",
        "# 정수단위로 나누어 측정할 수 있는 변수\n",
        "# 막대차트, 점차트, 원차트 등을 이용하여 시각화"
      ],
      "execution_count": null,
      "outputs": []
    },
    {
      "cell_type": "code",
      "metadata": {
        "id": "mK92q-_AuIEY"
      },
      "source": [
        "## 세로 막대 차트\n",
        "# barplot()"
      ],
      "execution_count": null,
      "outputs": []
    },
    {
      "cell_type": "code",
      "metadata": {
        "id": "qc3fC9CfuaPb",
        "outputId": "82a12af9-b30c-4137-fd19-11ba676c7e67",
        "colab": {
          "base_uri": "https://localhost:8080/",
          "height": 53
        }
      },
      "source": [
        "data <- c(305,450,320,460,330,480,380,520)\n",
        "names(data) <- c(\"'18 1Q\",\"'18 2Q\",\"'18 3Q\",\"'18 4Q\",\"'19 1Q\",\"'19 2Q\",\"'19 3Q\",\"'19 4Q\")\n",
        "str(data)"
      ],
      "execution_count": 2,
      "outputs": [
        {
          "output_type": "stream",
          "text": [
            " Named num [1:8] 305 450 320 460 330 480 380 520\n",
            " - attr(*, \"names\")= chr [1:8] \"'18 1Q\" \"'18 2Q\" \"'18 3Q\" \"'18 4Q\" ...\n"
          ],
          "name": "stdout"
        }
      ]
    },
    {
      "cell_type": "code",
      "metadata": {
        "id": "e24cFsoOvRyq",
        "outputId": "515d0fdd-086d-4e42-9081-54b29f2de965",
        "colab": {
          "base_uri": "https://localhost:8080/",
          "height": 34
        }
      },
      "source": [
        "data"
      ],
      "execution_count": null,
      "outputs": [
        {
          "output_type": "display_data",
          "data": {
            "text/plain": [
              "'18 1Q '18 2Q '18 3Q '18 4Q '19 1Q '19 2Q '19 3Q '19 4Q \n",
              "   305    450    320    460    330    480    380    520 "
            ],
            "text/latex": "\\begin{description*}\n\\item['18 1Q] 305\n\\item['18 2Q] 450\n\\item['18 3Q] 320\n\\item['18 4Q] 460\n\\item['19 1Q] 330\n\\item['19 2Q] 480\n\\item['19 3Q] 380\n\\item['19 4Q] 520\n\\end{description*}\n",
            "text/markdown": "'18 1Q\n:   305'18 2Q\n:   450'18 3Q\n:   320'18 4Q\n:   460'19 1Q\n:   330'19 2Q\n:   480'19 3Q\n:   380'19 4Q\n:   520\n\n",
            "text/html": [
              "<style>\n",
              ".dl-inline {width: auto; margin:0; padding: 0}\n",
              ".dl-inline>dt, .dl-inline>dd {float: none; width: auto; display: inline-block}\n",
              ".dl-inline>dt::after {content: \":\\0020\"; padding-right: .5ex}\n",
              ".dl-inline>dt:not(:first-of-type) {padding-left: .5ex}\n",
              "</style><dl class=dl-inline><dt>'18 1Q</dt><dd>305</dd><dt>'18 2Q</dt><dd>450</dd><dt>'18 3Q</dt><dd>320</dd><dt>'18 4Q</dt><dd>460</dd><dt>'19 1Q</dt><dd>330</dd><dt>'19 2Q</dt><dd>480</dd><dt>'19 3Q</dt><dd>380</dd><dt>'19 4Q</dt><dd>520</dd></dl>\n"
            ]
          },
          "metadata": {
            "tags": []
          }
        }
      ]
    },
    {
      "cell_type": "code",
      "metadata": {
        "id": "0EOVrTsxvYin"
      },
      "source": [
        "# barplot(data)"
      ],
      "execution_count": 43,
      "outputs": []
    },
    {
      "cell_type": "code",
      "metadata": {
        "id": "_OVacAsTveTM"
      },
      "source": [
        "# ylim : y측의 값범위\n",
        "# col  : 각 막대를 나타낼 색상\n",
        "# main : 차트의 제목\n",
        "# barplot(data, ylim = c(0,600), col = rainbow(8), main = \"매출현황\") # R Studio 에서는 제목이 제대로 나타남"
      ],
      "execution_count": 41,
      "outputs": []
    },
    {
      "cell_type": "code",
      "metadata": {
        "id": "s0229U_s6NWH"
      },
      "source": [
        "# barplot(data, ylim = c(0,600), ylab = \"Amout(unit:10,000)\", xlab = \"Status\", \n",
        "#        col = rainbow(8), main = \"Report 2018 vs 2019\")"
      ],
      "execution_count": 42,
      "outputs": []
    },
    {
      "cell_type": "code",
      "metadata": {
        "id": "CQngFUE27Dla"
      },
      "source": [
        "## 가로 막대 차트\n",
        "# barplot(data, xlim = c(0,600), horiz = T, xlab = \"Amout(unit:10,000)\", ylab = \"Status\", \n",
        "#        col = rainbow(8), main = \"Report 2018 vs 2019\")"
      ],
      "execution_count": 40,
      "outputs": []
    },
    {
      "cell_type": "code",
      "metadata": {
        "id": "xpbfgFj17lhx"
      },
      "source": [
        "# 막대 차트에서 막대 사이의 간격 조정하기\n",
        "# barplot(data, xlim = c(0,600), horiz = T, xlab = \"Amout(unit:10,000)\", ylab = \"Status\", \n",
        "#        col = rainbow(8), space = 1, cex.names =0.8, main = \"Report 2018 vs 2019\")"
      ],
      "execution_count": 39,
      "outputs": []
    },
    {
      "cell_type": "code",
      "metadata": {
        "id": "zgUNZhQJ8DVc"
      },
      "source": [
        "# 막대 차트에서 막대의 색상 지정\n",
        "# barplot(data, xlim = c(0,600), horiz = T, xlab = \"Amout(unit:10,000)\", ylab = \"Status\", \n",
        "#        col = rep(c(2,4),4), space = 1, cex.names =0.8, main = \"Report 2018 vs 2019\")\n",
        "# 검은색(1),빨간색(2),초록색(3),파란색(4),하늘색(5),자주색(6),노락색(7)\n",
        "# rep(c(2,4),4) : (빨간색, 파란색)를 4번 반복"
      ],
      "execution_count": 38,
      "outputs": []
    },
    {
      "cell_type": "code",
      "metadata": {
        "id": "QA552WG284du"
      },
      "source": [
        "# 막대 차트에서 색상 이름을 사용하여 막대의 색상 지정\n",
        "# barplot(data, xlim = c(0,600), horiz = T, xlab = \"Amout(unit:10,000)\", ylab = \"Status\", \n",
        "#        col = rep(c(\"red\",\"green\"),4), space = 1, cex.names =0.8, main = \"Report 2018 vs 2019\")"
      ],
      "execution_count": 37,
      "outputs": []
    },
    {
      "cell_type": "code",
      "metadata": {
        "id": "gJbBdND49t7P",
        "outputId": "8cc443bf-4b9e-490a-94f5-117bd4f33162",
        "colab": {
          "base_uri": "https://localhost:8080/",
          "height": 162
        }
      },
      "source": [
        "## 누적 막대 차트\n",
        "# 메모리로 데이터 가져오기\n",
        "data(VADeaths)\n",
        "VADeaths"
      ],
      "execution_count": 12,
      "outputs": [
        {
          "output_type": "display_data",
          "data": {
            "text/plain": [
              "      Rural Male Rural Female Urban Male Urban Female\n",
              "50-54 11.7        8.7         15.4        8.4        \n",
              "55-59 18.1       11.7         24.3       13.6        \n",
              "60-64 26.9       20.3         37.0       19.3        \n",
              "65-69 41.0       30.9         54.6       35.1        \n",
              "70-74 66.0       54.3         71.1       50.0        "
            ],
            "text/latex": "A matrix: 5 × 4 of type dbl\n\\begin{tabular}{r|llll}\n  & Rural Male & Rural Female & Urban Male & Urban Female\\\\\n\\hline\n\t50-54 & 11.7 &  8.7 & 15.4 &  8.4\\\\\n\t55-59 & 18.1 & 11.7 & 24.3 & 13.6\\\\\n\t60-64 & 26.9 & 20.3 & 37.0 & 19.3\\\\\n\t65-69 & 41.0 & 30.9 & 54.6 & 35.1\\\\\n\t70-74 & 66.0 & 54.3 & 71.1 & 50.0\\\\\n\\end{tabular}\n",
            "text/markdown": "\nA matrix: 5 × 4 of type dbl\n\n| <!--/--> | Rural Male | Rural Female | Urban Male | Urban Female |\n|---|---|---|---|---|\n| 50-54 | 11.7 |  8.7 | 15.4 |  8.4 |\n| 55-59 | 18.1 | 11.7 | 24.3 | 13.6 |\n| 60-64 | 26.9 | 20.3 | 37.0 | 19.3 |\n| 65-69 | 41.0 | 30.9 | 54.6 | 35.1 |\n| 70-74 | 66.0 | 54.3 | 71.1 | 50.0 |\n\n",
            "text/html": [
              "<table>\n",
              "<caption>A matrix: 5 × 4 of type dbl</caption>\n",
              "<thead>\n",
              "\t<tr><th></th><th scope=col>Rural Male</th><th scope=col>Rural Female</th><th scope=col>Urban Male</th><th scope=col>Urban Female</th></tr>\n",
              "</thead>\n",
              "<tbody>\n",
              "\t<tr><th scope=row>50-54</th><td>11.7</td><td> 8.7</td><td>15.4</td><td> 8.4</td></tr>\n",
              "\t<tr><th scope=row>55-59</th><td>18.1</td><td>11.7</td><td>24.3</td><td>13.6</td></tr>\n",
              "\t<tr><th scope=row>60-64</th><td>26.9</td><td>20.3</td><td>37.0</td><td>19.3</td></tr>\n",
              "\t<tr><th scope=row>65-69</th><td>41.0</td><td>30.9</td><td>54.6</td><td>35.1</td></tr>\n",
              "\t<tr><th scope=row>70-74</th><td>66.0</td><td>54.3</td><td>71.1</td><td>50.0</td></tr>\n",
              "</tbody>\n",
              "</table>\n"
            ]
          },
          "metadata": {
            "tags": []
          }
        }
      ]
    },
    {
      "cell_type": "code",
      "metadata": {
        "id": "uJ96hnL8-YEu",
        "outputId": "f169b7f7-182c-4830-b352-081e5dbcd76b",
        "colab": {
          "base_uri": "https://localhost:8080/",
          "height": 89
        }
      },
      "source": [
        "# 데이터 셋 구조 보기\n",
        "str(VADeaths)"
      ],
      "execution_count": 13,
      "outputs": [
        {
          "output_type": "stream",
          "text": [
            " num [1:5, 1:4] 11.7 18.1 26.9 41 66 8.7 11.7 20.3 30.9 54.3 ...\n",
            " - attr(*, \"dimnames\")=List of 2\n",
            "  ..$ : chr [1:5] \"50-54\" \"55-59\" \"60-64\" \"65-69\" ...\n",
            "  ..$ : chr [1:4] \"Rural Male\" \"Rural Female\" \"Urban Male\" \"Urban Female\"\n"
          ],
          "name": "stdout"
        }
      ]
    },
    {
      "cell_type": "code",
      "metadata": {
        "id": "RaNPqnSd-gLh",
        "outputId": "347d0eca-ce1e-42ab-b097-d657de26f89c",
        "colab": {
          "base_uri": "https://localhost:8080/",
          "height": 34
        }
      },
      "source": [
        "VADeaths[,4]"
      ],
      "execution_count": 18,
      "outputs": [
        {
          "output_type": "display_data",
          "data": {
            "text/plain": [
              "50-54 55-59 60-64 65-69 70-74 \n",
              "  8.4  13.6  19.3  35.1  50.0 "
            ],
            "text/latex": "\\begin{description*}\n\\item[50-54] 8.4\n\\item[55-59] 13.6\n\\item[60-64] 19.3\n\\item[65-69] 35.1\n\\item[70-74] 50\n\\end{description*}\n",
            "text/markdown": "50-54\n:   8.455-59\n:   13.660-64\n:   19.365-69\n:   35.170-74\n:   50\n\n",
            "text/html": [
              "<style>\n",
              ".dl-inline {width: auto; margin:0; padding: 0}\n",
              ".dl-inline>dt, .dl-inline>dd {float: none; width: auto; display: inline-block}\n",
              ".dl-inline>dt::after {content: \":\\0020\"; padding-right: .5ex}\n",
              ".dl-inline>dt:not(:first-of-type) {padding-left: .5ex}\n",
              "</style><dl class=dl-inline><dt>50-54</dt><dd>8.4</dd><dt>55-59</dt><dd>13.6</dd><dt>60-64</dt><dd>19.3</dd><dt>65-69</dt><dd>35.1</dd><dt>70-74</dt><dd>50</dd></dl>\n"
            ]
          },
          "metadata": {
            "tags": []
          }
        }
      ]
    },
    {
      "cell_type": "code",
      "metadata": {
        "id": "dLLmtN83-1pV",
        "outputId": "f8c934d1-46ed-4d75-88c6-246c6a2bb894",
        "colab": {
          "base_uri": "https://localhost:8080/",
          "height": 51
        }
      },
      "source": [
        "mode(VADeaths);class(VADeaths)"
      ],
      "execution_count": 19,
      "outputs": [
        {
          "output_type": "display_data",
          "data": {
            "text/plain": [
              "[1] \"numeric\""
            ],
            "text/latex": "'numeric'",
            "text/markdown": "'numeric'",
            "text/html": [
              "'numeric'"
            ]
          },
          "metadata": {
            "tags": []
          }
        },
        {
          "output_type": "display_data",
          "data": {
            "text/plain": [
              "[1] \"matrix\""
            ],
            "text/latex": "'matrix'",
            "text/markdown": "'matrix'",
            "text/html": [
              "'matrix'"
            ]
          },
          "metadata": {
            "tags": []
          }
        }
      ]
    },
    {
      "cell_type": "code",
      "metadata": {
        "id": "1RQMZZzy_Hfj"
      },
      "source": [
        "# 개별 차트와 누적 차트 그리기\n",
        "# par(mfrow = c(1,1)) # 1행 1열 그래프 보기\n",
        "# 개별 차트 그리기\n",
        "# barplot(VADeaths, beside = T, col = rainbow(5), main=\"Rate of deaths in Verginia\")\n",
        "# legend(19, 71, c(\"50-54\",\"55-59\",\"60-64\",\"65-69\",\"70-74\"),cex = 0.8, fill= rainbow(5))"
      ],
      "execution_count": 36,
      "outputs": []
    },
    {
      "cell_type": "code",
      "metadata": {
        "id": "wYglLVNcA64q"
      },
      "source": [
        "# 개별 차트와 누적 차트 그리기\n",
        "# par(mfrow = c(1,1)) # 1행 1열 그래프 보기\n",
        "# 개별 차트 그리기\n",
        "# barplot(VADeaths, beside = F, col = rainbow(5), main=\"Rate of deaths in Verginia\", font.main = 4)\n",
        "# legend(3.8, 200, c(\"50-54\",\"55-59\",\"60-64\",\"65-69\",\"70-74\"),cex = 0.8, fill= rainbow(5))"
      ],
      "execution_count": 35,
      "outputs": []
    },
    {
      "cell_type": "code",
      "metadata": {
        "id": "lk2vWp8uBgrq"
      },
      "source": [
        "# 개별 차트와 누적 차트 그리기\n",
        "# par(mfrow = c(1,1)) # 1행 1열 그래프 보기\n",
        "# 개별 차트 그리기\n",
        "# barplot(VADeaths, beside = F, col = rainbow(5))\n",
        "# title(main=\"Rate of deaths in Verginia\", font.main = 4)\n",
        "# legend(3.8, 200, c(\"50-54\",\"55-59\",\"60-64\",\"65-69\",\"70-74\"),cex = 0.8, fill= rainbow(5))"
      ],
      "execution_count": 34,
      "outputs": []
    },
    {
      "cell_type": "code",
      "metadata": {
        "id": "QYmZZE09BoZs"
      },
      "source": [
        "## 점 차트 사용하기\n",
        "# par(mfrow = c(1,1)) # 1행 1열 그래프 보기\n",
        "# dotchart(data, color = c(\"blue\",\"red\"), lcolor = \"black\", pch = 1:2,\n",
        "#          labels = names(data), xlab = \"Amount\", main = \"Status\" cex = 1.2)    "
      ],
      "execution_count": 33,
      "outputs": []
    },
    {
      "cell_type": "code",
      "metadata": {
        "id": "2cgDmlMeC7e6"
      },
      "source": [
        "## 원형 차트 시각화\n",
        "# par(mfrow = c(1,1)) # 1행 1열 그래프 보기\n",
        "# pie(data, labels = names(data), col = rainbow(8), cex = 1.2)\n",
        "# title(\"Status\")"
      ],
      "execution_count": 32,
      "outputs": []
    }
  ]
}