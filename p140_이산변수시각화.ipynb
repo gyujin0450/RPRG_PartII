{
  "nbformat": 4,
  "nbformat_minor": 0,
  "metadata": {
    "colab": {
      "name": "p140_이산변수시각화.ipynb",
      "provenance": [],
      "authorship_tag": "ABX9TyM9zeMiInDA0JLk35y30v4M",
      "include_colab_link": true
    },
    "kernelspec": {
      "name": "ir",
      "display_name": "R"
    }
  },
  "cells": [
    {
      "cell_type": "markdown",
      "metadata": {
        "id": "view-in-github",
        "colab_type": "text"
      },
      "source": [
        "<a href=\"https://colab.research.google.com/github/gyujin0450/RPRG_PartII/blob/master/p140_%EC%9D%B4%EC%82%B0%EB%B3%80%EC%88%98%EC%8B%9C%EA%B0%81%ED%99%94.ipynb\" target=\"_parent\"><img src=\"https://colab.research.google.com/assets/colab-badge.svg\" alt=\"Open In Colab\"/></a>"
      ]
    },
    {
      "cell_type": "code",
      "metadata": {
        "id": "KTKHFYdZsnPd"
      },
      "source": [
        "## 이산변수 시각화\n",
        "# 정수단위로 나누어 측정할 수 있는 변수\n",
        "# 막대차트, 점차트, 원차트 등을 이용하여 시각화"
      ],
      "execution_count": null,
      "outputs": []
    },
    {
      "cell_type": "code",
      "metadata": {
        "id": "mK92q-_AuIEY"
      },
      "source": [
        "## 세로 막대 차트\n",
        "# barplot()"
      ],
      "execution_count": null,
      "outputs": []
    },
    {
      "cell_type": "code",
      "metadata": {
        "id": "qc3fC9CfuaPb",
        "outputId": "349eb170-331c-4ef6-baa6-20f60cc67108",
        "colab": {
          "base_uri": "https://localhost:8080/",
          "height": 53
        }
      },
      "source": [
        "data <- c(305,450,320,460,330,480,380,520)\n",
        "names(data) <- c(\"'18 1Q\",\"'18 2Q\",\"'18 3Q\",\"'18 4Q\",\"'19 1Q\",\"'19 2Q\",\"'19 3Q\",\"'19 4Q\")\n",
        "str(data)"
      ],
      "execution_count": 50,
      "outputs": [
        {
          "output_type": "stream",
          "text": [
            " Named num [1:8] 305 450 320 460 330 480 380 520\n",
            " - attr(*, \"names\")= chr [1:8] \"'18 1Q\" \"'18 2Q\" \"'18 3Q\" \"'18 4Q\" ...\n"
          ],
          "name": "stdout"
        }
      ]
    },
    {
      "cell_type": "code",
      "metadata": {
        "id": "e24cFsoOvRyq"
      },
      "source": [
        "data"
      ],
      "execution_count": 49,
      "outputs": []
    },
    {
      "cell_type": "code",
      "metadata": {
        "id": "0EOVrTsxvYin",
        "outputId": "bd915db1-1e51-4788-f98e-18cc2c92297c",
        "colab": {
          "base_uri": "https://localhost:8080/",
          "height": 437
        }
      },
      "source": [
        "barplot(data)"
      ],
      "execution_count": 51,
      "outputs": [
        {
          "output_type": "display_data",
          "data": {
            "image/png": "[encoded data removed]",
            "text/plain": [
              "plot without title"
            ]
          },
          "metadata": {
            "tags": [],
            "image/png": {
              "width": 420,
              "height": 420
            }
          }
        }
      ]
    },
    {
      "cell_type": "code",
      "metadata": {
        "id": "_OVacAsTveTM"
      },
      "source": [
        "# ylim : y측의 값범위\n",
        "# col  : 각 막대를 나타낼 색상\n",
        "# main : 차트의 제목\n",
        "# barplot(data, ylim = c(0,600), col = rainbow(8), main = \"매출현황\") # R Studio 에서는 제목이 제대로 나타남"
      ],
      "execution_count": 41,
      "outputs": []
    },
    {
      "cell_type": "code",
      "metadata": {
        "id": "s0229U_s6NWH"
      },
      "source": [
        "# barplot(data, ylim = c(0,600), ylab = \"Amout(unit:10,000)\", xlab = \"Status\", \n",
        "#        col = rainbow(8), main = \"Report 2018 vs 2019\")"
      ],
      "execution_count": 42,
      "outputs": []
    },
    {
      "cell_type": "code",
      "metadata": {
        "id": "CQngFUE27Dla"
      },
      "source": [
        "## 가로 막대 차트\n",
        "# barplot(data, xlim = c(0,600), horiz = T, xlab = \"Amout(unit:10,000)\", ylab = \"Status\", \n",
        "#        col = rainbow(8), main = \"Report 2018 vs 2019\")"
      ],
      "execution_count": 40,
      "outputs": []
    },
    {
      "cell_type": "code",
      "metadata": {
        "id": "xpbfgFj17lhx"
      },
      "source": [
        "# 막대 차트에서 막대 사이의 간격 조정하기\n",
        "# barplot(data, xlim = c(0,600), horiz = T, xlab = \"Amout(unit:10,000)\", ylab = \"Status\", \n",
        "#        col = rainbow(8), space = 1, cex.names =0.8, main = \"Report 2018 vs 2019\")"
      ],
      "execution_count": 39,
      "outputs": []
    },
    {
      "cell_type": "code",
      "metadata": {
        "id": "zgUNZhQJ8DVc"
      },
      "source": [
        "# 막대 차트에서 막대의 색상 지정\n",
        "# barplot(data, xlim = c(0,600), horiz = T, xlab = \"Amout(unit:10,000)\", ylab = \"Status\", \n",
        "#        col = rep(c(2,4),4), space = 1, cex.names =0.8, main = \"Report 2018 vs 2019\")\n",
        "# 검은색(1),빨간색(2),초록색(3),파란색(4),하늘색(5),자주색(6),노락색(7)\n",
        "# rep(c(2,4),4) : (빨간색, 파란색)를 4번 반복"
      ],
      "execution_count": 38,
      "outputs": []
    },
    {
      "cell_type": "code",
      "metadata": {
        "id": "QA552WG284du"
      },
      "source": [
        "# 막대 차트에서 색상 이름을 사용하여 막대의 색상 지정\n",
        "# barplot(data, xlim = c(0,600), horiz = T, xlab = \"Amout(unit:10,000)\", ylab = \"Status\", \n",
        "#        col = rep(c(\"red\",\"green\"),4), space = 1, cex.names =0.8, main = \"Report 2018 vs 2019\")"
      ],
      "execution_count": 37,
      "outputs": []
    },
    {
      "cell_type": "code",
      "metadata": {
        "id": "gJbBdND49t7P"
      },
      "source": [
        "## 누적 막대 차트\n",
        "# 메모리로 데이터 가져오기\n",
        "# data(VADeaths)\n",
        "# VADeaths"
      ],
      "execution_count": 44,
      "outputs": []
    },
    {
      "cell_type": "code",
      "metadata": {
        "id": "uJ96hnL8-YEu"
      },
      "source": [
        "# 데이터 셋 구조 보기\n",
        "# str(VADeaths)"
      ],
      "execution_count": 45,
      "outputs": []
    },
    {
      "cell_type": "code",
      "metadata": {
        "id": "RaNPqnSd-gLh"
      },
      "source": [
        "# VADeaths[,4]"
      ],
      "execution_count": 46,
      "outputs": []
    },
    {
      "cell_type": "code",
      "metadata": {
        "id": "dLLmtN83-1pV"
      },
      "source": [
        "# mode(VADeaths);class(VADeaths)"
      ],
      "execution_count": 47,
      "outputs": []
    },
    {
      "cell_type": "code",
      "metadata": {
        "id": "1RQMZZzy_Hfj"
      },
      "source": [
        "# 개별 차트와 누적 차트 그리기\n",
        "# par(mfrow = c(1,1)) # 1행 1열 그래프 보기\n",
        "# 개별 차트 그리기\n",
        "# barplot(VADeaths, beside = T, col = rainbow(5), main=\"Rate of deaths in Verginia\")\n",
        "# legend(19, 71, c(\"50-54\",\"55-59\",\"60-64\",\"65-69\",\"70-74\"),cex = 0.8, fill= rainbow(5))"
      ],
      "execution_count": 36,
      "outputs": []
    },
    {
      "cell_type": "code",
      "metadata": {
        "id": "wYglLVNcA64q"
      },
      "source": [
        "# 개별 차트와 누적 차트 그리기\n",
        "# par(mfrow = c(1,1)) # 1행 1열 그래프 보기\n",
        "# 개별 차트 그리기\n",
        "# barplot(VADeaths, beside = F, col = rainbow(5), main=\"Rate of deaths in Verginia\", font.main = 4)\n",
        "# legend(3.8, 200, c(\"50-54\",\"55-59\",\"60-64\",\"65-69\",\"70-74\"),cex = 0.8, fill= rainbow(5))"
      ],
      "execution_count": 35,
      "outputs": []
    },
    {
      "cell_type": "code",
      "metadata": {
        "id": "lk2vWp8uBgrq"
      },
      "source": [
        "# 개별 차트와 누적 차트 그리기\n",
        "# par(mfrow = c(1,1)) # 1행 1열 그래프 보기\n",
        "# 개별 차트 그리기\n",
        "# barplot(VADeaths, beside = F, col = rainbow(5))\n",
        "# title(main=\"Rate of deaths in Verginia\", font.main = 4)\n",
        "# legend(3.8, 200, c(\"50-54\",\"55-59\",\"60-64\",\"65-69\",\"70-74\"),cex = 0.8, fill= rainbow(5))"
      ],
      "execution_count": 34,
      "outputs": []
    },
    {
      "cell_type": "code",
      "metadata": {
        "id": "QYmZZE09BoZs"
      },
      "source": [
        "## 점 차트 사용하기\n",
        "# par(mfrow = c(1,1)) # 1행 1열 그래프 보기\n",
        "# dotchart(data, color = c(\"blue\",\"red\"), lcolor = \"black\", pch = 1:2,\n",
        "#          labels = names(data), xlab = \"Amount\", main = \"Status\" cex = 1.2)    "
      ],
      "execution_count": 33,
      "outputs": []
    },
    {
      "cell_type": "code",
      "metadata": {
        "id": "2cgDmlMeC7e6"
      },
      "source": [
        "## 원형 차트 시각화\n",
        "# par(mfrow = c(1,1)) # 1행 1열 그래프 보기\n",
        "# pie(data, labels = names(data), col = rainbow(8), cex = 1.2)\n",
        "# title(\"Status\")"
      ],
      "execution_count": 32,
      "outputs": []
    }
  ]
}