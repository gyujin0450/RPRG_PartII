{
  "nbformat": 4,
  "nbformat_minor": 0,
  "metadata": {
    "colab": {
      "name": "p194_데이터셋보기_결측치처리등.ipynb",
      "provenance": [],
      "authorship_tag": "ABX9TyPxDGcPoDom7wT0ZXpw8YMw",
      "include_colab_link": true
    },
    "kernelspec": {
      "name": "ir",
      "display_name": "R"
    }
  },
  "cells": [
    {
      "cell_type": "markdown",
      "metadata": {
        "id": "view-in-github",
        "colab_type": "text"
      },
      "source": [
        "<a href=\"https://colab.research.google.com/github/gyujin0450/RPRG_PartII/blob/master/p194_%EB%8D%B0%EC%9D%B4%ED%84%B0%EC%85%8B%EB%B3%B4%EA%B8%B0_%EA%B2%B0%EC%B8%A1%EC%B9%98%EC%B2%98%EB%A6%AC%EB%93%B1.ipynb\" target=\"_parent\"><img src=\"https://colab.research.google.com/assets/colab-badge.svg\" alt=\"Open In Colab\"/></a>"
      ]
    },
    {
      "cell_type": "markdown",
      "metadata": {
        "id": "UAsANj5OrvJ6"
      },
      "source": [
        "# ch7.2 수집자료 이해"
      ]
    },
    {
      "cell_type": "code",
      "metadata": {
        "id": "Jd33j8EZr6qm",
        "outputId": "a4be7aa4-8ea1-4997-8a72-e1e70ff002a7",
        "colab": {
          "base_uri": "https://localhost:8080/",
          "height": 183
        }
      },
      "source": [
        "dataset <- read.csv(\"dataset.csv\", header = T)\n",
        "head(dataset,5)"
      ],
      "execution_count": 1,
      "outputs": [
        {
          "output_type": "display_data",
          "data": {
            "text/plain": [
              "  resident gender job age position price survey\n",
              "1  1       1       1  26  2        5.1   1     \n",
              "2  2       1       2  54  5        4.2   2     \n",
              "3 NA       1       2  41  4        4.7   4     \n",
              "4  4       2      NA  45  4        3.5   2     \n",
              "5  5       1       3  62  5        5.0   1     "
            ],
            "text/latex": "A data.frame: 5 × 7\n\\begin{tabular}{r|lllllll}\n  & resident & gender & job & age & position & price & survey\\\\\n  & <int> & <int> & <int> & <int> & <int> & <dbl> & <int>\\\\\n\\hline\n\t1 &  1 & 1 &  1 & 26 & 2 & 5.1 & 1\\\\\n\t2 &  2 & 1 &  2 & 54 & 5 & 4.2 & 2\\\\\n\t3 & NA & 1 &  2 & 41 & 4 & 4.7 & 4\\\\\n\t4 &  4 & 2 & NA & 45 & 4 & 3.5 & 2\\\\\n\t5 &  5 & 1 &  3 & 62 & 5 & 5.0 & 1\\\\\n\\end{tabular}\n",
            "text/markdown": "\nA data.frame: 5 × 7\n\n| <!--/--> | resident &lt;int&gt; | gender &lt;int&gt; | job &lt;int&gt; | age &lt;int&gt; | position &lt;int&gt; | price &lt;dbl&gt; | survey &lt;int&gt; |\n|---|---|---|---|---|---|---|---|\n| 1 |  1 | 1 |  1 | 26 | 2 | 5.1 | 1 |\n| 2 |  2 | 1 |  2 | 54 | 5 | 4.2 | 2 |\n| 3 | NA | 1 |  2 | 41 | 4 | 4.7 | 4 |\n| 4 |  4 | 2 | NA | 45 | 4 | 3.5 | 2 |\n| 5 |  5 | 1 |  3 | 62 | 5 | 5.0 | 1 |\n\n",
            "text/html": [
              "<table>\n",
              "<caption>A data.frame: 5 × 7</caption>\n",
              "<thead>\n",
              "\t<tr><th></th><th scope=col>resident</th><th scope=col>gender</th><th scope=col>job</th><th scope=col>age</th><th scope=col>position</th><th scope=col>price</th><th scope=col>survey</th></tr>\n",
              "\t<tr><th></th><th scope=col>&lt;int&gt;</th><th scope=col>&lt;int&gt;</th><th scope=col>&lt;int&gt;</th><th scope=col>&lt;int&gt;</th><th scope=col>&lt;int&gt;</th><th scope=col>&lt;dbl&gt;</th><th scope=col>&lt;int&gt;</th></tr>\n",
              "</thead>\n",
              "<tbody>\n",
              "\t<tr><th scope=row>1</th><td> 1</td><td>1</td><td> 1</td><td>26</td><td>2</td><td>5.1</td><td>1</td></tr>\n",
              "\t<tr><th scope=row>2</th><td> 2</td><td>1</td><td> 2</td><td>54</td><td>5</td><td>4.2</td><td>2</td></tr>\n",
              "\t<tr><th scope=row>3</th><td>NA</td><td>1</td><td> 2</td><td>41</td><td>4</td><td>4.7</td><td>4</td></tr>\n",
              "\t<tr><th scope=row>4</th><td> 4</td><td>2</td><td>NA</td><td>45</td><td>4</td><td>3.5</td><td>2</td></tr>\n",
              "\t<tr><th scope=row>5</th><td> 5</td><td>1</td><td> 3</td><td>62</td><td>5</td><td>5.0</td><td>1</td></tr>\n",
              "</tbody>\n",
              "</table>\n"
            ]
          },
          "metadata": {
            "tags": []
          }
        }
      ]
    },
    {
      "cell_type": "code",
      "metadata": {
        "id": "a2V2qvf_sudO",
        "outputId": "3c68eab3-63bd-4b31-9c00-d9984a557b71",
        "colab": {
          "base_uri": "https://localhost:8080/",
          "height": 1000
        }
      },
      "source": [
        "print(dataset) # 콘솔창에 전체 데이터 출력"
      ],
      "execution_count": 2,
      "outputs": [
        {
          "output_type": "stream",
          "text": [
            "    resident gender job age position  price survey\n",
            "1          1      1   1  26        2    5.1      1\n",
            "2          2      1   2  54        5    4.2      2\n",
            "3         NA      1   2  41        4    4.7      4\n",
            "4          4      2  NA  45        4    3.5      2\n",
            "5          5      1   3  62        5    5.0      1\n",
            "6          3      1   2  57       NA    5.4      2\n",
            "7          2      2   1  36        3    4.1      4\n",
            "8          5      1   2  NA        3  675.0      4\n",
            "9         NA      1   1  56        5    4.4      3\n",
            "10         2      1   2  37        3    4.9      3\n",
            "11         5      2  NA  29        2    2.3      5\n",
            "12         3      1   3  35        2    4.2      3\n",
            "13         1      1   1  56        5    6.7      2\n",
            "14         2      2   3  20        1    4.3      2\n",
            "15        NA      1   2  63       NA  257.8      2\n",
            "16         1      1   1  49        4    5.7      2\n",
            "17         3      1   2  49        4    4.6      1\n",
            "18         2      1   3  49        4    5.1      2\n",
            "19         1      2   2  25        1    2.1      2\n",
            "20         1      1   1  57        5    5.1      2\n",
            "21         1      1  NA  56        5    6.2      2\n",
            "22         1      1   3  21        1    5.1      2\n",
            "23         2      1   1  69        5    4.1      1\n",
            "24         1      1   2  63        5    4.1      2\n",
            "25         1      1   1  30        2  -75.0      2\n",
            "26         2      2   3  34        2    2.3      3\n",
            "27         1      1   1  26        2    5.0      3\n",
            "28         1      1   1  59       NA     NA      4\n",
            "29         2      1   2  38        3    5.2      3\n",
            "30         1      2   1  57        5    4.7      3\n",
            "31         1      1   1  60        5     NA      4\n",
            "32         2      1   2  49        4    4.4      3\n",
            "33         1      1   1  65        5    5.2      2\n",
            "34         3      1   3  NA        4     NA      2\n",
            "35         2      2   1  49        4    6.3      2\n",
            "36         5      1   3  23        1    4.0      1\n",
            "37         1      1   1  63        5    5.3      2\n",
            "38         3      1   2  NA        3     NA      2\n",
            "39         2      1   2  45        4    4.2      3\n",
            "40         4      2   1  29        2    4.1      3\n",
            "41         2      1   3  28        2    5.0      5\n",
            "42         5      1  NA  65        5     NA      3\n",
            "43         3      1   1  60        5    7.1      2\n",
            "44         5      1   2  32        2    4.0      2\n",
            "45         5      2   1  25       NA   85.1      2\n",
            "46         3      1   2  NA        5    3.8      1\n",
            "47         1      1   3  38        3    5.3      2\n",
            "48         1      1   3  65        5    4.7      4\n",
            "49         1      1   1  NA       NA    5.3      2\n",
            "50         4      1   2  24        1    6.2      2\n",
            "51         1      2   2  61        5    7.0      3\n",
            "52         2      1   2  41        4    6.4      2\n",
            "53         1      1   1  63        5    5.1      4\n",
            "54         1      1   3  30        2    5.5      2\n",
            "55         1      2   2  37        3    6.4      1\n",
            "56        NA      1   2  22        1    4.7      4\n",
            "57         1      1   1  29        2    6.3      2\n",
            "58         4      1   3  NA        5    3.9      3\n",
            "59         2      1   2  25        1    4.1      2\n",
            "60         1      2   2  36        3    4.1      3\n",
            "61         1      1   1  47        4    5.0      4\n",
            "62         3      1   3  64        5    3.5      3\n",
            "63        NA      1   2  NA        1    6.0      3\n",
            "64         1      2   2  28       NA    3.3      1\n",
            "65         1      2   1  65        5 -457.2      2\n",
            "66         2      2   2  24        1    6.3      2\n",
            "67        NA      2   2  62        5    5.6      2\n",
            "68         2      2   1  62        5    6.2      2\n",
            "69         1      1   3  28        2    6.2      3\n",
            "70         1      2   2  63        5    6.3      4\n",
            "71        NA      2   2  NA        3   -5.9      3\n",
            "72         5      2  NA  26        2    3.4      3\n",
            "73         1      1   3  40        3    6.3      5\n",
            "74         3      2   2  52        5    3.5      4\n",
            "75         1      1   1  NA        2    6.4      2\n",
            "76         1      2   2  43        4    3.0      2\n",
            "77         3      2   3  44        4    6.8      2\n",
            "78         1      2   2  30       NA     NA      2\n",
            "79        NA      2   2  48        4    3.5      4\n",
            "80         1      1   1  41        4    5.2      2\n",
            "81         1      1   2  54        5    5.5      3\n",
            "82         1      2   3  44        4    6.1      4\n",
            "83        NA      2   2  29        2    5.8      3\n",
            "84         1      2   2  31        2    6.1      3\n",
            "85         5      1   2  49        4    5.4      3\n",
            "86         1      1   1  64        5    6.0      2\n",
            "87         2      1   3  65        5    6.7      2\n",
            "88         1      2   2  46        4    5.2      2\n",
            "89         5      1   2  42        4    5.6      2\n",
            "90         2      2   1  38        3    5.1      4\n",
            "91         5      2   3  65       NA    5.5      2\n",
            "92         1      2   1  40        3    6.1      1\n",
            "93         2      2   1  42        4     NA      2\n",
            "94         1      1   2  40        3    5.0      3\n",
            "95         1      1   3  55        5    4.0      3\n",
            "96         4      2   2  41        4    5.7      3\n",
            "97         2      1   2  63        5  115.7      4\n",
            "98         1      1   3  45        4     NA      3\n",
            "99         2      2   2  59       NA   75.1      3\n",
            "100        5      2   2  43        4    5.7      3\n",
            "101        1      2   3  NA        3    6.3      4\n",
            "102        2      1   3  63        5     NA      2\n",
            "103        1      1  NA  47        4    7.1      2\n",
            "104        5      2   3  45        4    5.0      2\n",
            "105        1      2   1  44        4    6.5      2\n",
            "106        5      1   3  NA        5     NA      3\n",
            "107        3      2   2  27        2    4.9      3\n",
            "108        1      1   3  37        3    6.2      3\n",
            "109        1      2   3  35        2    4.6      3\n",
            "110        3      1   3  69        5    7.2      5\n",
            "111        4      2   2  20        1    6.5      3\n",
            "112        1      1   3  NA        5    6.4      3\n",
            "113        3      2   3  20        1    6.8      2\n",
            "114        1      2   1  24        1    5.5      2\n",
            "115        1      2   2  46        4    5.8      2\n",
            "116        5      1   3  25        1    4.0      1\n",
            "117        3      2   3  NA        4    6.0      2\n",
            "118        1      2   1  21        1    6.7      2\n",
            "119       NA      1   3  53        5    7.7      2\n",
            "120        5      2   2  33        2    4.3      2\n",
            "121        5      2   3  56        5    5.0      3\n",
            "122        2      1   3  45        4    4.0      3\n",
            "123        1      2   3  60        5    6.7      3\n",
            "124        2      2   1  38        3    5.4      3\n",
            "125        1      2   3  NA        3     NA      3\n",
            "126        4      1   3  63        5  336.5      3\n",
            "127        2      1   2  41        4    6.2      3\n",
            "128        1      2   3  27        2    5.9      3\n",
            "129        2      1   2  37        3    4.9      3\n",
            "130        2      2   3  20        1    4.3      3\n",
            "131       NA      1   2  63       NA  225.8      3\n",
            "132        1      1   1  49        4    5.7      3\n",
            "133        3      1   2  49        4    4.0      3\n",
            "134        1      1   3  21        1    5.1      1\n",
            "135        2      1   1  69        5    3.8      4\n",
            "136        1      1   2  63        5    4.1      2\n",
            "137        1      1   1  30        2   -4.8      2\n",
            "138        2      2   3  34        2    5.1      2\n",
            "139        1      1   1  26        2    5.0      3\n",
            "140        1      1   1  59       NA     NA      3\n",
            "141        2      1   2  38        3    5.2      3\n",
            "142        1      2   1  57        5    4.7      4\n",
            "143        1      1   1  60        5    5.1      3\n",
            "144        2      1   2  49        4    4.4      3\n",
            "145        1      1   1  65        5    5.2      4\n",
            "146        3      1   3  NA        4     NA      3\n",
            "147        2      2   1  49        4    5.0      3\n",
            "148        5      1   3  23        1    4.0      3\n",
            "149        1      1   1  63        5    3.9      4\n",
            "150        3      1   2  NA        3     NA      3\n",
            "151        2      1   2  45        4    4.0      3\n",
            "152        4      2   1  29        2    4.1      3\n",
            "153        2      1   3  28        2    5.0      3\n",
            "154        5      1  NA  65        5    5.0      2\n",
            "155        3      1   1  60        5    4.0      2\n",
            "156        5      1   2  32        2    4.0      2\n",
            "157        5      2   1  25       NA   85.1      2\n",
            "158        3      1   2  NA        5    3.8      3\n",
            "159        1      1   3  38        3    6.0      3\n",
            "160        1      1   3  65        5    3.0      3\n",
            "161        1      1   1  NA       NA    5.3      3\n",
            "162        4      1   2  24        1    5.0      3\n",
            "163        1      1   2  61        5    7.0      2\n",
            "164        2      1   2  41        4    6.4      1\n",
            "165        1      1   1  63        5    6.2      2\n",
            "166        1      1   3  30        2    5.5      2\n",
            "167        1      1   2  37        3    4.3      5\n",
            "168       NA      1   2  22        1    4.7      2\n",
            "169        1      1   1  29        2    4.8      2\n",
            "170        4      1   3  NA        5    3.9      3\n",
            "171        2      1   2  25        1    6.0      3\n",
            "172        1      1   2  36        3    4.1      3\n",
            "173        1      1   1  47        4    5.0      4\n",
            "174        3      1   3  64        5    4.0      3\n",
            "175       NA      1   2  NA        1    6.0      3\n",
            "176        1      2   2  28       NA    3.3      3\n",
            "177        1      2   1  65        5 -345.6      3\n",
            "178        2      2   2  24        1     NA      4\n",
            "179       NA      1   2  62        5    5.6      3\n",
            "180        2      1   1  62        5    5.3      3\n",
            "181        1      1   3  28        2    6.2      3\n",
            "182        1      1   2  63        5    4.6      4\n",
            "183       NA      1   2  NA        3   -5.9      2\n",
            "184        5      2  NA  26        2    3.4      2\n",
            "185        1      1   3  40        3    6.3      2\n",
            "186        3      1   2  52        5    6.3      2\n",
            "187        1      1   1  NA        2    6.4      2\n",
            "188        1      2   2  43        4    3.0      2\n",
            "189        3      1   3  44        4    6.8      2\n",
            "190        1      2   2  30       NA    5.0      2\n",
            "191       NA      2   2  48        4    4.0      1\n",
            "192        1      1   1  41        4    5.2      2\n",
            "193        1      1   2  54        5    5.5      2\n",
            "194        1      2   3  44        4    3.0      2\n",
            "195       NA      1   2  29        2    5.8      3\n",
            "196        1      1   2  31        2    6.3      4\n",
            "197        5      1   2  49        4    5.4      3\n",
            "198        1      1   1  64        5    6.0      4\n",
            "199        2      1   3  65        5    6.7      3\n",
            "200        1      1   2  46        4    5.2      3\n",
            "201        5      1   2  42        4    5.6      3\n",
            "202        2      2   1  38        3    4.6      3\n",
            "203        5      1   3  65       NA    5.5      3\n",
            "204        1      1   1  40        3    6.1      3\n",
            "205        2      2   1  42        4    5.3      3\n",
            "206        1      1   2  40        3    5.0      2\n",
            "207        1      1   3  55        5    6.0      2\n",
            "208        4      1   2  41        4    5.7      2\n",
            "209        2      2   2  63        5  115.7      2\n",
            "210        1      1   3  45        4    4.6      2\n",
            "211        2      2   2  59       NA   75.1      2\n",
            "212        5      2   2  43        4    5.7      2\n",
            "213        1      1   3  NA        3    6.3      2\n",
            "214        2      1   3  63        5    6.3      1\n",
            "215        1      1  NA  47        4    7.1      2\n",
            "216        5      1   3  45        4    5.2      2\n",
            "217        1      1   1  44        4    6.5      2\n",
            "218        5      2   3  NA        5     NA      2\n",
            "219        3      1   2  27        2    4.9      3\n",
            "220        1      1   3  37        3    6.2      3\n",
            "221        1      2   3  35        2    4.0      3\n",
            "222        3      1   3  69        5    7.2      3\n",
            "223        4      2   2  20        1    6.5      3\n",
            "224        1      1   3  NA        5    6.4      3\n",
            "225        3      2   3  20        1    6.8      3\n",
            "226        1      2   1  24        1    5.0      3\n",
            "227        1      2   2  46        4    5.8      3\n",
            "228        5      1   3  25        1    6.0      4\n",
            "229        3      2   3  NA        4    3.0      3\n",
            "230        1      2   1  21        1    6.7      3\n",
            "231       NA      2   3  53        5    7.7      3\n",
            "232        1      1   3  47       NA     NA      3\n",
            "233        1      2   2  48        4    6.9      2\n",
            "234        1      2   3  22        1    4.0      4\n",
            "235        5      2   1  48        4    7.7      2\n",
            "236        1      2   3  21        1    5.3      2\n",
            "237       NA      1   3  51        5    6.7      2\n",
            "238        5      1   2  64        5    4.8      2\n",
            "239        1      2  NA  27        2    6.2      2\n",
            "240        1      2   1  64       NA    6.0      1\n",
            "241        5      1   3  54        5    6.4      2\n",
            "242        1      2   1  NA        1 -235.8      2\n",
            "243        5      2   3  42        4    5.1      2\n",
            "244        5      2   3  54        5    7.9      2\n",
            "245        1      1  NA  25       NA    6.4      2\n",
            "246        2      2   3  54        5    6.3      3\n",
            "247       NA      1   1  60        5    6.1      3\n",
            "248        5      1   3  NA        5     NA      3\n",
            "249        2      2   2  63        5    6.3      4\n",
            "250        1      2   3  43        4     NA      3\n",
            "251        4      2   3  21        1    6.0      3\n",
            "252        2      2   3  23        1    6.9      3\n",
            "253        1      1   3  24        1     NA      4\n",
            "254        5      2   2  33        2    4.3      3\n",
            "255        5      1   3  56        5     NA      3\n",
            "256        2      1   3  45        4     NA      3\n",
            "257        1      2   3  60        5    6.7      2\n",
            "258        2      2   1  38        3    5.4      2\n",
            "259        1      2   3  NA        3     NA      4\n",
            "260        3      2   3  63        5    7.0      2\n",
            "261        4      2   2  20        1    6.0      3\n",
            "262        1      1   3  60        5    6.2      3\n",
            "263        3      2   3  20        1    6.1      3\n",
            "264        1      2   1  24        1    5.0      3\n",
            "265        1      2   2  46        4    5.8      3\n",
            "266        5      1   3  25        1    4.0      3\n",
            "267        3      2   3  50        4    3.0      4\n",
            "268        1      2   1  21        1    5.0      3\n",
            "269        5      1   2  64        5    6.0      4\n",
            "270        1      2  NA  27        2    6.2      2\n",
            "271        1      2   1  64       NA     NA      1\n",
            "272        5      1   3  54        5    6.4      2\n",
            "273        1      2   1  NA        1 -235.8      3\n",
            "274        5      2   3  42        4     NA      3\n",
            "275        5      2   3  54        5    7.9      3\n",
            "276        1      1  NA  25       NA    6.4      4\n",
            "277        2      2   3  54        5    6.3      3\n",
            "278       NA      1   1  60        5    6.1      3\n",
            "279        5      1   3  NA        5     NA      4\n",
            "280        2      2   2  63        5    6.3      3\n",
            "281        1      2   3  43        4     NA      3\n",
            "282        4      2   3  21        1    6.0      4\n",
            "283        2      2   3  23        1    6.9      2\n",
            "284        1      1   3  24        1     NA      2\n",
            "285        4      2   3  63        5  336.5      2\n",
            "286        2      1   2  41        4    6.2      1\n",
            "287        1      2   3  27        2    5.9      2\n",
            "288        1      1   3  47       NA     NA      2\n",
            "289        1      2   2  48        4    6.9      4\n",
            "290        1      2   3  22        1     NA      3\n",
            "291        5      2   1  48        4    7.7      3\n",
            "292        1      2   3  21        1    6.3      3\n",
            "293        2      0   1  55        4    5.5      3\n",
            "294        1      2   2  43        4    4.5      2\n",
            "295        2      1   1  20        1    3.5      5\n",
            "296        1      5   2  26        1    7.1      2\n",
            "297        3      1   3  24        1    6.1      2\n",
            "298        4      1   3  59        5    5.5      2\n",
            "299        3      0   1  45        4    5.1      2\n",
            "300        1      1   3  27        2    4.4      2\n"
          ],
          "name": "stdout"
        }
      ]
    },
    {
      "cell_type": "code",
      "metadata": {
        "id": "l-jvE6VuzBFs"
      },
      "source": [
        "# View(dataset) \n",
        "# Error in View(dataset): ‘View()’ not yet supported in the Jupyter R kernel\n",
        "# R Studio에서 조회 가능"
      ],
      "execution_count": 4,
      "outputs": []
    },
    {
      "cell_type": "code",
      "metadata": {
        "id": "gFInG3tmz1vl",
        "outputId": "52a175e1-61d7-479b-f7f0-385baf056da8",
        "colab": {
          "base_uri": "https://localhost:8080/",
          "height": 161
        }
      },
      "source": [
        "# 데이터셋 구조 보기\n",
        "str(dataset)"
      ],
      "execution_count": 5,
      "outputs": [
        {
          "output_type": "stream",
          "text": [
            "'data.frame':\t300 obs. of  7 variables:\n",
            " $ resident: int  1 2 NA 4 5 3 2 5 NA 2 ...\n",
            " $ gender  : int  1 1 1 2 1 1 2 1 1 1 ...\n",
            " $ job     : int  1 2 2 NA 3 2 1 2 1 2 ...\n",
            " $ age     : int  26 54 41 45 62 57 36 NA 56 37 ...\n",
            " $ position: int  2 5 4 4 5 NA 3 3 5 3 ...\n",
            " $ price   : num  5.1 4.2 4.7 3.5 5 5.4 4.1 675 4.4 4.9 ...\n",
            " $ survey  : int  1 2 4 2 1 2 4 4 3 3 ...\n"
          ],
          "name": "stdout"
        }
      ]
    },
    {
      "cell_type": "code",
      "metadata": {
        "id": "prLdJnQZ3rR3",
        "outputId": "189fc4e2-f522-44e3-80e3-5eae1f9cea20",
        "colab": {
          "base_uri": "https://localhost:8080/",
          "height": 437
        }
      },
      "source": [
        "# 데이터셋 조회\n",
        "plot(dataset$price)"
      ],
      "execution_count": 7,
      "outputs": [
        {
          "output_type": "display_data",
          "data": {
            "image/png": "[encoded data removed]",
            "text/plain": [
              "plot without title"
            ]
          },
          "metadata": {
            "tags": [],
            "image/png": {
              "width": 420,
              "height": 420
            }
          }
        }
      ]
    },
    {
      "cell_type": "code",
      "metadata": {
        "id": "24KztM4f4Dr6",
        "outputId": "e290b992-fc36-4fc5-d013-6846e5ffb04d",
        "colab": {
          "base_uri": "https://localhost:8080/",
          "height": 309
        }
      },
      "source": [
        "dataset[c(100:110),]"
      ],
      "execution_count": 9,
      "outputs": [
        {
          "output_type": "display_data",
          "data": {
            "text/plain": [
              "    resident gender job age position price survey\n",
              "100 5        2       2  43  4        5.7   3     \n",
              "101 1        2       3  NA  3        6.3   4     \n",
              "102 2        1       3  63  5         NA   2     \n",
              "103 1        1      NA  47  4        7.1   2     \n",
              "104 5        2       3  45  4        5.0   2     \n",
              "105 1        2       1  44  4        6.5   2     \n",
              "106 5        1       3  NA  5         NA   3     \n",
              "107 3        2       2  27  2        4.9   3     \n",
              "108 1        1       3  37  3        6.2   3     \n",
              "109 1        2       3  35  2        4.6   3     \n",
              "110 3        1       3  69  5        7.2   5     "
            ],
            "text/latex": "A data.frame: 11 × 7\n\\begin{tabular}{r|lllllll}\n  & resident & gender & job & age & position & price & survey\\\\\n  & <int> & <int> & <int> & <int> & <int> & <dbl> & <int>\\\\\n\\hline\n\t100 & 5 & 2 &  2 & 43 & 4 & 5.7 & 3\\\\\n\t101 & 1 & 2 &  3 & NA & 3 & 6.3 & 4\\\\\n\t102 & 2 & 1 &  3 & 63 & 5 &  NA & 2\\\\\n\t103 & 1 & 1 & NA & 47 & 4 & 7.1 & 2\\\\\n\t104 & 5 & 2 &  3 & 45 & 4 & 5.0 & 2\\\\\n\t105 & 1 & 2 &  1 & 44 & 4 & 6.5 & 2\\\\\n\t106 & 5 & 1 &  3 & NA & 5 &  NA & 3\\\\\n\t107 & 3 & 2 &  2 & 27 & 2 & 4.9 & 3\\\\\n\t108 & 1 & 1 &  3 & 37 & 3 & 6.2 & 3\\\\\n\t109 & 1 & 2 &  3 & 35 & 2 & 4.6 & 3\\\\\n\t110 & 3 & 1 &  3 & 69 & 5 & 7.2 & 5\\\\\n\\end{tabular}\n",
            "text/markdown": "\nA data.frame: 11 × 7\n\n| <!--/--> | resident &lt;int&gt; | gender &lt;int&gt; | job &lt;int&gt; | age &lt;int&gt; | position &lt;int&gt; | price &lt;dbl&gt; | survey &lt;int&gt; |\n|---|---|---|---|---|---|---|---|\n| 100 | 5 | 2 |  2 | 43 | 4 | 5.7 | 3 |\n| 101 | 1 | 2 |  3 | NA | 3 | 6.3 | 4 |\n| 102 | 2 | 1 |  3 | 63 | 5 |  NA | 2 |\n| 103 | 1 | 1 | NA | 47 | 4 | 7.1 | 2 |\n| 104 | 5 | 2 |  3 | 45 | 4 | 5.0 | 2 |\n| 105 | 1 | 2 |  1 | 44 | 4 | 6.5 | 2 |\n| 106 | 5 | 1 |  3 | NA | 5 |  NA | 3 |\n| 107 | 3 | 2 |  2 | 27 | 2 | 4.9 | 3 |\n| 108 | 1 | 1 |  3 | 37 | 3 | 6.2 | 3 |\n| 109 | 1 | 2 |  3 | 35 | 2 | 4.6 | 3 |\n| 110 | 3 | 1 |  3 | 69 | 5 | 7.2 | 5 |\n\n",
            "text/html": [
              "<table>\n",
              "<caption>A data.frame: 11 × 7</caption>\n",
              "<thead>\n",
              "\t<tr><th></th><th scope=col>resident</th><th scope=col>gender</th><th scope=col>job</th><th scope=col>age</th><th scope=col>position</th><th scope=col>price</th><th scope=col>survey</th></tr>\n",
              "\t<tr><th></th><th scope=col>&lt;int&gt;</th><th scope=col>&lt;int&gt;</th><th scope=col>&lt;int&gt;</th><th scope=col>&lt;int&gt;</th><th scope=col>&lt;int&gt;</th><th scope=col>&lt;dbl&gt;</th><th scope=col>&lt;int&gt;</th></tr>\n",
              "</thead>\n",
              "<tbody>\n",
              "\t<tr><th scope=row>100</th><td>5</td><td>2</td><td> 2</td><td>43</td><td>4</td><td>5.7</td><td>3</td></tr>\n",
              "\t<tr><th scope=row>101</th><td>1</td><td>2</td><td> 3</td><td>NA</td><td>3</td><td>6.3</td><td>4</td></tr>\n",
              "\t<tr><th scope=row>102</th><td>2</td><td>1</td><td> 3</td><td>63</td><td>5</td><td> NA</td><td>2</td></tr>\n",
              "\t<tr><th scope=row>103</th><td>1</td><td>1</td><td>NA</td><td>47</td><td>4</td><td>7.1</td><td>2</td></tr>\n",
              "\t<tr><th scope=row>104</th><td>5</td><td>2</td><td> 3</td><td>45</td><td>4</td><td>5.0</td><td>2</td></tr>\n",
              "\t<tr><th scope=row>105</th><td>1</td><td>2</td><td> 1</td><td>44</td><td>4</td><td>6.5</td><td>2</td></tr>\n",
              "\t<tr><th scope=row>106</th><td>5</td><td>1</td><td> 3</td><td>NA</td><td>5</td><td> NA</td><td>3</td></tr>\n",
              "\t<tr><th scope=row>107</th><td>3</td><td>2</td><td> 2</td><td>27</td><td>2</td><td>4.9</td><td>3</td></tr>\n",
              "\t<tr><th scope=row>108</th><td>1</td><td>1</td><td> 3</td><td>37</td><td>3</td><td>6.2</td><td>3</td></tr>\n",
              "\t<tr><th scope=row>109</th><td>1</td><td>2</td><td> 3</td><td>35</td><td>2</td><td>4.6</td><td>3</td></tr>\n",
              "\t<tr><th scope=row>110</th><td>3</td><td>1</td><td> 3</td><td>69</td><td>5</td><td>7.2</td><td>5</td></tr>\n",
              "</tbody>\n",
              "</table>\n"
            ]
          },
          "metadata": {
            "tags": []
          }
        }
      ]
    },
    {
      "cell_type": "markdown",
      "metadata": {
        "id": "_EXhA3vC4kwW"
      },
      "source": [
        "Ch06.3 결측치 처리"
      ]
    },
    {
      "cell_type": "code",
      "metadata": {
        "id": "DYOiFXwV4yLy"
      },
      "source": [
        "# 분석가가 데이터를 코딩하는 과정에서 실수로 입력하지 않았거나, 응답자가 고의로 응답을 회피한 경우\n",
        "# 결측치(Missing Values, R에서는 NA로 표기)가 발생함.\n",
        "# 이 경우 결측치 항목의 최대 자리수 만큼 숫자 9를 채워 부호화하거나 하이픈(-)으로 해당 항목을 채워 넣는다. "
      ],
      "execution_count": null,
      "outputs": []
    },
    {
      "cell_type": "code",
      "metadata": {
        "id": "gOoDGNvV51y4",
        "outputId": "60f17c2e-6cad-4541-9b16-bbee8edb2e12",
        "colab": {
          "base_uri": "https://localhost:8080/",
          "height": 305
        }
      },
      "source": [
        "# 결측치 확인\n",
        "summary(dataset)"
      ],
      "execution_count": 10,
      "outputs": [
        {
          "output_type": "display_data",
          "data": {
            "text/plain": [
              "    resident         gender          job             age           position    \n",
              " Min.   :1.000   Min.   :0.00   Min.   :1.000   Min.   :20.00   Min.   :1.000  \n",
              " 1st Qu.:1.000   1st Qu.:1.00   1st Qu.:1.000   1st Qu.:29.00   1st Qu.:2.000  \n",
              " Median :2.000   Median :1.00   Median :2.000   Median :44.00   Median :4.000  \n",
              " Mean   :2.233   Mean   :1.42   Mean   :2.118   Mean   :43.31   Mean   :3.404  \n",
              " 3rd Qu.:3.000   3rd Qu.:2.00   3rd Qu.:3.000   3rd Qu.:57.00   3rd Qu.:5.000  \n",
              " Max.   :5.000   Max.   :5.00   Max.   :3.000   Max.   :69.00   Max.   :5.000  \n",
              " NA's   :21                     NA's   :13      NA's   :31      NA's   :23     \n",
              "     price              survey     \n",
              " Min.   :-457.200   Min.   :1.000  \n",
              " 1st Qu.:   4.425   1st Qu.:2.000  \n",
              " Median :   5.400   Median :3.000  \n",
              " Mean   :   8.752   Mean   :2.657  \n",
              " 3rd Qu.:   6.300   3rd Qu.:3.000  \n",
              " Max.   : 675.000   Max.   :5.000  \n",
              " NA's   :30                        "
            ]
          },
          "metadata": {
            "tags": []
          }
        }
      ]
    },
    {
      "cell_type": "code",
      "metadata": {
        "id": "BRRqVk5z6GGW",
        "outputId": "d879655b-a25b-4d9c-dcd6-d868211ad5aa",
        "colab": {
          "base_uri": "https://localhost:8080/",
          "height": 53
        }
      },
      "source": [
        "summary(dataset$job)"
      ],
      "execution_count": 11,
      "outputs": [
        {
          "output_type": "display_data",
          "data": {
            "text/plain": [
              "   Min. 1st Qu.  Median    Mean 3rd Qu.    Max.    NA's \n",
              "  1.000   1.000   2.000   2.118   3.000   3.000      13 "
            ]
          },
          "metadata": {
            "tags": []
          }
        }
      ]
    },
    {
      "cell_type": "code",
      "metadata": {
        "id": "CKKxAzo96SSO",
        "outputId": "1596a274-6c58-4727-8209-ba87601df72c",
        "colab": {
          "base_uri": "https://localhost:8080/",
          "height": 34
        }
      },
      "source": [
        "sum(dataset$price)"
      ],
      "execution_count": 12,
      "outputs": [
        {
          "output_type": "display_data",
          "data": {
            "text/plain": [
              "[1] NA"
            ],
            "text/latex": "<NA>",
            "text/markdown": "&lt;NA&gt;",
            "text/html": [
              "&lt;NA&gt;"
            ]
          },
          "metadata": {
            "tags": []
          }
        }
      ]
    },
    {
      "cell_type": "code",
      "metadata": {
        "id": "YbhERCJX6BYQ",
        "outputId": "af7ef1e7-211d-435b-eaa6-aa72560b9de2",
        "colab": {
          "base_uri": "https://localhost:8080/",
          "height": 34
        }
      },
      "source": [
        "# 결측치 제거 : 무조건 결측치를 제거하면 중요한 데이터가 소실될 수도 있음\n",
        "# 일반적으로 기계학습시 많은 데이터를 사용할 경우 결측치로 왜곡이 생길 수 있어 제거함 \n",
        "sum(dataset$price, na.rm = T)"
      ],
      "execution_count": 13,
      "outputs": [
        {
          "output_type": "display_data",
          "data": {
            "text/plain": [
              "[1] 2362.9"
            ],
            "text/latex": "2362.9",
            "text/markdown": "2362.9",
            "text/html": [
              "2362.9"
            ]
          },
          "metadata": {
            "tags": []
          }
        }
      ]
    },
    {
      "cell_type": "code",
      "metadata": {
        "id": "ZAulfK9P6nvq",
        "outputId": "b4429473-4945-4423-c0cd-dfc5fbe916a1",
        "colab": {
          "base_uri": "https://localhost:8080/",
          "height": 34
        }
      },
      "source": [
        "price2 <- na.omit(dataset$price)\n",
        "sum(price2)"
      ],
      "execution_count": 14,
      "outputs": [
        {
          "output_type": "display_data",
          "data": {
            "text/plain": [
              "[1] 2362.9"
            ],
            "text/latex": "2362.9",
            "text/markdown": "2362.9",
            "text/html": [
              "2362.9"
            ]
          },
          "metadata": {
            "tags": []
          }
        }
      ]
    },
    {
      "cell_type": "code",
      "metadata": {
        "id": "E9P_wqOk60Rr",
        "outputId": "90a8078b-ced7-48e0-ff59-b8912a601496",
        "colab": {
          "base_uri": "https://localhost:8080/",
          "height": 34
        }
      },
      "source": [
        "length(price2) # 결측치 30개 제거"
      ],
      "execution_count": 15,
      "outputs": [
        {
          "output_type": "display_data",
          "data": {
            "text/plain": [
              "[1] 270"
            ],
            "text/latex": "270",
            "text/markdown": "270",
            "text/html": [
              "270"
            ]
          },
          "metadata": {
            "tags": []
          }
        }
      ]
    },
    {
      "cell_type": "code",
      "metadata": {
        "id": "Oz9gq2Z37z8Y",
        "outputId": "dbf0721a-376d-4319-ba95-f77e3e4ee738",
        "colab": {
          "base_uri": "https://localhost:8080/",
          "height": 53
        }
      },
      "source": [
        "str(price2)"
      ],
      "execution_count": 16,
      "outputs": [
        {
          "output_type": "stream",
          "text": [
            " num [1:270] 5.1 4.2 4.7 3.5 5 5.4 4.1 675 4.4 4.9 ...\n",
            " - attr(*, \"na.action\")= 'omit' int [1:30] 28 31 34 38 42 78 93 98 102 106 ...\n"
          ],
          "name": "stdout"
        }
      ]
    },
    {
      "cell_type": "code",
      "metadata": {
        "id": "t_T9O6Fk6-JV",
        "outputId": "a1030f18-c9d2-4d77-d3db-7605f735e0f7",
        "colab": {
          "base_uri": "https://localhost:8080/",
          "height": 70
        }
      },
      "source": [
        "# 결측치 대체 : 결측치를 0 이나 평균값으로 대체 함\n",
        "dataset2 <- dataset\n",
        "dataset2$price <- ifelse(is.na(dataset$price),0,dataset$price)\n",
        "summary(dataset2$price)\n",
        "mean(dataset2$price,2)"
      ],
      "execution_count": 20,
      "outputs": [
        {
          "output_type": "display_data",
          "data": {
            "text/plain": [
              "    Min.  1st Qu.   Median     Mean  3rd Qu.     Max. \n",
              "-457.200    4.000    5.200    7.876    6.200  675.000 "
            ]
          },
          "metadata": {
            "tags": []
          }
        },
        {
          "output_type": "display_data",
          "data": {
            "text/plain": [
              "[1] 5.2"
            ],
            "text/latex": "5.2",
            "text/markdown": "5.2",
            "text/html": [
              "5.2"
            ]
          },
          "metadata": {
            "tags": []
          }
        }
      ]
    },
    {
      "cell_type": "code",
      "metadata": {
        "id": "H4ESIQQz9o4k",
        "outputId": "abac954d-d028-429c-ca1e-a7be870b5253",
        "colab": {
          "base_uri": "https://localhost:8080/",
          "height": 70
        }
      },
      "source": [
        "dataset3 <- dataset\n",
        "dataset3$price <- ifelse(is.na(dataset$price),round(mean(dataset$price, na.rm =T),2),dataset$price)\n",
        "summary(dataset3$price)\n",
        "mean(dataset3$price,2)"
      ],
      "execution_count": 22,
      "outputs": [
        {
          "output_type": "display_data",
          "data": {
            "text/plain": [
              "    Min.  1st Qu.   Median     Mean  3rd Qu.     Max. \n",
              "-457.200    4.700    5.700    8.751    6.500  675.000 "
            ]
          },
          "metadata": {
            "tags": []
          }
        },
        {
          "output_type": "display_data",
          "data": {
            "text/plain": [
              "[1] 5.7"
            ],
            "text/latex": "5.7",
            "text/markdown": "5.7",
            "text/html": [
              "5.7"
            ]
          },
          "metadata": {
            "tags": []
          }
        }
      ]
    },
    {
      "cell_type": "code",
      "metadata": {
        "id": "zEUGY5oj-ykv",
        "outputId": "e30e57c4-0463-42b8-83f3-cee88f391b7c",
        "colab": {
          "base_uri": "https://localhost:8080/",
          "height": 34
        }
      },
      "source": [
        "# 결측치 대체 결과, 평균이 달라지는 현상에 대한 조치는?\n",
        "mean(dataset$price, na.rm =T)"
      ],
      "execution_count": 24,
      "outputs": [
        {
          "output_type": "display_data",
          "data": {
            "text/plain": [
              "[1] 8.751481"
            ],
            "text/latex": "8.75148148148148",
            "text/markdown": "8.75148148148148",
            "text/html": [
              "8.75148148148148"
            ]
          },
          "metadata": {
            "tags": []
          }
        }
      ]
    },
    {
      "cell_type": "code",
      "metadata": {
        "id": "uVCHfezC_bqq",
        "outputId": "5f9eb994-764f-42d0-ab24-79e5e682cff0",
        "colab": {
          "base_uri": "https://localhost:8080/",
          "height": 301
        }
      },
      "source": [
        "dataset4 <- matrix(c(dataset$price,dataset2$price,dataset3$price), ncol = 3, byrow = F)\n",
        "dataset4[c(100:110),]"
      ],
      "execution_count": 33,
      "outputs": [
        {
          "output_type": "display_data",
          "data": {
            "text/plain": [
              "      [,1] [,2] [,3]\n",
              " [1,] 5.7  5.7  5.70\n",
              " [2,] 6.3  6.3  6.30\n",
              " [3,]  NA  0.0  8.75\n",
              " [4,] 7.1  7.1  7.10\n",
              " [5,] 5.0  5.0  5.00\n",
              " [6,] 6.5  6.5  6.50\n",
              " [7,]  NA  0.0  8.75\n",
              " [8,] 4.9  4.9  4.90\n",
              " [9,] 6.2  6.2  6.20\n",
              "[10,] 4.6  4.6  4.60\n",
              "[11,] 7.2  7.2  7.20"
            ],
            "text/latex": "A matrix: 11 × 3 of type dbl\n\\begin{tabular}{lll}\n\t 5.7 & 5.7 & 5.70\\\\\n\t 6.3 & 6.3 & 6.30\\\\\n\t  NA & 0.0 & 8.75\\\\\n\t 7.1 & 7.1 & 7.10\\\\\n\t 5.0 & 5.0 & 5.00\\\\\n\t 6.5 & 6.5 & 6.50\\\\\n\t  NA & 0.0 & 8.75\\\\\n\t 4.9 & 4.9 & 4.90\\\\\n\t 6.2 & 6.2 & 6.20\\\\\n\t 4.6 & 4.6 & 4.60\\\\\n\t 7.2 & 7.2 & 7.20\\\\\n\\end{tabular}\n",
            "text/markdown": "\nA matrix: 11 × 3 of type dbl\n\n| 5.7 | 5.7 | 5.70 |\n| 6.3 | 6.3 | 6.30 |\n|  NA | 0.0 | 8.75 |\n| 7.1 | 7.1 | 7.10 |\n| 5.0 | 5.0 | 5.00 |\n| 6.5 | 6.5 | 6.50 |\n|  NA | 0.0 | 8.75 |\n| 4.9 | 4.9 | 4.90 |\n| 6.2 | 6.2 | 6.20 |\n| 4.6 | 4.6 | 4.60 |\n| 7.2 | 7.2 | 7.20 |\n\n",
            "text/html": [
              "<table>\n",
              "<caption>A matrix: 11 × 3 of type dbl</caption>\n",
              "<tbody>\n",
              "\t<tr><td>5.7</td><td>5.7</td><td>5.70</td></tr>\n",
              "\t<tr><td>6.3</td><td>6.3</td><td>6.30</td></tr>\n",
              "\t<tr><td> NA</td><td>0.0</td><td>8.75</td></tr>\n",
              "\t<tr><td>7.1</td><td>7.1</td><td>7.10</td></tr>\n",
              "\t<tr><td>5.0</td><td>5.0</td><td>5.00</td></tr>\n",
              "\t<tr><td>6.5</td><td>6.5</td><td>6.50</td></tr>\n",
              "\t<tr><td> NA</td><td>0.0</td><td>8.75</td></tr>\n",
              "\t<tr><td>4.9</td><td>4.9</td><td>4.90</td></tr>\n",
              "\t<tr><td>6.2</td><td>6.2</td><td>6.20</td></tr>\n",
              "\t<tr><td>4.6</td><td>4.6</td><td>4.60</td></tr>\n",
              "\t<tr><td>7.2</td><td>7.2</td><td>7.20</td></tr>\n",
              "</tbody>\n",
              "</table>\n"
            ]
          },
          "metadata": {
            "tags": []
          }
        }
      ]
    }
  ]
}